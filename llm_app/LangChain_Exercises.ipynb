{
  "nbformat": 4,
  "nbformat_minor": 0,
  "metadata": {
    "colab": {
      "provenance": [],
      "authorship_tag": "ABX9TyNgr/ASSwVMRIxidTs5ryfX",
      "include_colab_link": true
    },
    "kernelspec": {
      "name": "python3",
      "display_name": "Python 3"
    },
    "language_info": {
      "name": "python"
    }
  },
  "cells": [
    {
      "cell_type": "markdown",
      "metadata": {
        "id": "view-in-github",
        "colab_type": "text"
      },
      "source": [
        "<a href=\"https://colab.research.google.com/github/nkthiebaut/guanaco/blob/main/llm_app/LangChain_Exercises.ipynb\" target=\"_parent\"><img src=\"https://colab.research.google.com/assets/colab-badge.svg\" alt=\"Open In Colab\"/></a>"
      ]
    },
    {
      "cell_type": "code",
      "source": [
        " %pip install -qU langchain langchain-openai langchain-community google-search-results"
      ],
      "metadata": {
        "colab": {
          "base_uri": "https://localhost:8080/"
        },
        "id": "lnPBK8BWyMYD",
        "outputId": "cd2ab5eb-c9fc-4d73-cff1-aa7d324a14e6"
      },
      "execution_count": 3,
      "outputs": [
        {
          "output_type": "stream",
          "name": "stdout",
          "text": [
            "\u001b[2K     \u001b[90m━━━━━━━━━━━━━━━━━━━━━━━━━━━━━━━━━━━━━━━━\u001b[0m \u001b[32m974.6/974.6 kB\u001b[0m \u001b[31m10.2 MB/s\u001b[0m eta \u001b[36m0:00:00\u001b[0m\n",
            "\u001b[2K     \u001b[90m━━━━━━━━━━━━━━━━━━━━━━━━━━━━━━━━━━━━━━━━\u001b[0m \u001b[32m2.2/2.2 MB\u001b[0m \u001b[31m27.6 MB/s\u001b[0m eta \u001b[36m0:00:00\u001b[0m\n",
            "\u001b[2K     \u001b[90m━━━━━━━━━━━━━━━━━━━━━━━━━━━━━━━━━━━━━━━━\u001b[0m \u001b[32m315.8/315.8 kB\u001b[0m \u001b[31m14.9 MB/s\u001b[0m eta \u001b[36m0:00:00\u001b[0m\n",
            "\u001b[2K     \u001b[90m━━━━━━━━━━━━━━━━━━━━━━━━━━━━━━━━━━━━━━━━\u001b[0m \u001b[32m125.3/125.3 kB\u001b[0m \u001b[31m7.8 MB/s\u001b[0m eta \u001b[36m0:00:00\u001b[0m\n",
            "\u001b[2K     \u001b[90m━━━━━━━━━━━━━━━━━━━━━━━━━━━━━━━━━━━━━━━━\u001b[0m \u001b[32m325.5/325.5 kB\u001b[0m \u001b[31m22.4 MB/s\u001b[0m eta \u001b[36m0:00:00\u001b[0m\n",
            "\u001b[2K     \u001b[90m━━━━━━━━━━━━━━━━━━━━━━━━━━━━━━━━━━━━━━━━\u001b[0m \u001b[32m1.1/1.1 MB\u001b[0m \u001b[31m17.8 MB/s\u001b[0m eta \u001b[36m0:00:00\u001b[0m\n",
            "\u001b[2K     \u001b[90m━━━━━━━━━━━━━━━━━━━━━━━━━━━━━━━━━━━━━━━━\u001b[0m \u001b[32m49.2/49.2 kB\u001b[0m \u001b[31m4.9 MB/s\u001b[0m eta \u001b[36m0:00:00\u001b[0m\n",
            "\u001b[2K     \u001b[90m━━━━━━━━━━━━━━━━━━━━━━━━━━━━━━━━━━━━━━━━\u001b[0m \u001b[32m145.0/145.0 kB\u001b[0m \u001b[31m15.1 MB/s\u001b[0m eta \u001b[36m0:00:00\u001b[0m\n",
            "\u001b[2K     \u001b[90m━━━━━━━━━━━━━━━━━━━━━━━━━━━━━━━━━━━━━━━━\u001b[0m \u001b[32m75.6/75.6 kB\u001b[0m \u001b[31m7.8 MB/s\u001b[0m eta \u001b[36m0:00:00\u001b[0m\n",
            "\u001b[2K     \u001b[90m━━━━━━━━━━━━━━━━━━━━━━━━━━━━━━━━━━━━━━━━\u001b[0m \u001b[32m77.9/77.9 kB\u001b[0m \u001b[31m4.5 MB/s\u001b[0m eta \u001b[36m0:00:00\u001b[0m\n",
            "\u001b[2K     \u001b[90m━━━━━━━━━━━━━━━━━━━━━━━━━━━━━━━━━━━━━━━━\u001b[0m \u001b[32m58.3/58.3 kB\u001b[0m \u001b[31m4.8 MB/s\u001b[0m eta \u001b[36m0:00:00\u001b[0m\n",
            "\u001b[?25h"
          ]
        }
      ]
    },
    {
      "cell_type": "code",
      "source": [
        "import os\n",
        "from getpass import getpass\n",
        "\n",
        "os.environ[\"OPENAI_API_KEY\"] = getpass(\"Enter your OpenAI API key: \")"
      ],
      "metadata": {
        "id": "79q_a1fOBYWq"
      },
      "execution_count": null,
      "outputs": []
    },
    {
      "cell_type": "markdown",
      "source": [
        "## Code interpreter\n",
        "\n",
        "Use the [Bearly Code Interpreter](https://python.langchain.com/v0.1/docs/integrations/tools/bearly/) to write an LLM App that proposes unit tests for a given function, then run those tests to confirm they're valid code."
      ],
      "metadata": {
        "id": "0RfADLlPxwYl"
      }
    },
    {
      "cell_type": "code",
      "source": [],
      "metadata": {
        "id": "oeAxRMvI0Y6s"
      },
      "execution_count": null,
      "outputs": []
    },
    {
      "cell_type": "markdown",
      "source": [
        "## Custom Tools\n",
        "Follow [this guide](https://python.langchain.com/v0.1/docs/modules/tools/custom_tools/), and create a custom tool that can reverse strings. Use it to have an LLM app be able to reverse some strings in an input text (a known limitation of LLMs due to tokenization)"
      ],
      "metadata": {
        "id": "ST2Z1Ps6xBfa"
      }
    },
    {
      "cell_type": "code",
      "source": [],
      "metadata": {
        "id": "piK_C5VF0Zpw"
      },
      "execution_count": null,
      "outputs": []
    },
    {
      "cell_type": "markdown",
      "source": [
        "## Create a resume customization tool\n",
        "\n",
        "Sign-up on https://serpapi.com/ (requires an email and a phone number) to get access to the Google Jobs API.\n",
        "\n",
        "Create a chain to input your resume, find a job that matches it, and customize the resume to the job."
      ],
      "metadata": {
        "id": "MS9OyE-Axtov"
      }
    },
    {
      "cell_type": "code",
      "source": [
        "from langchain_community.tools.google_jobs import GoogleJobsQueryRun\n",
        "from langchain_community.utilities.google_jobs import GoogleJobsAPIWrapper\n",
        "\n",
        "os.environ[\"SERPAPI_API_KEY\"] = getpass(\"Enter your SerpApi API key: \")\n",
        "tool = GoogleJobsQueryRun(api_wrapper=GoogleJobsAPIWrapper())"
      ],
      "metadata": {
        "colab": {
          "base_uri": "https://localhost:8080/"
        },
        "id": "IX37zVuU0g_c",
        "outputId": "a60aa85c-f2c6-48db-eda0-606b2c6bafd7"
      },
      "execution_count": 11,
      "outputs": [
        {
          "name": "stdout",
          "output_type": "stream",
          "text": [
            "Enter your SerpApi API key: ··········\n"
          ]
        }
      ]
    },
    {
      "cell_type": "code",
      "source": [
        "print(tool.run(\"junior data scientist position in San Francisco\"))"
      ],
      "metadata": {
        "colab": {
          "base_uri": "https://localhost:8080/"
        },
        "id": "ZZQIJ2jK0yn8",
        "outputId": "b231176f-9a7d-49fb-bb9d-81bd5dd3dba9"
      },
      "execution_count": 10,
      "outputs": [
        {
          "output_type": "stream",
          "name": "stdout",
          "text": [
            "\n",
            "_______________________________________________\n",
            "Job Title: Junior Data Scientist\n",
            "Company Name: Control Risks\n",
            "Location:  Anywhere \n",
            "Description: Control Risks is looking for a Data Scientist to support a Fortune 500 client's Investigations Enablement program. The data scientist's role will involve querying and analyzing large amounts of complex and disparate data to derive insights, interpret business needs and create data solutions which help solve for issues both known and unknown.\n",
            "\n",
            "Responsibilities include, but are not limited to...\n",
            "• Investigative data analysis, pulling and reconciling data across multiple systems.\n",
            "• Building SOPs for gathering data and searching specific systems.\n",
            "• Regular control monitoring report resolutions.\n",
            "• Trade quality control reviews and enhancements.\n",
            "• Review and analyze potential sanctions hits while maintaining compliance requirements.\n",
            "• Use individual problem-solving and analytical skills to authenticate customers.\n",
            "\n",
            "Requirements\n",
            "• 0-3 years of experience in Data Analytics, Data Science, or Investigative Analysis.\n",
            "• Excellent written and verbal communication skills.\n",
            "• Strong attention to detail and organizational skills.\n",
            "• The ability to adapt in a dynamic and fast-paced environment.\n",
            "• MS SQL Server based analysis skills.\n",
            "• ETL, Complex Joins, Functions, Stored Procedures, Loops.\n",
            "• Experience with data visualization tools (Power BI, Tableau etc.).\n",
            "• Experience collecting and analyzing data to detect deficient controls, fraud, or non-compliance with laws, regulations, and management policies.\n",
            "• Experience assessing data integrity (completeness, accuracy, explaining impact of data integrity on decisions/assumptions).\n",
            "• Experience examining and evaluating processes and information systems, recommending controls to ensure reliability and data integrity.\n",
            "\n",
            "Benefits\n",
            "• Control Risks offers a competitively positioned compensation and benefits package that is transparent and summarized in the full job offer.\n",
            "• We operate a discretionary bonus scheme that incentivizes and rewards individuals based on company and individual performance.\n",
            "\n",
            "The base salary range for this position in California is $75,000-$80,000 per year. Exact compensation offered may vary depending on job-related knowledge, skills, and experience. This information is provided per California SB 1162\n",
            "_______________________________________________\n",
            "\n",
            "\n"
          ]
        }
      ]
    },
    {
      "cell_type": "code",
      "source": [],
      "metadata": {
        "id": "ZJEpILhR0-nX"
      },
      "execution_count": null,
      "outputs": []
    }
  ]
}