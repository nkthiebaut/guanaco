{
  "cells": [
    {
      "cell_type": "markdown",
      "metadata": {
        "id": "xHIJdzCj7Ip7"
      },
      "source": [
        "# Guanaco: toy Llama3 implementation\n",
        "\n",
        "In this notebook, we'll implement the Llama3 model architecture brick by brick, starting\n",
        "from a simple model that averages character embeddings that we'll apply to simple morse\n",
        "code strings (vocabulary size 3). We'll then add:\n",
        "- Rotary Position Encodings (RoPE)\n",
        "- Self-attention\n",
        "- The SwiGLU activation function\n",
        "- The full self-attention block with RMSNorm\n",
        "\n",
        "Once ready, we'll train the model on the TinyStories dataset, with text tokenized at the\n",
        "byte level.\n",
        "\n",
        "Note that the actual Llama3 implementation:\n",
        "- uses the [Tiktoken tokenizer](https://github.com/meta-llama/llama3/blob/main/llama/tokenizer.py)\n",
        "- has Key-Value caching\n",
        "- uses Grouped query attention"
      ]
    },
    {
      "cell_type": "code",
      "execution_count": null,
      "metadata": {
        "id": "PINwp-NRA_j_"
      },
      "outputs": [],
      "source": [
        "%pip install -q datasets einops lightning"
      ]
    },
    {
      "cell_type": "markdown",
      "metadata": {
        "id": "v5kzBrnHQwMx"
      },
      "source": [
        "## Modeling imports"
      ]
    },
    {
      "cell_type": "code",
      "execution_count": null,
      "metadata": {
        "id": "8-G4m73YQ0HQ"
      },
      "outputs": [],
      "source": [
        "import math\n",
        "import torch\n",
        "import torch.nn.functional as F\n",
        "from torch import nn\n",
        "\n",
        "from einops import rearrange\n",
        "import lightning as L\n",
        "\n",
        "device = \"cuda\" if torch.cuda.is_available() else \"cpu\""
      ]
    },
    {
      "cell_type": "code",
      "execution_count": null,
      "metadata": {
        "id": "t4dw-Z3fK4_s"
      },
      "outputs": [],
      "source": [
        "def compute_complex_rotations(T, C):\n",
        "    c_values = torch.arange(1, C/2 + 1)\n",
        "    thetas = 10000 ** (2 * (c_values - 1) / C)  # Shape (C/2,)\n",
        "    timesteps = torch.arange(T)  # Shape (T,)\n",
        "\n",
        "    # Angular frequencies for each (t, c) pairs\n",
        "    omegas = torch.outer(timesteps, thetas)  # Shape (T, C/2)\n",
        "\n",
        "    # Turn those into complex numbers\n",
        "    z = torch.polar(torch.ones_like(omegas), omegas)\n",
        "    return z\n",
        "\n",
        "\n",
        "def apply_rope(q, complex_rotations):\n",
        "    q_pairs = rearrange(q, 'B T (C p) -> B T C p', p=2)\n",
        "    q_complex = torch.view_as_complex(q_pairs)\n",
        "    q_rotated = q_complex * complex_rotations\n",
        "    q_rotated = torch.view_as_real(q_rotated)  # Back to real numbers\n",
        "    q_rotated = rearrange(q_rotated, 'B T C p -> B T (C p)')\n",
        "    return q_rotated"
      ]
    },
    {
      "cell_type": "code",
      "execution_count": null,
      "metadata": {
        "colab": {
          "base_uri": "https://localhost:8080/"
        },
        "id": "qK90XH3VB6IN",
        "outputId": "9222e245-a494-4035-fd79-184e873b0715"
      },
      "outputs": [
        {
          "output_type": "execute_result",
          "data": {
            "text/plain": [
              "torch.Size([4, 6, 4])"
            ]
          },
          "metadata": {},
          "execution_count": 4
        }
      ],
      "source": [
        "class SelfAttention(nn.Module):\n",
        "    def __init__(self, emb_dim=64, head_dim=64):\n",
        "        super().__init__()\n",
        "        self.head_dim = head_dim\n",
        "        self.Wq = nn.Linear(emb_dim, head_dim, bias=False)\n",
        "        self.Wk = nn.Linear(emb_dim, head_dim, bias=False)\n",
        "        self.Wv = nn.Linear(emb_dim, head_dim, bias=False)\n",
        "\n",
        "    def forward(self, x, complex_rotations, mask):\n",
        "        # Compute Queries, Keys, and Values from embeddings\n",
        "        Q = self.Wq(x)\n",
        "        K = self.Wk(x)\n",
        "        V = self.Wv(x)\n",
        "\n",
        "        # Apply RoPE to queries and keys\n",
        "        Q = apply_rope(Q, complex_rotations)\n",
        "        K = apply_rope(K, complex_rotations)\n",
        "\n",
        "        attention = (Q @ K.mT / math.sqrt(self.head_dim)).to(x.device)\n",
        "\n",
        "        scores = F.softmax(attention + mask, dim=-1)\n",
        "        return scores @ V\n",
        "\n",
        "B, T, C = 4, 6, 8\n",
        "x = torch.randn(B, T, C)\n",
        "complex_rotations = compute_complex_rotations(T, C//2)\n",
        "mask = torch.full((T, T), float(\"-inf\"))\n",
        "mask = torch.triu(mask, diagonal=1)\n",
        "sa = SelfAttention(C, C//2)\n",
        "sa(x, complex_rotations, mask).shape"
      ]
    },
    {
      "cell_type": "code",
      "execution_count": null,
      "metadata": {
        "id": "u0vybim74lAf"
      },
      "outputs": [],
      "source": [
        "class FeedForward(nn.Module):\n",
        "    def __init__(self, emb_dims: int, hidden_dims: int):\n",
        "        super().__init__()\n",
        "        self.fc1 = nn.Linear(emb_dims, hidden_dims, bias=False)\n",
        "        self.fc2 = nn.Linear(emb_dims, hidden_dims, bias=False)\n",
        "        self.fc3 = nn.Linear(hidden_dims, emb_dims, bias=False)\n",
        "\n",
        "    def forward(self, x: torch.tensor) -> torch.tensor:\n",
        "        gate = F.silu(self.fc1(x) )  # Silu(x) = x * sigmoid(x)\n",
        "        x = self.fc2(x)\n",
        "        x = x * gate\n",
        "        x = self.fc3(x)\n",
        "        return x"
      ]
    },
    {
      "cell_type": "code",
      "execution_count": null,
      "metadata": {
        "colab": {
          "base_uri": "https://localhost:8080/"
        },
        "id": "2lFwMl_mL2MQ",
        "outputId": "d46ced08-772a-4a5f-aeed-8205a915840a"
      },
      "outputs": [
        {
          "output_type": "execute_result",
          "data": {
            "text/plain": [
              "tensor([[[-0.3956, -1.6693, -0.1431,  0.4340,  0.0379,  0.8714, -1.9350,\n",
              "           0.5856],\n",
              "         [-0.1804, -0.5587, -0.3852, -1.2573, -0.3222,  2.3822, -0.0231,\n",
              "          -0.3837],\n",
              "         [ 1.8508,  1.6662,  0.6516,  0.1083, -0.1892, -0.3640, -0.0362,\n",
              "           1.0920],\n",
              "         [-0.5574,  0.3649,  1.8399,  0.1525,  0.5354,  1.0126,  0.2384,\n",
              "          -1.6670],\n",
              "         [-1.4708,  1.0690,  0.3660, -0.1334, -1.3622,  0.4177, -1.4851,\n",
              "          -0.5541],\n",
              "         [ 1.4139,  1.4970,  0.4411,  0.2976, -0.0950,  0.6230, -1.7535,\n",
              "           0.0713]],\n",
              "\n",
              "        [[ 0.4707, -0.7305, -1.0720, -0.5796, -0.5046,  1.0500, -1.8574,\n",
              "          -0.9761],\n",
              "         [ 0.3643, -0.1469,  0.2433,  1.3644, -0.2506, -0.7742,  2.1016,\n",
              "          -0.9196],\n",
              "         [ 1.3076, -0.0627,  1.2623, -0.3011,  0.3594, -0.7715, -0.2176,\n",
              "           1.9572],\n",
              "         [-0.5783,  0.3152, -0.0031, -1.3697, -2.3325, -0.1721, -0.3228,\n",
              "           0.3401],\n",
              "         [ 0.3280, -1.3511,  1.7302, -0.8761, -0.9936, -0.6455,  0.4007,\n",
              "           0.8610],\n",
              "         [-0.0502, -2.0871,  1.4647,  0.2715, -0.4438, -0.8427,  0.0543,\n",
              "           0.7159]]], device='cuda:0', grad_fn=<SliceBackward0>)"
            ]
          },
          "metadata": {},
          "execution_count": 6
        }
      ],
      "source": [
        "from einops import reduce\n",
        "\n",
        "class RMSNorm(nn.Module):\n",
        "    def __init__(self, emb_dim: int, eps: float = 1e-6):\n",
        "        super().__init__()\n",
        "        self.eps = eps\n",
        "        self.weight = nn.Parameter(torch.ones(emb_dim))\n",
        "\n",
        "    def forward(self, x):\n",
        "        # Note: explicit casting to fp32 to avoid numerical underflow\n",
        "        x_fp32 = x.to(torch.float32)\n",
        "        mean_square = reduce(x_fp32**2, '... d -> ... 1', 'mean')\n",
        "        inverse_rms = torch.rsqrt(mean_square + self.eps)\n",
        "        inverse_rms = inverse_rms.type_as(x)  # For fp16 compatibility\n",
        "        return self.weight * x * inverse_rms\n",
        "\n",
        "x = torch.randn(4, 6, 8).to(device)\n",
        "RMSNorm(8).to(device)(x)[:2]"
      ]
    },
    {
      "cell_type": "code",
      "execution_count": null,
      "metadata": {
        "colab": {
          "base_uri": "https://localhost:8080/"
        },
        "id": "4920OEjBAmSI",
        "outputId": "462e60dd-ce10-4656-c9f4-67ceb80bd53d"
      },
      "outputs": [
        {
          "output_type": "execute_result",
          "data": {
            "text/plain": [
              "torch.Size([4, 6, 8])"
            ]
          },
          "metadata": {},
          "execution_count": 7
        }
      ],
      "source": [
        "class MultiHeadSelfAttentionBlock(nn.Module):\n",
        "    def __init__(self, emb_dim=64, n_heads=4):\n",
        "        super().__init__()\n",
        "        assert emb_dim % n_heads == 0\n",
        "        self.head_dim = emb_dim // n_heads\n",
        "\n",
        "\n",
        "        self.att_norm = RMSNorm(emb_dim)\n",
        "        self.heads = nn.ModuleList([SelfAttention(emb_dim, self.head_dim)] * n_heads)\n",
        "        self.projection = nn.Linear(emb_dim, emb_dim)\n",
        "\n",
        "        self.ffn_norm = RMSNorm(emb_dim)\n",
        "        self.feed_forward = FeedForward(emb_dim, 4*emb_dim)\n",
        "\n",
        "\n",
        "    def forward(self, x, complex_rotations, mask):\n",
        "        x = self.att_norm(x)\n",
        "        x = x + torch.cat([h(x, complex_rotations, mask) for h in self.heads], dim=-1)\n",
        "        x = self.ffn_norm(x)\n",
        "        x = x + self.feed_forward(x)\n",
        "        return x\n",
        "\n",
        "# Test:\n",
        "B, T, C = 4, 6, 8\n",
        "n_heads = 2\n",
        "\n",
        "x = torch.randn(B, T, C)\n",
        "complex_rotations = compute_complex_rotations(T, C // n_heads)\n",
        "mask = torch.full((T, T), float(\"-inf\"))\n",
        "mask = torch.triu(mask, diagonal=1)\n",
        "\n",
        "mhsa = MultiHeadSelfAttentionBlock(C, n_heads)\n",
        "mhsa(x, complex_rotations, mask).shape"
      ]
    },
    {
      "cell_type": "code",
      "execution_count": null,
      "metadata": {
        "colab": {
          "base_uri": "https://localhost:8080/"
        },
        "id": "li2QMQrq1efs",
        "outputId": "52eb6e31-5ecf-42c2-95b1-2035cf232312"
      },
      "outputs": [
        {
          "output_type": "execute_result",
          "data": {
            "text/plain": [
              "tensor([[[ 0.8426,  0.6673,  0.6552],\n",
              "         [-0.4229, -0.5656,  0.1760],\n",
              "         [ 0.8213, -0.3349,  0.9779]]], device='cuda:0',\n",
              "       grad_fn=<ViewBackward0>)"
            ]
          },
          "metadata": {},
          "execution_count": 8
        }
      ],
      "source": [
        "class Guanaco(nn.Module):\n",
        "    def __init__(self, vocab_size=3, emb_dim=64, n_heads=4, n_layers=2, max_len=128):\n",
        "        super().__init__()\n",
        "        self.embeddings = nn.Embedding(vocab_size, emb_dim)\n",
        "        self.emb_dim = emb_dim\n",
        "        self.max_len = max_len\n",
        "\n",
        "        self.blocks = nn.ModuleList(\n",
        "            [MultiHeadSelfAttentionBlock(emb_dim, n_heads)]*n_layers\n",
        "        )\n",
        "\n",
        "        self.output_norm = RMSNorm(emb_dim)\n",
        "        self.output_layer = nn.Linear(emb_dim, vocab_size)\n",
        "\n",
        "        complex_rotations = compute_complex_rotations(max_len, emb_dim // n_heads)\n",
        "        self.register_buffer('complex_rotations', complex_rotations)\n",
        "\n",
        "        mask = torch.triu(torch.full((max_len, max_len), float(\"-inf\")), diagonal=1)\n",
        "        self.register_buffer('mask', mask)\n",
        "\n",
        "\n",
        "    def forward(self, token_ids):\n",
        "        token_ids = token_ids[:, -self.max_len:]\n",
        "        B, T = token_ids.shape\n",
        "\n",
        "        complex_rotations = self.complex_rotations[:T, :]\n",
        "        mask = self.mask[:T, :T]\n",
        "\n",
        "        x = self.embeddings(token_ids) # (B,T,C)\n",
        "        # x = self.blocks(x, complex_rotations, mask)\n",
        "        for block in self.blocks:\n",
        "            x = block(x, complex_rotations, mask) # (B,T,C)\n",
        "        x = self.output_norm(x) # (B,T,C)\n",
        "        logits = self.output_layer(x) # (B,T,V)\n",
        "        return logits\n",
        "\n",
        "model = Guanaco().to(device)\n",
        "x = torch.tensor([[1, 2, 0]]).to(device)\n",
        "model(x)\n"
      ]
    },
    {
      "cell_type": "code",
      "execution_count": null,
      "metadata": {
        "id": "tSLXTNa7DqQL"
      },
      "outputs": [],
      "source": [
        "class LightningModel(L.LightningModule):\n",
        "    def __init__(self, model, vocab):\n",
        "        super().__init__()\n",
        "        self.model = model\n",
        "        self.vocab = vocab\n",
        "\n",
        "    def forward(self, inputs: torch.tensor) -> torch.tensor:\n",
        "        return self.model(inputs)\n",
        "\n",
        "    def training_step(self, tokens: torch.tensor) -> float:\n",
        "        inputs = tokens[:, :-1]\n",
        "        targets = tokens[:, 1:]\n",
        "\n",
        "        logits = self.forward(inputs)\n",
        "\n",
        "        logits = rearrange(logits, 'B T C -> (B T) C')\n",
        "        targets = rearrange(targets, 'B T -> (B T)')\n",
        "\n",
        "        loss = F.cross_entropy(logits, targets)\n",
        "        self.log(\n",
        "            \"train_loss\", loss, prog_bar=True, logger=True, on_step=True, on_epoch=True\n",
        "        )\n",
        "        return loss\n",
        "\n",
        "    def configure_optimizers(self):\n",
        "        optimizer = torch.optim.AdamW(self.parameters(), lr=1e-3)\n",
        "        return optimizer"
      ]
    },
    {
      "cell_type": "markdown",
      "metadata": {
        "id": "9xLOEusjdk9f"
      },
      "source": [
        "## TinyStories dataset"
      ]
    },
    {
      "cell_type": "code",
      "execution_count": null,
      "metadata": {
        "colab": {
          "base_uri": "https://localhost:8080/"
        },
        "id": "Ibm0iW4seNxO",
        "outputId": "c859d34e-d24a-4f9d-892d-7d554a4f370d"
      },
      "outputs": [
        {
          "output_type": "stream",
          "name": "stderr",
          "text": [
            "/usr/local/lib/python3.10/dist-packages/huggingface_hub/utils/_token.py:89: UserWarning: \n",
            "The secret `HF_TOKEN` does not exist in your Colab secrets.\n",
            "To authenticate with the Hugging Face Hub, create a token in your settings tab (https://huggingface.co/settings/tokens), set it as secret in your Google Colab and restart your session.\n",
            "You will be able to reuse this secret in all of your notebooks.\n",
            "Please note that authentication is recommended but still optional to access public models or datasets.\n",
            "  warnings.warn(\n",
            "Repo card metadata block was not found. Setting CardData to empty.\n",
            "WARNING:huggingface_hub.repocard:Repo card metadata block was not found. Setting CardData to empty.\n"
          ]
        },
        {
          "output_type": "execute_result",
          "data": {
            "text/plain": [
              "DatasetDict({\n",
              "    train: Dataset({\n",
              "        features: ['text'],\n",
              "        num_rows: 2119719\n",
              "    })\n",
              "    validation: Dataset({\n",
              "        features: ['text'],\n",
              "        num_rows: 21990\n",
              "    })\n",
              "})"
            ]
          },
          "metadata": {},
          "execution_count": 10
        }
      ],
      "source": [
        "from datasets import load_dataset\n",
        "\n",
        "dataset = load_dataset(\"roneneldan/TinyStories\")\n",
        "dataset.set_format(type=\"torch\", columns=[\"text\"])\n",
        "dataset"
      ]
    },
    {
      "cell_type": "markdown",
      "metadata": {
        "id": "aBPaz6aj7C7l"
      },
      "source": [
        "### Tokenization\n",
        "\n",
        "#### Custom byte level-tokenization"
      ]
    },
    {
      "cell_type": "code",
      "execution_count": null,
      "metadata": {
        "colab": {
          "base_uri": "https://localhost:8080/"
        },
        "id": "fyA_x0dI5LlV",
        "outputId": "d8b84de8-5bc7-48da-88a5-50d74542d87a"
      },
      "outputs": [
        {
          "output_type": "stream",
          "name": "stdout",
          "text": [
            "e -> [101] (binary representation ['01100101'])\n",
            "é -> [195, 169] (binary representation ['11000011', '10101001'])\n",
            "落語家 -> [232, 144, 189, 232, 170, 158, 229, 174, 182] (binary representation ['11101000', '10010000', '10111101', '11101000', '10101010', '10011110', '11100101', '10101110', '10110110'])\n",
            "Hello -> [72, 101, 108, 108, 111] (binary representation ['01001000', '01100101', '01101100', '01101100', '01101111'])\n"
          ]
        }
      ],
      "source": [
        "def str_to_code_units(text: str) -> list[int]:\n",
        "  \"\"\"Converts a string to a bytes object using UTF-8 encoding.\"\"\"\n",
        "  return [code_unit for code_unit in text.encode('utf-8')]\n",
        "\n",
        "def code_units_to_str(token_ids: list[int]) -> str:\n",
        "  \"\"\"Converts a bytes object to a string using UTF-8 encoding.\"\"\"\n",
        "  return bytes(token_ids).decode('utf-8', errors=\"replace\")\n",
        "\n",
        "def bytes_to_bits(integers: list[int]) -> list[str]:\n",
        "  \"\"\"Converts a list of decimal integers a list of bits.\"\"\"\n",
        "  return [bin(i)[2:].zfill(8) for i in integers]\n",
        "\n",
        "\n",
        "for example in [\"e\", \"é\", \"落語家\", \"Hello\"]:\n",
        "    tokens = str_to_code_units(example)\n",
        "    print(f\"{example} -> {tokens} (binary representation {bytes_to_bits(tokens)})\")"
      ]
    },
    {
      "cell_type": "code",
      "execution_count": null,
      "metadata": {
        "id": "-0Tq0JFRmz83"
      },
      "outputs": [],
      "source": [
        "vocab = \" abcdefghijklmnopqrstuvwxyz,.\"\n",
        "\n",
        "special_tokens = [\"<pad>\", \"<unk>\"]\n",
        "\n",
        "vocab = special_tokens + list(vocab)\n",
        "vocab_size = len(vocab)\n",
        "\n",
        "string_to_index = {string: i for i, string in enumerate(vocab)}\n",
        "index_to_string = {i: string for i, string in enumerate(vocab)}"
      ]
    },
    {
      "cell_type": "code",
      "execution_count": null,
      "metadata": {
        "colab": {
          "base_uri": "https://localhost:8080/",
          "height": 53
        },
        "id": "dsdqIxn3s-ac",
        "outputId": "4216dafc-bcbf-4c40-e631-6bd21e228c41"
      },
      "outputs": [
        {
          "output_type": "stream",
          "name": "stdout",
          "text": [
            "[195, 169, 32, 97]\n"
          ]
        },
        {
          "output_type": "execute_result",
          "data": {
            "text/plain": [
              "'é a'"
            ],
            "application/vnd.google.colaboratory.intrinsic+json": {
              "type": "string"
            }
          },
          "metadata": {},
          "execution_count": 13
        }
      ],
      "source": [
        "def tokenize(text: str) -> list[int]:\n",
        "    # return [string_to_index.get(string, 1) for string in text]\n",
        "    return str_to_code_units(text)\n",
        "\n",
        "def detokenize(token_ids: list[int]) -> str:\n",
        "    # return \"\".join([index_to_string[idx] for idx in token_ids])\n",
        "    return code_units_to_str(token_ids)\n",
        "\n",
        "print(tokenize(\"é a\"))\n",
        "detokenize(tokenize(\"é a\"))"
      ]
    },
    {
      "cell_type": "code",
      "execution_count": null,
      "metadata": {
        "colab": {
          "base_uri": "https://localhost:8080/"
        },
        "id": "1XADFeA4Vc21",
        "outputId": "d9b4eff0-49c7-42f9-80d9-55c5f7521ed3"
      },
      "outputs": [
        {
          "output_type": "execute_result",
          "data": {
            "text/plain": [
              "tensor([ 79, 110,  99, 101,  32, 117, 112, 111, 110,  32,  97,  32, 116, 105,\n",
              "        109, 101,  44,  32, 116, 104, 101, 114, 101,  32, 119,  97, 115,  32,\n",
              "         97,  32,  99, 108, 101, 118, 101, 114,  32,  98, 117, 110, 110, 121,\n",
              "         32, 110,  97, 109, 101, 100,  32,  66, 101, 110, 110, 121,  46,  32,\n",
              "         72, 101,  32, 108, 111, 118, 101, 100,  32, 116, 111,  32, 104, 111,\n",
              "        112,  32,  97, 114, 111, 117, 110, 100,  32, 105, 110,  32, 116, 104,\n",
              "        101,  32, 115, 112, 114, 105, 110, 103, 116, 105, 109, 101,  44,  32,\n",
              "        119, 104, 101, 110,  32, 116, 104, 101,  32, 102, 108, 111, 119, 101,\n",
              "        114, 115,  32, 119, 101, 114, 101,  32,  98, 108, 111, 111, 109, 105,\n",
              "        110, 103])"
            ]
          },
          "metadata": {},
          "execution_count": 14
        }
      ],
      "source": [
        "import torch\n",
        "from torch.utils.data import DataLoader\n",
        "from torch.nn.utils.rnn import pad_sequence\n",
        "\n",
        "context_length = 128\n",
        "batch_size= 1024\n",
        "\n",
        "def collate_fn(batch):\n",
        "    token_ids = [torch.tensor(tokenize(b[\"text\"])[:context_length]) for b in batch]\n",
        "    token_ids = pad_sequence(token_ids, batch_first=True)\n",
        "    return token_ids\n",
        "\n",
        "train_dataloader = DataLoader(\n",
        "    dataset[\"train\"], batch_size=batch_size, shuffle=True, collate_fn=collate_fn,\n",
        "    num_workers=4, pin_memory=True, persistent_workers=True\n",
        ")\n",
        "val_dataloader = DataLoader(\n",
        "    dataset[\"validation\"], batch_size=batch_size, shuffle=False, collate_fn=collate_fn,\n",
        "    num_workers=4,\n",
        ")\n",
        "next(iter(train_dataloader))[0]"
      ]
    },
    {
      "cell_type": "markdown",
      "metadata": {
        "id": "w1bL5oXXzmSQ"
      },
      "source": [
        "## Exercise: train our TinyLlama model on the TinyStories dataset\n",
        "\n",
        "- (make sure you're using a GPU)\n",
        "- Create a training and a validation set. Train the small model. Do you see indications of learning? Overfitting?\n",
        "- Increase the parameter count: number of layers, embedding dimensions, ... What is the impact on performance.\n",
        "- Run inference with your model on different inputs"
      ]
    },
    {
      "cell_type": "code",
      "execution_count": 15,
      "metadata": {
        "colab": {
          "base_uri": "https://localhost:8080/",
          "height": 708,
          "referenced_widgets": [
            "ae356247a911494ea2dcf034b9a38378",
            "de7df0c0dd6d41089663b95b9cd96c8f",
            "a4ed5786235f4a199eb969397fdbac9a",
            "be6276bb98454d5287465d1932ac8097",
            "0af78f5e7d0945a0a839854aa6cb0c29",
            "b9f31b72b2bf44ddadc2395bb22ac16c",
            "2cb760f8816d4c4b925c9c5b00be1ff0",
            "5594154f892d4764934a7954e18cd273",
            "d4627d6eae9843cca10d3d4ecbe1c827",
            "a94ac6fa40f24877a022b08ded4406bf",
            "0e34c22a8dbe4c9d85a2e895f3757c17",
            "5c7709af1ed040b6b5857a41c41a1cb4",
            "bb4202cc4dec44fbbbe6224158ed316a",
            "16018d08a1fd4bf8aacd330f8579bae0",
            "7a1bf48f07834360b77b49ff14962f6e",
            "19526466bba7456a951d08eb13352c87",
            "9c759e89b454434b871d2a865b2d361c",
            "5a4ede9d0d8740b8a659db2982c591e8",
            "94afb2dd5aed42658697807acb2515e2",
            "1c290aec8bf04b51acf951635dd552f2",
            "954a0cb0086947bebc403000e1d84b87",
            "fb3f9b62179b46cd971c7d09d96f8602",
            "9cf834efa72b41ae82b1f02cc2cfd638",
            "d24b49d935224f8da9b1d12f4172dd72",
            "87794689d3e54365a12b309ee8b73c34",
            "30b5dcfe057e40cab9533c2ff2b60c5a",
            "6f344401a43f46d293b6ab0646225687",
            "fd1ef077693347c6a572f954af9b1860",
            "abafec5298e6418d82dec31ca333a0a6",
            "5404313892134d688e7ae860cdce8422",
            "a1ddc4ad1ff84462a85029e246276630",
            "abd5b5af81624821976294ff94154866",
            "030903d548854b3b99a3f649eb793860",
            "288ecb73c6fa46e0910c0ef2701f7c87",
            "624827df4cba40a7b401f12c14dab533",
            "f1fdb30b8c3b43bb99c265ab6bff4da3",
            "f3660b03f3e74bcdb38e76a26b73a68f",
            "09587e337195428fa8b705644e1fd65f",
            "04f4614d113d4904804578e828b71149",
            "0f9e4af33d99431d80734e0cb6da26aa",
            "20407cc784b146eb91cda2b86149ea65",
            "e96805db4b744eb4abb4a6fb25fb0c58",
            "85f8154caee3460087b7ad066c4398a4",
            "d1fa0c2f33ec4af29df2b4380f032633"
          ]
        },
        "id": "TueFyZSFW31u",
        "outputId": "f2c3a67c-2aa5-415b-b50a-1a6f53362486"
      },
      "outputs": [
        {
          "metadata": {
            "tags": null
          },
          "name": "stderr",
          "output_type": "stream",
          "text": [
            "INFO: GPU available: True (cuda), used: True\n",
            "INFO:lightning.pytorch.utilities.rank_zero:GPU available: True (cuda), used: True\n",
            "INFO: TPU available: False, using: 0 TPU cores\n",
            "INFO:lightning.pytorch.utilities.rank_zero:TPU available: False, using: 0 TPU cores\n",
            "INFO: IPU available: False, using: 0 IPUs\n",
            "INFO:lightning.pytorch.utilities.rank_zero:IPU available: False, using: 0 IPUs\n",
            "INFO: HPU available: False, using: 0 HPUs\n",
            "INFO:lightning.pytorch.utilities.rank_zero:HPU available: False, using: 0 HPUs\n",
            "INFO: You are using a CUDA device ('NVIDIA A100-SXM4-40GB') that has Tensor Cores. To properly utilize them, you should set `torch.set_float32_matmul_precision('medium' | 'high')` which will trade-off precision for performance. For more details, read https://pytorch.org/docs/stable/generated/torch.set_float32_matmul_precision.html#torch.set_float32_matmul_precision\n",
            "INFO:lightning.pytorch.utilities.rank_zero:You are using a CUDA device ('NVIDIA A100-SXM4-40GB') that has Tensor Cores. To properly utilize them, you should set `torch.set_float32_matmul_precision('medium' | 'high')` which will trade-off precision for performance. For more details, read https://pytorch.org/docs/stable/generated/torch.set_float32_matmul_precision.html#torch.set_float32_matmul_precision\n",
            "INFO: LOCAL_RANK: 0 - CUDA_VISIBLE_DEVICES: [0]\n",
            "INFO:lightning.pytorch.accelerators.cuda:LOCAL_RANK: 0 - CUDA_VISIBLE_DEVICES: [0]\n",
            "INFO: \n",
            "  | Name  | Type    | Params\n",
            "----------------------------------\n",
            "0 | model | Guanaco | 4.5 M \n",
            "----------------------------------\n",
            "4.5 M     Trainable params\n",
            "0         Non-trainable params\n",
            "4.5 M     Total params\n",
            "17.835    Total estimated model params size (MB)\n",
            "INFO:lightning.pytorch.callbacks.model_summary:\n",
            "  | Name  | Type    | Params\n",
            "----------------------------------\n",
            "0 | model | Guanaco | 4.5 M \n",
            "----------------------------------\n",
            "4.5 M     Trainable params\n",
            "0         Non-trainable params\n",
            "4.5 M     Total params\n",
            "17.835    Total estimated model params size (MB)\n"
          ]
        },
        {
          "data": {
            "application/vnd.jupyter.widget-view+json": {
              "model_id": "ae356247a911494ea2dcf034b9a38378",
              "version_major": 2,
              "version_minor": 0
            },
            "text/plain": [
              "Sanity Checking: |          | 0/? [00:00<?, ?it/s]"
            ]
          },
          "metadata": {},
          "output_type": "display_data"
        },
        {
          "metadata": {
            "tags": null
          },
          "name": "stderr",
          "output_type": "stream",
          "text": [
            "/usr/lib/python3.10/multiprocessing/popen_fork.py:66: RuntimeWarning: os.fork() was called. os.fork() is incompatible with multithreaded code, and JAX is multithreaded, so this will likely lead to a deadlock.\n",
            "  self.pid = os.fork()\n"
          ]
        },
        {
          "data": {
            "application/vnd.jupyter.widget-view+json": {
              "model_id": "5c7709af1ed040b6b5857a41c41a1cb4",
              "version_major": 2,
              "version_minor": 0
            },
            "text/plain": [
              "Training: |          | 0/? [00:00<?, ?it/s]"
            ]
          },
          "metadata": {},
          "output_type": "display_data"
        },
        {
          "output_type": "display_data",
          "data": {
            "text/plain": [
              "Validation: |          | 0/? [00:00<?, ?it/s]"
            ],
            "application/vnd.jupyter.widget-view+json": {
              "version_major": 2,
              "version_minor": 0,
              "model_id": "9cf834efa72b41ae82b1f02cc2cfd638"
            }
          },
          "metadata": {}
        },
        {
          "output_type": "display_data",
          "data": {
            "text/plain": [
              "Validation: |          | 0/? [00:00<?, ?it/s]"
            ],
            "application/vnd.jupyter.widget-view+json": {
              "version_major": 2,
              "version_minor": 0,
              "model_id": "288ecb73c6fa46e0910c0ef2701f7c87"
            }
          },
          "metadata": {}
        },
        {
          "output_type": "stream",
          "name": "stderr",
          "text": [
            "INFO: `Trainer.fit` stopped: `max_epochs=2` reached.\n",
            "INFO:lightning.pytorch.utilities.rank_zero:`Trainer.fit` stopped: `max_epochs=2` reached.\n"
          ]
        }
      ],
      "source": [
        "class GuanacoModule(L.LightningModule):\n",
        "    def __init__(self, model, learning_rate=1e-4):\n",
        "        super().__init__()\n",
        "        self.model = model\n",
        "        self.learning_rate = learning_rate\n",
        "\n",
        "    def forward(self, inputs: torch.tensor) -> torch.tensor:\n",
        "        return self.model(inputs)\n",
        "\n",
        "    def training_step(self, tokens: torch.tensor) -> float:\n",
        "        inputs = tokens[:, :-1]\n",
        "        targets = tokens[:, 1:]\n",
        "\n",
        "        logits = self.forward(inputs)\n",
        "\n",
        "        logits = rearrange(logits, 'B T C -> (B T) C')\n",
        "        targets = rearrange(targets, 'B T -> (B T)')\n",
        "\n",
        "        loss = F.cross_entropy(logits, targets)\n",
        "        self.log(\n",
        "            \"train_loss\", loss, prog_bar=True, logger=True, on_step=True, on_epoch=True\n",
        "        )\n",
        "        return loss\n",
        "\n",
        "    def validation_step(self, tokens: torch.tensor) -> float:\n",
        "        loss = self.training_step(tokens)\n",
        "        self.log(\n",
        "            \"val_loss\",\n",
        "            loss,\n",
        "            on_step=True,\n",
        "            on_epoch=True,\n",
        "            prog_bar=True,\n",
        "            logger=True,\n",
        "            sync_dist=True,\n",
        "        )\n",
        "        return loss\n",
        "\n",
        "    def configure_optimizers(self):\n",
        "        optimizer = torch.optim.AdamW(self.parameters(), lr=self.learning_rate)\n",
        "        return optimizer\n",
        "\n",
        "model = GuanacoModule(\n",
        "    Guanaco(vocab_size=256, emb_dim=512, n_heads=1, n_layers=1, max_len=128),\n",
        "    learning_rate=1e-3\n",
        ")\n",
        "\n",
        "trainer = L.Trainer(max_epochs=2, devices=1)\n",
        "# Development trick: use overfit_batches=0.01 to make sure you can overfit small samples\n",
        "trainer.fit(model, train_dataloader, val_dataloader)"
      ]
    },
    {
      "cell_type": "markdown",
      "metadata": {
        "id": "Tl0KI_VjvXDx"
      },
      "source": [
        "## Generate stories with trained model"
      ]
    },
    {
      "cell_type": "code",
      "execution_count": 18,
      "metadata": {
        "id": "NI63WkGJddX_",
        "colab": {
          "base_uri": "https://localhost:8080/",
          "height": 53
        },
        "outputId": "d36efcc3-986e-48ba-bd83-f9cbaf9612e7"
      },
      "outputs": [
        {
          "output_type": "execute_result",
          "data": {
            "text/plain": [
              "'Once upon a time, there was a little girl named Lily. She loved to play outside in the sunshine. One day, she saw a big red ball with her mommy and daddy. One day, Lily wanted to play outside and said her to help her'"
            ],
            "application/vnd.google.colaboratory.intrinsic+json": {
              "type": "string"
            }
          },
          "metadata": {},
          "execution_count": 18
        }
      ],
      "source": [
        "def generate(model, x: str, n_tokens: int = 5, device=\"cuda\"):\n",
        "    \"\"\"Predict next token with greedy decoding.\"\"\"\n",
        "    x = torch.tensor(tokenize(x)).unsqueeze(0)\n",
        "    x = x.to(device)\n",
        "    model = model.to(device)\n",
        "\n",
        "    for _ in range(n_tokens):\n",
        "        pred = model(x)[:, -1, :]  # Logits of the next token prediction (B, V)\n",
        "        next_tokens = pred.argmax(dim=-1) # Next token_id with highest proba (B)\n",
        "        next_tokens = rearrange(next_tokens, \"B -> B 1\")\n",
        "        x = torch.cat((x, next_tokens), dim=1)\n",
        "    return \"\".join(detokenize(x[0].tolist()))\n",
        "\n",
        "generate(model, \"Once upon a time\", n_tokens=200)"
      ]
    },
    {
      "cell_type": "code",
      "source": [],
      "metadata": {
        "id": "bHOXH0-VDzsI"
      },
      "execution_count": null,
      "outputs": []
    }
  ],
  "metadata": {
    "accelerator": "GPU",
    "colab": {
      "collapsed_sections": [
        "9xLOEusjdk9f"
      ],
      "gpuType": "A100",
      "machine_shape": "hm",
      "provenance": []
    },
    "kernelspec": {
      "display_name": "Python 3",
      "name": "python3"
    },
    "language_info": {
      "name": "python"
    },
    "widgets": {
      "application/vnd.jupyter.widget-state+json": {
        "ae356247a911494ea2dcf034b9a38378": {
          "model_module": "@jupyter-widgets/controls",
          "model_name": "HBoxModel",
          "model_module_version": "1.5.0",
          "state": {
            "_dom_classes": [],
            "_model_module": "@jupyter-widgets/controls",
            "_model_module_version": "1.5.0",
            "_model_name": "HBoxModel",
            "_view_count": null,
            "_view_module": "@jupyter-widgets/controls",
            "_view_module_version": "1.5.0",
            "_view_name": "HBoxView",
            "box_style": "",
            "children": [
              "IPY_MODEL_de7df0c0dd6d41089663b95b9cd96c8f",
              "IPY_MODEL_a4ed5786235f4a199eb969397fdbac9a",
              "IPY_MODEL_be6276bb98454d5287465d1932ac8097"
            ],
            "layout": "IPY_MODEL_0af78f5e7d0945a0a839854aa6cb0c29"
          }
        },
        "de7df0c0dd6d41089663b95b9cd96c8f": {
          "model_module": "@jupyter-widgets/controls",
          "model_name": "HTMLModel",
          "model_module_version": "1.5.0",
          "state": {
            "_dom_classes": [],
            "_model_module": "@jupyter-widgets/controls",
            "_model_module_version": "1.5.0",
            "_model_name": "HTMLModel",
            "_view_count": null,
            "_view_module": "@jupyter-widgets/controls",
            "_view_module_version": "1.5.0",
            "_view_name": "HTMLView",
            "description": "",
            "description_tooltip": null,
            "layout": "IPY_MODEL_b9f31b72b2bf44ddadc2395bb22ac16c",
            "placeholder": "​",
            "style": "IPY_MODEL_2cb760f8816d4c4b925c9c5b00be1ff0",
            "value": "Sanity Checking DataLoader 0: 100%"
          }
        },
        "a4ed5786235f4a199eb969397fdbac9a": {
          "model_module": "@jupyter-widgets/controls",
          "model_name": "FloatProgressModel",
          "model_module_version": "1.5.0",
          "state": {
            "_dom_classes": [],
            "_model_module": "@jupyter-widgets/controls",
            "_model_module_version": "1.5.0",
            "_model_name": "FloatProgressModel",
            "_view_count": null,
            "_view_module": "@jupyter-widgets/controls",
            "_view_module_version": "1.5.0",
            "_view_name": "ProgressView",
            "bar_style": "",
            "description": "",
            "description_tooltip": null,
            "layout": "IPY_MODEL_5594154f892d4764934a7954e18cd273",
            "max": 2,
            "min": 0,
            "orientation": "horizontal",
            "style": "IPY_MODEL_d4627d6eae9843cca10d3d4ecbe1c827",
            "value": 2
          }
        },
        "be6276bb98454d5287465d1932ac8097": {
          "model_module": "@jupyter-widgets/controls",
          "model_name": "HTMLModel",
          "model_module_version": "1.5.0",
          "state": {
            "_dom_classes": [],
            "_model_module": "@jupyter-widgets/controls",
            "_model_module_version": "1.5.0",
            "_model_name": "HTMLModel",
            "_view_count": null,
            "_view_module": "@jupyter-widgets/controls",
            "_view_module_version": "1.5.0",
            "_view_name": "HTMLView",
            "description": "",
            "description_tooltip": null,
            "layout": "IPY_MODEL_a94ac6fa40f24877a022b08ded4406bf",
            "placeholder": "​",
            "style": "IPY_MODEL_0e34c22a8dbe4c9d85a2e895f3757c17",
            "value": " 2/2 [00:00&lt;00:00, 17.52it/s]"
          }
        },
        "0af78f5e7d0945a0a839854aa6cb0c29": {
          "model_module": "@jupyter-widgets/base",
          "model_name": "LayoutModel",
          "model_module_version": "1.2.0",
          "state": {
            "_model_module": "@jupyter-widgets/base",
            "_model_module_version": "1.2.0",
            "_model_name": "LayoutModel",
            "_view_count": null,
            "_view_module": "@jupyter-widgets/base",
            "_view_module_version": "1.2.0",
            "_view_name": "LayoutView",
            "align_content": null,
            "align_items": null,
            "align_self": null,
            "border": null,
            "bottom": null,
            "display": "inline-flex",
            "flex": null,
            "flex_flow": "row wrap",
            "grid_area": null,
            "grid_auto_columns": null,
            "grid_auto_flow": null,
            "grid_auto_rows": null,
            "grid_column": null,
            "grid_gap": null,
            "grid_row": null,
            "grid_template_areas": null,
            "grid_template_columns": null,
            "grid_template_rows": null,
            "height": null,
            "justify_content": null,
            "justify_items": null,
            "left": null,
            "margin": null,
            "max_height": null,
            "max_width": null,
            "min_height": null,
            "min_width": null,
            "object_fit": null,
            "object_position": null,
            "order": null,
            "overflow": null,
            "overflow_x": null,
            "overflow_y": null,
            "padding": null,
            "right": null,
            "top": null,
            "visibility": "hidden",
            "width": "100%"
          }
        },
        "b9f31b72b2bf44ddadc2395bb22ac16c": {
          "model_module": "@jupyter-widgets/base",
          "model_name": "LayoutModel",
          "model_module_version": "1.2.0",
          "state": {
            "_model_module": "@jupyter-widgets/base",
            "_model_module_version": "1.2.0",
            "_model_name": "LayoutModel",
            "_view_count": null,
            "_view_module": "@jupyter-widgets/base",
            "_view_module_version": "1.2.0",
            "_view_name": "LayoutView",
            "align_content": null,
            "align_items": null,
            "align_self": null,
            "border": null,
            "bottom": null,
            "display": null,
            "flex": null,
            "flex_flow": null,
            "grid_area": null,
            "grid_auto_columns": null,
            "grid_auto_flow": null,
            "grid_auto_rows": null,
            "grid_column": null,
            "grid_gap": null,
            "grid_row": null,
            "grid_template_areas": null,
            "grid_template_columns": null,
            "grid_template_rows": null,
            "height": null,
            "justify_content": null,
            "justify_items": null,
            "left": null,
            "margin": null,
            "max_height": null,
            "max_width": null,
            "min_height": null,
            "min_width": null,
            "object_fit": null,
            "object_position": null,
            "order": null,
            "overflow": null,
            "overflow_x": null,
            "overflow_y": null,
            "padding": null,
            "right": null,
            "top": null,
            "visibility": null,
            "width": null
          }
        },
        "2cb760f8816d4c4b925c9c5b00be1ff0": {
          "model_module": "@jupyter-widgets/controls",
          "model_name": "DescriptionStyleModel",
          "model_module_version": "1.5.0",
          "state": {
            "_model_module": "@jupyter-widgets/controls",
            "_model_module_version": "1.5.0",
            "_model_name": "DescriptionStyleModel",
            "_view_count": null,
            "_view_module": "@jupyter-widgets/base",
            "_view_module_version": "1.2.0",
            "_view_name": "StyleView",
            "description_width": ""
          }
        },
        "5594154f892d4764934a7954e18cd273": {
          "model_module": "@jupyter-widgets/base",
          "model_name": "LayoutModel",
          "model_module_version": "1.2.0",
          "state": {
            "_model_module": "@jupyter-widgets/base",
            "_model_module_version": "1.2.0",
            "_model_name": "LayoutModel",
            "_view_count": null,
            "_view_module": "@jupyter-widgets/base",
            "_view_module_version": "1.2.0",
            "_view_name": "LayoutView",
            "align_content": null,
            "align_items": null,
            "align_self": null,
            "border": null,
            "bottom": null,
            "display": null,
            "flex": "2",
            "flex_flow": null,
            "grid_area": null,
            "grid_auto_columns": null,
            "grid_auto_flow": null,
            "grid_auto_rows": null,
            "grid_column": null,
            "grid_gap": null,
            "grid_row": null,
            "grid_template_areas": null,
            "grid_template_columns": null,
            "grid_template_rows": null,
            "height": null,
            "justify_content": null,
            "justify_items": null,
            "left": null,
            "margin": null,
            "max_height": null,
            "max_width": null,
            "min_height": null,
            "min_width": null,
            "object_fit": null,
            "object_position": null,
            "order": null,
            "overflow": null,
            "overflow_x": null,
            "overflow_y": null,
            "padding": null,
            "right": null,
            "top": null,
            "visibility": null,
            "width": null
          }
        },
        "d4627d6eae9843cca10d3d4ecbe1c827": {
          "model_module": "@jupyter-widgets/controls",
          "model_name": "ProgressStyleModel",
          "model_module_version": "1.5.0",
          "state": {
            "_model_module": "@jupyter-widgets/controls",
            "_model_module_version": "1.5.0",
            "_model_name": "ProgressStyleModel",
            "_view_count": null,
            "_view_module": "@jupyter-widgets/base",
            "_view_module_version": "1.2.0",
            "_view_name": "StyleView",
            "bar_color": null,
            "description_width": ""
          }
        },
        "a94ac6fa40f24877a022b08ded4406bf": {
          "model_module": "@jupyter-widgets/base",
          "model_name": "LayoutModel",
          "model_module_version": "1.2.0",
          "state": {
            "_model_module": "@jupyter-widgets/base",
            "_model_module_version": "1.2.0",
            "_model_name": "LayoutModel",
            "_view_count": null,
            "_view_module": "@jupyter-widgets/base",
            "_view_module_version": "1.2.0",
            "_view_name": "LayoutView",
            "align_content": null,
            "align_items": null,
            "align_self": null,
            "border": null,
            "bottom": null,
            "display": null,
            "flex": null,
            "flex_flow": null,
            "grid_area": null,
            "grid_auto_columns": null,
            "grid_auto_flow": null,
            "grid_auto_rows": null,
            "grid_column": null,
            "grid_gap": null,
            "grid_row": null,
            "grid_template_areas": null,
            "grid_template_columns": null,
            "grid_template_rows": null,
            "height": null,
            "justify_content": null,
            "justify_items": null,
            "left": null,
            "margin": null,
            "max_height": null,
            "max_width": null,
            "min_height": null,
            "min_width": null,
            "object_fit": null,
            "object_position": null,
            "order": null,
            "overflow": null,
            "overflow_x": null,
            "overflow_y": null,
            "padding": null,
            "right": null,
            "top": null,
            "visibility": null,
            "width": null
          }
        },
        "0e34c22a8dbe4c9d85a2e895f3757c17": {
          "model_module": "@jupyter-widgets/controls",
          "model_name": "DescriptionStyleModel",
          "model_module_version": "1.5.0",
          "state": {
            "_model_module": "@jupyter-widgets/controls",
            "_model_module_version": "1.5.0",
            "_model_name": "DescriptionStyleModel",
            "_view_count": null,
            "_view_module": "@jupyter-widgets/base",
            "_view_module_version": "1.2.0",
            "_view_name": "StyleView",
            "description_width": ""
          }
        },
        "5c7709af1ed040b6b5857a41c41a1cb4": {
          "model_module": "@jupyter-widgets/controls",
          "model_name": "HBoxModel",
          "model_module_version": "1.5.0",
          "state": {
            "_dom_classes": [],
            "_model_module": "@jupyter-widgets/controls",
            "_model_module_version": "1.5.0",
            "_model_name": "HBoxModel",
            "_view_count": null,
            "_view_module": "@jupyter-widgets/controls",
            "_view_module_version": "1.5.0",
            "_view_name": "HBoxView",
            "box_style": "",
            "children": [
              "IPY_MODEL_bb4202cc4dec44fbbbe6224158ed316a",
              "IPY_MODEL_16018d08a1fd4bf8aacd330f8579bae0",
              "IPY_MODEL_7a1bf48f07834360b77b49ff14962f6e"
            ],
            "layout": "IPY_MODEL_19526466bba7456a951d08eb13352c87"
          }
        },
        "bb4202cc4dec44fbbbe6224158ed316a": {
          "model_module": "@jupyter-widgets/controls",
          "model_name": "HTMLModel",
          "model_module_version": "1.5.0",
          "state": {
            "_dom_classes": [],
            "_model_module": "@jupyter-widgets/controls",
            "_model_module_version": "1.5.0",
            "_model_name": "HTMLModel",
            "_view_count": null,
            "_view_module": "@jupyter-widgets/controls",
            "_view_module_version": "1.5.0",
            "_view_name": "HTMLView",
            "description": "",
            "description_tooltip": null,
            "layout": "IPY_MODEL_9c759e89b454434b871d2a865b2d361c",
            "placeholder": "​",
            "style": "IPY_MODEL_5a4ede9d0d8740b8a659db2982c591e8",
            "value": "Epoch 1: 100%"
          }
        },
        "16018d08a1fd4bf8aacd330f8579bae0": {
          "model_module": "@jupyter-widgets/controls",
          "model_name": "FloatProgressModel",
          "model_module_version": "1.5.0",
          "state": {
            "_dom_classes": [],
            "_model_module": "@jupyter-widgets/controls",
            "_model_module_version": "1.5.0",
            "_model_name": "FloatProgressModel",
            "_view_count": null,
            "_view_module": "@jupyter-widgets/controls",
            "_view_module_version": "1.5.0",
            "_view_name": "ProgressView",
            "bar_style": "success",
            "description": "",
            "description_tooltip": null,
            "layout": "IPY_MODEL_94afb2dd5aed42658697807acb2515e2",
            "max": 2071,
            "min": 0,
            "orientation": "horizontal",
            "style": "IPY_MODEL_1c290aec8bf04b51acf951635dd552f2",
            "value": 2071
          }
        },
        "7a1bf48f07834360b77b49ff14962f6e": {
          "model_module": "@jupyter-widgets/controls",
          "model_name": "HTMLModel",
          "model_module_version": "1.5.0",
          "state": {
            "_dom_classes": [],
            "_model_module": "@jupyter-widgets/controls",
            "_model_module_version": "1.5.0",
            "_model_name": "HTMLModel",
            "_view_count": null,
            "_view_module": "@jupyter-widgets/controls",
            "_view_module_version": "1.5.0",
            "_view_name": "HTMLView",
            "description": "",
            "description_tooltip": null,
            "layout": "IPY_MODEL_954a0cb0086947bebc403000e1d84b87",
            "placeholder": "​",
            "style": "IPY_MODEL_fb3f9b62179b46cd971c7d09d96f8602",
            "value": " 2071/2071 [07:50&lt;00:00,  4.40it/s, v_num=2, train_loss_step=0.634, val_loss_step=0.634, train_loss_epoch=0.594, val_loss_epoch=0.584]"
          }
        },
        "19526466bba7456a951d08eb13352c87": {
          "model_module": "@jupyter-widgets/base",
          "model_name": "LayoutModel",
          "model_module_version": "1.2.0",
          "state": {
            "_model_module": "@jupyter-widgets/base",
            "_model_module_version": "1.2.0",
            "_model_name": "LayoutModel",
            "_view_count": null,
            "_view_module": "@jupyter-widgets/base",
            "_view_module_version": "1.2.0",
            "_view_name": "LayoutView",
            "align_content": null,
            "align_items": null,
            "align_self": null,
            "border": null,
            "bottom": null,
            "display": "inline-flex",
            "flex": null,
            "flex_flow": "row wrap",
            "grid_area": null,
            "grid_auto_columns": null,
            "grid_auto_flow": null,
            "grid_auto_rows": null,
            "grid_column": null,
            "grid_gap": null,
            "grid_row": null,
            "grid_template_areas": null,
            "grid_template_columns": null,
            "grid_template_rows": null,
            "height": null,
            "justify_content": null,
            "justify_items": null,
            "left": null,
            "margin": null,
            "max_height": null,
            "max_width": null,
            "min_height": null,
            "min_width": null,
            "object_fit": null,
            "object_position": null,
            "order": null,
            "overflow": null,
            "overflow_x": null,
            "overflow_y": null,
            "padding": null,
            "right": null,
            "top": null,
            "visibility": null,
            "width": "100%"
          }
        },
        "9c759e89b454434b871d2a865b2d361c": {
          "model_module": "@jupyter-widgets/base",
          "model_name": "LayoutModel",
          "model_module_version": "1.2.0",
          "state": {
            "_model_module": "@jupyter-widgets/base",
            "_model_module_version": "1.2.0",
            "_model_name": "LayoutModel",
            "_view_count": null,
            "_view_module": "@jupyter-widgets/base",
            "_view_module_version": "1.2.0",
            "_view_name": "LayoutView",
            "align_content": null,
            "align_items": null,
            "align_self": null,
            "border": null,
            "bottom": null,
            "display": null,
            "flex": null,
            "flex_flow": null,
            "grid_area": null,
            "grid_auto_columns": null,
            "grid_auto_flow": null,
            "grid_auto_rows": null,
            "grid_column": null,
            "grid_gap": null,
            "grid_row": null,
            "grid_template_areas": null,
            "grid_template_columns": null,
            "grid_template_rows": null,
            "height": null,
            "justify_content": null,
            "justify_items": null,
            "left": null,
            "margin": null,
            "max_height": null,
            "max_width": null,
            "min_height": null,
            "min_width": null,
            "object_fit": null,
            "object_position": null,
            "order": null,
            "overflow": null,
            "overflow_x": null,
            "overflow_y": null,
            "padding": null,
            "right": null,
            "top": null,
            "visibility": null,
            "width": null
          }
        },
        "5a4ede9d0d8740b8a659db2982c591e8": {
          "model_module": "@jupyter-widgets/controls",
          "model_name": "DescriptionStyleModel",
          "model_module_version": "1.5.0",
          "state": {
            "_model_module": "@jupyter-widgets/controls",
            "_model_module_version": "1.5.0",
            "_model_name": "DescriptionStyleModel",
            "_view_count": null,
            "_view_module": "@jupyter-widgets/base",
            "_view_module_version": "1.2.0",
            "_view_name": "StyleView",
            "description_width": ""
          }
        },
        "94afb2dd5aed42658697807acb2515e2": {
          "model_module": "@jupyter-widgets/base",
          "model_name": "LayoutModel",
          "model_module_version": "1.2.0",
          "state": {
            "_model_module": "@jupyter-widgets/base",
            "_model_module_version": "1.2.0",
            "_model_name": "LayoutModel",
            "_view_count": null,
            "_view_module": "@jupyter-widgets/base",
            "_view_module_version": "1.2.0",
            "_view_name": "LayoutView",
            "align_content": null,
            "align_items": null,
            "align_self": null,
            "border": null,
            "bottom": null,
            "display": null,
            "flex": "2",
            "flex_flow": null,
            "grid_area": null,
            "grid_auto_columns": null,
            "grid_auto_flow": null,
            "grid_auto_rows": null,
            "grid_column": null,
            "grid_gap": null,
            "grid_row": null,
            "grid_template_areas": null,
            "grid_template_columns": null,
            "grid_template_rows": null,
            "height": null,
            "justify_content": null,
            "justify_items": null,
            "left": null,
            "margin": null,
            "max_height": null,
            "max_width": null,
            "min_height": null,
            "min_width": null,
            "object_fit": null,
            "object_position": null,
            "order": null,
            "overflow": null,
            "overflow_x": null,
            "overflow_y": null,
            "padding": null,
            "right": null,
            "top": null,
            "visibility": null,
            "width": null
          }
        },
        "1c290aec8bf04b51acf951635dd552f2": {
          "model_module": "@jupyter-widgets/controls",
          "model_name": "ProgressStyleModel",
          "model_module_version": "1.5.0",
          "state": {
            "_model_module": "@jupyter-widgets/controls",
            "_model_module_version": "1.5.0",
            "_model_name": "ProgressStyleModel",
            "_view_count": null,
            "_view_module": "@jupyter-widgets/base",
            "_view_module_version": "1.2.0",
            "_view_name": "StyleView",
            "bar_color": null,
            "description_width": ""
          }
        },
        "954a0cb0086947bebc403000e1d84b87": {
          "model_module": "@jupyter-widgets/base",
          "model_name": "LayoutModel",
          "model_module_version": "1.2.0",
          "state": {
            "_model_module": "@jupyter-widgets/base",
            "_model_module_version": "1.2.0",
            "_model_name": "LayoutModel",
            "_view_count": null,
            "_view_module": "@jupyter-widgets/base",
            "_view_module_version": "1.2.0",
            "_view_name": "LayoutView",
            "align_content": null,
            "align_items": null,
            "align_self": null,
            "border": null,
            "bottom": null,
            "display": null,
            "flex": null,
            "flex_flow": null,
            "grid_area": null,
            "grid_auto_columns": null,
            "grid_auto_flow": null,
            "grid_auto_rows": null,
            "grid_column": null,
            "grid_gap": null,
            "grid_row": null,
            "grid_template_areas": null,
            "grid_template_columns": null,
            "grid_template_rows": null,
            "height": null,
            "justify_content": null,
            "justify_items": null,
            "left": null,
            "margin": null,
            "max_height": null,
            "max_width": null,
            "min_height": null,
            "min_width": null,
            "object_fit": null,
            "object_position": null,
            "order": null,
            "overflow": null,
            "overflow_x": null,
            "overflow_y": null,
            "padding": null,
            "right": null,
            "top": null,
            "visibility": null,
            "width": null
          }
        },
        "fb3f9b62179b46cd971c7d09d96f8602": {
          "model_module": "@jupyter-widgets/controls",
          "model_name": "DescriptionStyleModel",
          "model_module_version": "1.5.0",
          "state": {
            "_model_module": "@jupyter-widgets/controls",
            "_model_module_version": "1.5.0",
            "_model_name": "DescriptionStyleModel",
            "_view_count": null,
            "_view_module": "@jupyter-widgets/base",
            "_view_module_version": "1.2.0",
            "_view_name": "StyleView",
            "description_width": ""
          }
        },
        "9cf834efa72b41ae82b1f02cc2cfd638": {
          "model_module": "@jupyter-widgets/controls",
          "model_name": "HBoxModel",
          "model_module_version": "1.5.0",
          "state": {
            "_dom_classes": [],
            "_model_module": "@jupyter-widgets/controls",
            "_model_module_version": "1.5.0",
            "_model_name": "HBoxModel",
            "_view_count": null,
            "_view_module": "@jupyter-widgets/controls",
            "_view_module_version": "1.5.0",
            "_view_name": "HBoxView",
            "box_style": "",
            "children": [
              "IPY_MODEL_d24b49d935224f8da9b1d12f4172dd72",
              "IPY_MODEL_87794689d3e54365a12b309ee8b73c34",
              "IPY_MODEL_30b5dcfe057e40cab9533c2ff2b60c5a"
            ],
            "layout": "IPY_MODEL_6f344401a43f46d293b6ab0646225687"
          }
        },
        "d24b49d935224f8da9b1d12f4172dd72": {
          "model_module": "@jupyter-widgets/controls",
          "model_name": "HTMLModel",
          "model_module_version": "1.5.0",
          "state": {
            "_dom_classes": [],
            "_model_module": "@jupyter-widgets/controls",
            "_model_module_version": "1.5.0",
            "_model_name": "HTMLModel",
            "_view_count": null,
            "_view_module": "@jupyter-widgets/controls",
            "_view_module_version": "1.5.0",
            "_view_name": "HTMLView",
            "description": "",
            "description_tooltip": null,
            "layout": "IPY_MODEL_fd1ef077693347c6a572f954af9b1860",
            "placeholder": "​",
            "style": "IPY_MODEL_abafec5298e6418d82dec31ca333a0a6",
            "value": "Validation DataLoader 0: 100%"
          }
        },
        "87794689d3e54365a12b309ee8b73c34": {
          "model_module": "@jupyter-widgets/controls",
          "model_name": "FloatProgressModel",
          "model_module_version": "1.5.0",
          "state": {
            "_dom_classes": [],
            "_model_module": "@jupyter-widgets/controls",
            "_model_module_version": "1.5.0",
            "_model_name": "FloatProgressModel",
            "_view_count": null,
            "_view_module": "@jupyter-widgets/controls",
            "_view_module_version": "1.5.0",
            "_view_name": "ProgressView",
            "bar_style": "",
            "description": "",
            "description_tooltip": null,
            "layout": "IPY_MODEL_5404313892134d688e7ae860cdce8422",
            "max": 22,
            "min": 0,
            "orientation": "horizontal",
            "style": "IPY_MODEL_a1ddc4ad1ff84462a85029e246276630",
            "value": 22
          }
        },
        "30b5dcfe057e40cab9533c2ff2b60c5a": {
          "model_module": "@jupyter-widgets/controls",
          "model_name": "HTMLModel",
          "model_module_version": "1.5.0",
          "state": {
            "_dom_classes": [],
            "_model_module": "@jupyter-widgets/controls",
            "_model_module_version": "1.5.0",
            "_model_name": "HTMLModel",
            "_view_count": null,
            "_view_module": "@jupyter-widgets/controls",
            "_view_module_version": "1.5.0",
            "_view_name": "HTMLView",
            "description": "",
            "description_tooltip": null,
            "layout": "IPY_MODEL_abd5b5af81624821976294ff94154866",
            "placeholder": "​",
            "style": "IPY_MODEL_030903d548854b3b99a3f649eb793860",
            "value": " 22/22 [00:01&lt;00:00, 13.56it/s]"
          }
        },
        "6f344401a43f46d293b6ab0646225687": {
          "model_module": "@jupyter-widgets/base",
          "model_name": "LayoutModel",
          "model_module_version": "1.2.0",
          "state": {
            "_model_module": "@jupyter-widgets/base",
            "_model_module_version": "1.2.0",
            "_model_name": "LayoutModel",
            "_view_count": null,
            "_view_module": "@jupyter-widgets/base",
            "_view_module_version": "1.2.0",
            "_view_name": "LayoutView",
            "align_content": null,
            "align_items": null,
            "align_self": null,
            "border": null,
            "bottom": null,
            "display": "inline-flex",
            "flex": null,
            "flex_flow": "row wrap",
            "grid_area": null,
            "grid_auto_columns": null,
            "grid_auto_flow": null,
            "grid_auto_rows": null,
            "grid_column": null,
            "grid_gap": null,
            "grid_row": null,
            "grid_template_areas": null,
            "grid_template_columns": null,
            "grid_template_rows": null,
            "height": null,
            "justify_content": null,
            "justify_items": null,
            "left": null,
            "margin": null,
            "max_height": null,
            "max_width": null,
            "min_height": null,
            "min_width": null,
            "object_fit": null,
            "object_position": null,
            "order": null,
            "overflow": null,
            "overflow_x": null,
            "overflow_y": null,
            "padding": null,
            "right": null,
            "top": null,
            "visibility": "hidden",
            "width": "100%"
          }
        },
        "fd1ef077693347c6a572f954af9b1860": {
          "model_module": "@jupyter-widgets/base",
          "model_name": "LayoutModel",
          "model_module_version": "1.2.0",
          "state": {
            "_model_module": "@jupyter-widgets/base",
            "_model_module_version": "1.2.0",
            "_model_name": "LayoutModel",
            "_view_count": null,
            "_view_module": "@jupyter-widgets/base",
            "_view_module_version": "1.2.0",
            "_view_name": "LayoutView",
            "align_content": null,
            "align_items": null,
            "align_self": null,
            "border": null,
            "bottom": null,
            "display": null,
            "flex": null,
            "flex_flow": null,
            "grid_area": null,
            "grid_auto_columns": null,
            "grid_auto_flow": null,
            "grid_auto_rows": null,
            "grid_column": null,
            "grid_gap": null,
            "grid_row": null,
            "grid_template_areas": null,
            "grid_template_columns": null,
            "grid_template_rows": null,
            "height": null,
            "justify_content": null,
            "justify_items": null,
            "left": null,
            "margin": null,
            "max_height": null,
            "max_width": null,
            "min_height": null,
            "min_width": null,
            "object_fit": null,
            "object_position": null,
            "order": null,
            "overflow": null,
            "overflow_x": null,
            "overflow_y": null,
            "padding": null,
            "right": null,
            "top": null,
            "visibility": null,
            "width": null
          }
        },
        "abafec5298e6418d82dec31ca333a0a6": {
          "model_module": "@jupyter-widgets/controls",
          "model_name": "DescriptionStyleModel",
          "model_module_version": "1.5.0",
          "state": {
            "_model_module": "@jupyter-widgets/controls",
            "_model_module_version": "1.5.0",
            "_model_name": "DescriptionStyleModel",
            "_view_count": null,
            "_view_module": "@jupyter-widgets/base",
            "_view_module_version": "1.2.0",
            "_view_name": "StyleView",
            "description_width": ""
          }
        },
        "5404313892134d688e7ae860cdce8422": {
          "model_module": "@jupyter-widgets/base",
          "model_name": "LayoutModel",
          "model_module_version": "1.2.0",
          "state": {
            "_model_module": "@jupyter-widgets/base",
            "_model_module_version": "1.2.0",
            "_model_name": "LayoutModel",
            "_view_count": null,
            "_view_module": "@jupyter-widgets/base",
            "_view_module_version": "1.2.0",
            "_view_name": "LayoutView",
            "align_content": null,
            "align_items": null,
            "align_self": null,
            "border": null,
            "bottom": null,
            "display": null,
            "flex": "2",
            "flex_flow": null,
            "grid_area": null,
            "grid_auto_columns": null,
            "grid_auto_flow": null,
            "grid_auto_rows": null,
            "grid_column": null,
            "grid_gap": null,
            "grid_row": null,
            "grid_template_areas": null,
            "grid_template_columns": null,
            "grid_template_rows": null,
            "height": null,
            "justify_content": null,
            "justify_items": null,
            "left": null,
            "margin": null,
            "max_height": null,
            "max_width": null,
            "min_height": null,
            "min_width": null,
            "object_fit": null,
            "object_position": null,
            "order": null,
            "overflow": null,
            "overflow_x": null,
            "overflow_y": null,
            "padding": null,
            "right": null,
            "top": null,
            "visibility": null,
            "width": null
          }
        },
        "a1ddc4ad1ff84462a85029e246276630": {
          "model_module": "@jupyter-widgets/controls",
          "model_name": "ProgressStyleModel",
          "model_module_version": "1.5.0",
          "state": {
            "_model_module": "@jupyter-widgets/controls",
            "_model_module_version": "1.5.0",
            "_model_name": "ProgressStyleModel",
            "_view_count": null,
            "_view_module": "@jupyter-widgets/base",
            "_view_module_version": "1.2.0",
            "_view_name": "StyleView",
            "bar_color": null,
            "description_width": ""
          }
        },
        "abd5b5af81624821976294ff94154866": {
          "model_module": "@jupyter-widgets/base",
          "model_name": "LayoutModel",
          "model_module_version": "1.2.0",
          "state": {
            "_model_module": "@jupyter-widgets/base",
            "_model_module_version": "1.2.0",
            "_model_name": "LayoutModel",
            "_view_count": null,
            "_view_module": "@jupyter-widgets/base",
            "_view_module_version": "1.2.0",
            "_view_name": "LayoutView",
            "align_content": null,
            "align_items": null,
            "align_self": null,
            "border": null,
            "bottom": null,
            "display": null,
            "flex": null,
            "flex_flow": null,
            "grid_area": null,
            "grid_auto_columns": null,
            "grid_auto_flow": null,
            "grid_auto_rows": null,
            "grid_column": null,
            "grid_gap": null,
            "grid_row": null,
            "grid_template_areas": null,
            "grid_template_columns": null,
            "grid_template_rows": null,
            "height": null,
            "justify_content": null,
            "justify_items": null,
            "left": null,
            "margin": null,
            "max_height": null,
            "max_width": null,
            "min_height": null,
            "min_width": null,
            "object_fit": null,
            "object_position": null,
            "order": null,
            "overflow": null,
            "overflow_x": null,
            "overflow_y": null,
            "padding": null,
            "right": null,
            "top": null,
            "visibility": null,
            "width": null
          }
        },
        "030903d548854b3b99a3f649eb793860": {
          "model_module": "@jupyter-widgets/controls",
          "model_name": "DescriptionStyleModel",
          "model_module_version": "1.5.0",
          "state": {
            "_model_module": "@jupyter-widgets/controls",
            "_model_module_version": "1.5.0",
            "_model_name": "DescriptionStyleModel",
            "_view_count": null,
            "_view_module": "@jupyter-widgets/base",
            "_view_module_version": "1.2.0",
            "_view_name": "StyleView",
            "description_width": ""
          }
        },
        "288ecb73c6fa46e0910c0ef2701f7c87": {
          "model_module": "@jupyter-widgets/controls",
          "model_name": "HBoxModel",
          "model_module_version": "1.5.0",
          "state": {
            "_dom_classes": [],
            "_model_module": "@jupyter-widgets/controls",
            "_model_module_version": "1.5.0",
            "_model_name": "HBoxModel",
            "_view_count": null,
            "_view_module": "@jupyter-widgets/controls",
            "_view_module_version": "1.5.0",
            "_view_name": "HBoxView",
            "box_style": "",
            "children": [
              "IPY_MODEL_624827df4cba40a7b401f12c14dab533",
              "IPY_MODEL_f1fdb30b8c3b43bb99c265ab6bff4da3",
              "IPY_MODEL_f3660b03f3e74bcdb38e76a26b73a68f"
            ],
            "layout": "IPY_MODEL_09587e337195428fa8b705644e1fd65f"
          }
        },
        "624827df4cba40a7b401f12c14dab533": {
          "model_module": "@jupyter-widgets/controls",
          "model_name": "HTMLModel",
          "model_module_version": "1.5.0",
          "state": {
            "_dom_classes": [],
            "_model_module": "@jupyter-widgets/controls",
            "_model_module_version": "1.5.0",
            "_model_name": "HTMLModel",
            "_view_count": null,
            "_view_module": "@jupyter-widgets/controls",
            "_view_module_version": "1.5.0",
            "_view_name": "HTMLView",
            "description": "",
            "description_tooltip": null,
            "layout": "IPY_MODEL_04f4614d113d4904804578e828b71149",
            "placeholder": "​",
            "style": "IPY_MODEL_0f9e4af33d99431d80734e0cb6da26aa",
            "value": "Validation DataLoader 0: 100%"
          }
        },
        "f1fdb30b8c3b43bb99c265ab6bff4da3": {
          "model_module": "@jupyter-widgets/controls",
          "model_name": "FloatProgressModel",
          "model_module_version": "1.5.0",
          "state": {
            "_dom_classes": [],
            "_model_module": "@jupyter-widgets/controls",
            "_model_module_version": "1.5.0",
            "_model_name": "FloatProgressModel",
            "_view_count": null,
            "_view_module": "@jupyter-widgets/controls",
            "_view_module_version": "1.5.0",
            "_view_name": "ProgressView",
            "bar_style": "",
            "description": "",
            "description_tooltip": null,
            "layout": "IPY_MODEL_20407cc784b146eb91cda2b86149ea65",
            "max": 22,
            "min": 0,
            "orientation": "horizontal",
            "style": "IPY_MODEL_e96805db4b744eb4abb4a6fb25fb0c58",
            "value": 22
          }
        },
        "f3660b03f3e74bcdb38e76a26b73a68f": {
          "model_module": "@jupyter-widgets/controls",
          "model_name": "HTMLModel",
          "model_module_version": "1.5.0",
          "state": {
            "_dom_classes": [],
            "_model_module": "@jupyter-widgets/controls",
            "_model_module_version": "1.5.0",
            "_model_name": "HTMLModel",
            "_view_count": null,
            "_view_module": "@jupyter-widgets/controls",
            "_view_module_version": "1.5.0",
            "_view_name": "HTMLView",
            "description": "",
            "description_tooltip": null,
            "layout": "IPY_MODEL_85f8154caee3460087b7ad066c4398a4",
            "placeholder": "​",
            "style": "IPY_MODEL_d1fa0c2f33ec4af29df2b4380f032633",
            "value": " 22/22 [00:01&lt;00:00, 13.62it/s]"
          }
        },
        "09587e337195428fa8b705644e1fd65f": {
          "model_module": "@jupyter-widgets/base",
          "model_name": "LayoutModel",
          "model_module_version": "1.2.0",
          "state": {
            "_model_module": "@jupyter-widgets/base",
            "_model_module_version": "1.2.0",
            "_model_name": "LayoutModel",
            "_view_count": null,
            "_view_module": "@jupyter-widgets/base",
            "_view_module_version": "1.2.0",
            "_view_name": "LayoutView",
            "align_content": null,
            "align_items": null,
            "align_self": null,
            "border": null,
            "bottom": null,
            "display": "inline-flex",
            "flex": null,
            "flex_flow": "row wrap",
            "grid_area": null,
            "grid_auto_columns": null,
            "grid_auto_flow": null,
            "grid_auto_rows": null,
            "grid_column": null,
            "grid_gap": null,
            "grid_row": null,
            "grid_template_areas": null,
            "grid_template_columns": null,
            "grid_template_rows": null,
            "height": null,
            "justify_content": null,
            "justify_items": null,
            "left": null,
            "margin": null,
            "max_height": null,
            "max_width": null,
            "min_height": null,
            "min_width": null,
            "object_fit": null,
            "object_position": null,
            "order": null,
            "overflow": null,
            "overflow_x": null,
            "overflow_y": null,
            "padding": null,
            "right": null,
            "top": null,
            "visibility": "hidden",
            "width": "100%"
          }
        },
        "04f4614d113d4904804578e828b71149": {
          "model_module": "@jupyter-widgets/base",
          "model_name": "LayoutModel",
          "model_module_version": "1.2.0",
          "state": {
            "_model_module": "@jupyter-widgets/base",
            "_model_module_version": "1.2.0",
            "_model_name": "LayoutModel",
            "_view_count": null,
            "_view_module": "@jupyter-widgets/base",
            "_view_module_version": "1.2.0",
            "_view_name": "LayoutView",
            "align_content": null,
            "align_items": null,
            "align_self": null,
            "border": null,
            "bottom": null,
            "display": null,
            "flex": null,
            "flex_flow": null,
            "grid_area": null,
            "grid_auto_columns": null,
            "grid_auto_flow": null,
            "grid_auto_rows": null,
            "grid_column": null,
            "grid_gap": null,
            "grid_row": null,
            "grid_template_areas": null,
            "grid_template_columns": null,
            "grid_template_rows": null,
            "height": null,
            "justify_content": null,
            "justify_items": null,
            "left": null,
            "margin": null,
            "max_height": null,
            "max_width": null,
            "min_height": null,
            "min_width": null,
            "object_fit": null,
            "object_position": null,
            "order": null,
            "overflow": null,
            "overflow_x": null,
            "overflow_y": null,
            "padding": null,
            "right": null,
            "top": null,
            "visibility": null,
            "width": null
          }
        },
        "0f9e4af33d99431d80734e0cb6da26aa": {
          "model_module": "@jupyter-widgets/controls",
          "model_name": "DescriptionStyleModel",
          "model_module_version": "1.5.0",
          "state": {
            "_model_module": "@jupyter-widgets/controls",
            "_model_module_version": "1.5.0",
            "_model_name": "DescriptionStyleModel",
            "_view_count": null,
            "_view_module": "@jupyter-widgets/base",
            "_view_module_version": "1.2.0",
            "_view_name": "StyleView",
            "description_width": ""
          }
        },
        "20407cc784b146eb91cda2b86149ea65": {
          "model_module": "@jupyter-widgets/base",
          "model_name": "LayoutModel",
          "model_module_version": "1.2.0",
          "state": {
            "_model_module": "@jupyter-widgets/base",
            "_model_module_version": "1.2.0",
            "_model_name": "LayoutModel",
            "_view_count": null,
            "_view_module": "@jupyter-widgets/base",
            "_view_module_version": "1.2.0",
            "_view_name": "LayoutView",
            "align_content": null,
            "align_items": null,
            "align_self": null,
            "border": null,
            "bottom": null,
            "display": null,
            "flex": "2",
            "flex_flow": null,
            "grid_area": null,
            "grid_auto_columns": null,
            "grid_auto_flow": null,
            "grid_auto_rows": null,
            "grid_column": null,
            "grid_gap": null,
            "grid_row": null,
            "grid_template_areas": null,
            "grid_template_columns": null,
            "grid_template_rows": null,
            "height": null,
            "justify_content": null,
            "justify_items": null,
            "left": null,
            "margin": null,
            "max_height": null,
            "max_width": null,
            "min_height": null,
            "min_width": null,
            "object_fit": null,
            "object_position": null,
            "order": null,
            "overflow": null,
            "overflow_x": null,
            "overflow_y": null,
            "padding": null,
            "right": null,
            "top": null,
            "visibility": null,
            "width": null
          }
        },
        "e96805db4b744eb4abb4a6fb25fb0c58": {
          "model_module": "@jupyter-widgets/controls",
          "model_name": "ProgressStyleModel",
          "model_module_version": "1.5.0",
          "state": {
            "_model_module": "@jupyter-widgets/controls",
            "_model_module_version": "1.5.0",
            "_model_name": "ProgressStyleModel",
            "_view_count": null,
            "_view_module": "@jupyter-widgets/base",
            "_view_module_version": "1.2.0",
            "_view_name": "StyleView",
            "bar_color": null,
            "description_width": ""
          }
        },
        "85f8154caee3460087b7ad066c4398a4": {
          "model_module": "@jupyter-widgets/base",
          "model_name": "LayoutModel",
          "model_module_version": "1.2.0",
          "state": {
            "_model_module": "@jupyter-widgets/base",
            "_model_module_version": "1.2.0",
            "_model_name": "LayoutModel",
            "_view_count": null,
            "_view_module": "@jupyter-widgets/base",
            "_view_module_version": "1.2.0",
            "_view_name": "LayoutView",
            "align_content": null,
            "align_items": null,
            "align_self": null,
            "border": null,
            "bottom": null,
            "display": null,
            "flex": null,
            "flex_flow": null,
            "grid_area": null,
            "grid_auto_columns": null,
            "grid_auto_flow": null,
            "grid_auto_rows": null,
            "grid_column": null,
            "grid_gap": null,
            "grid_row": null,
            "grid_template_areas": null,
            "grid_template_columns": null,
            "grid_template_rows": null,
            "height": null,
            "justify_content": null,
            "justify_items": null,
            "left": null,
            "margin": null,
            "max_height": null,
            "max_width": null,
            "min_height": null,
            "min_width": null,
            "object_fit": null,
            "object_position": null,
            "order": null,
            "overflow": null,
            "overflow_x": null,
            "overflow_y": null,
            "padding": null,
            "right": null,
            "top": null,
            "visibility": null,
            "width": null
          }
        },
        "d1fa0c2f33ec4af29df2b4380f032633": {
          "model_module": "@jupyter-widgets/controls",
          "model_name": "DescriptionStyleModel",
          "model_module_version": "1.5.0",
          "state": {
            "_model_module": "@jupyter-widgets/controls",
            "_model_module_version": "1.5.0",
            "_model_name": "DescriptionStyleModel",
            "_view_count": null,
            "_view_module": "@jupyter-widgets/base",
            "_view_module_version": "1.2.0",
            "_view_name": "StyleView",
            "description_width": ""
          }
        }
      }
    }
  },
  "nbformat": 4,
  "nbformat_minor": 0
}