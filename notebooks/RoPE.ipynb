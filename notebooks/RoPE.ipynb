{
  "cells": [
    {
      "cell_type": "markdown",
      "metadata": {
        "id": "p6d2V7RWhEk4"
      },
      "source": [
        "<a href=\"https://colab.research.google.com/github/nkthiebaut/guanaco/blob/main/notebooks/RoPE.ipynb\" target=\"_parent\"><img src=\"https://colab.research.google.com/assets/colab-badge.svg\" alt=\"Open In Colab\"/></a>\n",
        "\n",
        "## Rotary Positional Embeddings: RoPE\n",
        "\n",
        "Resources:\n",
        "- Paper: https://arxiv.org/pdf/2104.09864\n",
        "- Llama3 implementation: https://github.com/meta-llama/llama3/blob/main/llama/model.py\n",
        "- Tutorial: https://github.com/naklecha/llama3-from-scratch\n",
        "\n",
        "For a token in position $t$, RoPE rotates each dimension pair of the key and query vectors by\n",
        "\n",
        "$$t \\theta_i ,$$\n",
        "\n",
        " where $i\\in [1, d/2]$ is the dimension pair index.\n",
        "\n",
        "Common implementations use $\\theta_{i}= 10000^{-\\frac{i-1}{d/2}}$, i.e. the angular frequency $\\theta_i$ is a geometric series of $i$.\n",
        "\n",
        "In this notebook we'll implement RoPE in PyTorch."
      ]
    },
    {
      "cell_type": "code",
      "execution_count": null,
      "metadata": {
        "colab": {
          "base_uri": "https://localhost:8080/"
        },
        "id": "QeRzxm7Kw6Qk",
        "outputId": "39888524-6904-4915-9f4f-d2f7c7918d1c"
      },
      "outputs": [
        {
          "name": "stdout",
          "output_type": "stream",
          "text": [
            "\u001b[?25l     \u001b[90m━━━━━━━━━━━━━━━━━━━━━━━━━━━━━━━━━━━━━━━━\u001b[0m \u001b[32m0.0/43.2 kB\u001b[0m \u001b[31m?\u001b[0m eta \u001b[36m-:--:--\u001b[0m\r\u001b[2K     \u001b[91m━━━━━━━━━━━━━━━━━━━━━━━━━━━━\u001b[0m\u001b[90m╺\u001b[0m\u001b[90m━━━━━━━━━━━\u001b[0m \u001b[32m30.7/43.2 kB\u001b[0m \u001b[31m954.2 kB/s\u001b[0m eta \u001b[36m0:00:01\u001b[0m\r\u001b[2K     \u001b[90m━━━━━━━━━━━━━━━━━━━━━━━━━━━━━━━━━━━━━━━━\u001b[0m \u001b[32m43.2/43.2 kB\u001b[0m \u001b[31m605.2 kB/s\u001b[0m eta \u001b[36m0:00:00\u001b[0m\n",
            "\u001b[?25h"
          ]
        }
      ],
      "source": [
        "%pip install -q einops"
      ]
    },
    {
      "cell_type": "markdown",
      "metadata": {
        "id": "6wMhxhajy3mV"
      },
      "source": [
        "## Compute the list of frequencies\n",
        "\n",
        "We turn to the complex formulation fo those 2d rotations, e.g. for a query vector $q$:\n",
        "\n",
        "$(q_1, q_2) ↦ qe^{it\\theta_j}$ where $q=q_1+iq_2$."
      ]
    },
    {
      "cell_type": "code",
      "execution_count": null,
      "metadata": {
        "id": "5S2tVMI6w43G"
      },
      "outputs": [],
      "source": [
        "from einops import rearrange\n",
        "import torch\n",
        "\n",
        "T = 2\n",
        "C = 2 # number of channels, i.e. hidden dimension"
      ]
    },
    {
      "cell_type": "code",
      "execution_count": null,
      "metadata": {
        "id": "1U3ydmQ31h8W"
      },
      "outputs": [],
      "source": [
        "c_values = torch.arange(1, C/2 + 1)\n",
        "thetas = 10000 ** (2 * (c_values - 1) / C)  # Shape (C/2,)\n",
        "timesteps = torch.arange(T)  # Shape (T,)\n",
        "\n",
        "# Angular frequencies for each (t, c) pairs\n",
        "omegas = torch.outer(timesteps, thetas)  # Shape (T, C/2)\n",
        "\n",
        "# Turn those into complex numbers\n",
        "z = torch.polar(torch.ones_like(omegas), omegas)"
      ]
    },
    {
      "cell_type": "code",
      "execution_count": null,
      "metadata": {
        "colab": {
          "base_uri": "https://localhost:8080/",
          "height": 564
        },
        "id": "sZ1nUtdT2ku6",
        "outputId": "b8a32643-7559-4314-ee68-e30b52587bff"
      },
      "outputs": [
        {
          "data": {
            "image/png": "[encoded data removed]",
            "text/plain": [
              "<Figure size 600x600 with 1 Axes>"
            ]
          },
          "metadata": {},
          "output_type": "display_data"
        }
      ],
      "source": [
        "import matplotlib.pyplot as plt\n",
        "\n",
        "\n",
        "def plot_complex_numbers(z):\n",
        "    plt.figure(figsize=(6, 6))\n",
        "    plt.scatter(z.real, z.imag, color='blue')\n",
        "    plt.xlim(-1.5, 1.5)\n",
        "    plt.ylim(-1.5, 1.5)\n",
        "\n",
        "    for c in z:\n",
        "        plt.text(c.real, c.imag, f'{c}', fontsize=12, ha='right')\n",
        "\n",
        "    plt.xlabel('Real')\n",
        "    plt.ylabel('Imaginary')\n",
        "    plt.title('RoPE Rotations')\n",
        "\n",
        "\n",
        "plot_complex_numbers(z)"
      ]
    },
    {
      "cell_type": "markdown",
      "metadata": {
        "id": "y4xuDyY54YcH"
      },
      "source": [
        "## Exercise: use the complex numbers to rotate the query vector\n",
        "\n",
        "Hint: use `torch.view_as_complex` and `torch.view_as_real` to switch representations."
      ]
    },
    {
      "cell_type": "code",
      "execution_count": null,
      "metadata": {
        "colab": {
          "base_uri": "https://localhost:8080/"
        },
        "id": "f0iP1j3B0J-I",
        "outputId": "be5b010c-178b-46de-ae6d-c712bd5c6f5c"
      },
      "outputs": [
        {
          "name": "stdout",
          "output_type": "stream",
          "text": [
            "tensor([[ 0.1254, -0.8345],\n",
            "        [ 0.6333,  0.7833]])\n"
          ]
        }
      ],
      "source": [
        "q = torch.randn(T, C)\n",
        "print(q)\n",
        "# q_rotated = ..."
      ]
    },
    {
      "cell_type": "code",
      "execution_count": null,
      "metadata": {
        "id": "5OrIDjBb0ltN"
      },
      "outputs": [],
      "source": [
        "q_pairs = rearrange(q, 'T (C p) -> T C p', p=2)  # Shape (T, C) -> (T, C/2, 2)"
      ]
    },
    {
      "cell_type": "code",
      "execution_count": null,
      "metadata": {
        "colab": {
          "base_uri": "https://localhost:8080/"
        },
        "id": "5HHlswx80rL6",
        "outputId": "1cf04544-05a5-41ac-86ba-a28a114335ab"
      },
      "outputs": [
        {
          "data": {
            "text/plain": [
              "tensor([[0.1254-0.8345j],\n",
              "        [0.6333+0.7833j]])"
            ]
          },
          "execution_count": 10,
          "metadata": {},
          "output_type": "execute_result"
        }
      ],
      "source": [
        "q_complex = torch.view_as_complex(q_pairs)\n"
      ]
    },
    {
      "cell_type": "code",
      "execution_count": null,
      "metadata": {
        "colab": {
          "base_uri": "https://localhost:8080/"
        },
        "id": "5PVyFPzi06Cv",
        "outputId": "f6c02bcb-dc3b-4b8d-c3c7-b3c8a8f7fcf7"
      },
      "outputs": [
        {
          "data": {
            "text/plain": [
              "tensor([[1.0000+0.0000j],\n",
              "        [0.5403+0.8415j]])"
            ]
          },
          "execution_count": 11,
          "metadata": {},
          "output_type": "execute_result"
        }
      ],
      "source": [
        "z"
      ]
    },
    {
      "cell_type": "code",
      "execution_count": null,
      "metadata": {
        "id": "7fpTckwo02tr"
      },
      "outputs": [],
      "source": [
        "q_rotated = q_complex * z"
      ]
    },
    {
      "cell_type": "code",
      "execution_count": null,
      "metadata": {
        "colab": {
          "base_uri": "https://localhost:8080/"
        },
        "id": "YK-2e8cE0826",
        "outputId": "98a3a5df-4734-4143-f441-4b199f764854"
      },
      "outputs": [
        {
          "data": {
            "text/plain": [
              "tensor([[[ 0.1254, -0.8345]],\n",
              "\n",
              "        [[-0.3170,  0.9561]]])"
            ]
          },
          "execution_count": 14,
          "metadata": {},
          "output_type": "execute_result"
        }
      ],
      "source": [
        "torch.view_as_real(q_rotated)"
      ]
    },
    {
      "cell_type": "code",
      "execution_count": null,
      "metadata": {
        "colab": {
          "base_uri": "https://localhost:8080/"
        },
        "id": "boCezeYr0DGd",
        "outputId": "d4205e5c-5d45-4f2b-f36f-4d271c1e1ea3"
      },
      "outputs": [
        {
          "data": {
            "text/plain": [
              "tensor([[ 0.6132,  1.6312],\n",
              "        [-1.1338, -0.6542]])"
            ]
          },
          "execution_count": 47,
          "metadata": {},
          "output_type": "execute_result"
        }
      ],
      "source": [
        "# @title Solution\n",
        "q_pairs = rearrange(q, 'T (C p) -> T C p', p=2)  # Shape (T, C) -> (T, C/2, 2)\n",
        "\n",
        "q_complex = torch.view_as_complex(q_pairs)\n",
        "q_rotated = q_complex * z\n",
        "q_rotated = torch.view_as_real(q_rotated)  # Back to real numbers\n",
        "q_rotated = rearrange(q_rotated, 'T C p -> T (C p)')  # Shape (T, C/2, 2) -> (T, C)\n",
        "q_rotated"
      ]
    },
    {
      "cell_type": "markdown",
      "metadata": {
        "id": "9tggaYVgxaAr"
      },
      "source": [
        "## Exercise: implement RoPE for the general case (d>2)\n"
      ]
    },
    {
      "cell_type": "code",
      "execution_count": null,
      "metadata": {
        "id": "N7YWecsZ533e"
      },
      "outputs": [],
      "source": [
        "T = 2\n",
        "C = 4\n",
        "q = torch.randn(T, C) # Shape (T, C)\n",
        "\n",
        "z = ...\n",
        "q_rotated = ..."
      ]
    },
    {
      "cell_type": "markdown",
      "metadata": {
        "id": "iJ_J-suLtShr"
      },
      "source": [
        "## Bonus: Llama3 implementation"
      ]
    },
    {
      "cell_type": "code",
      "execution_count": null,
      "metadata": {
        "id": "iXFFBJiNzJeZ"
      },
      "outputs": [],
      "source": [
        "# from https://github.com/meta-llama/llama3/blob/14aab0428d3ec3a9596f1dea06d9c564f9c0e35f/llama/model.py#L49C1-L75C50\n",
        "\n",
        " def precompute_freqs_cis(dim: int, end: int, theta: float = 10000.0):\n",
        "    freqs = 1.0 / (theta ** (torch.arange(0, dim, 2)[: (dim // 2)].float() / dim))\n",
        "    t = torch.arange(end, device=freqs.device, dtype=torch.float32)\n",
        "    freqs = torch.outer(t, freqs)\n",
        "    freqs_cis = torch.polar(torch.ones_like(freqs), freqs)  # complex64\n",
        "    return freqs_cis\n",
        "\n",
        "\n",
        "def reshape_for_broadcast(freqs_cis: torch.Tensor, x: torch.Tensor):\n",
        "    ndim = x.ndim\n",
        "    assert 0 <= 1 < ndim\n",
        "    assert freqs_cis.shape == (x.shape[1], x.shape[-1])\n",
        "    shape = [d if i == 1 or i == ndim - 1 else 1 for i, d in enumerate(x.shape)]\n",
        "    return freqs_cis.view(*shape)\n",
        "\n",
        "\n",
        "def apply_rotary_emb(\n",
        "    xq: torch.Tensor,\n",
        "    xk: torch.Tensor,\n",
        "    freqs_cis: torch.Tensor,\n",
        ") -> Tuple[torch.Tensor, torch.Tensor]:\n",
        "    xq_ = torch.view_as_complex(xq.float().reshape(*xq.shape[:-1], -1, 2))\n",
        "    xk_ = torch.view_as_complex(xk.float().reshape(*xk.shape[:-1], -1, 2))\n",
        "    freqs_cis = reshape_for_broadcast(freqs_cis, xq_)\n",
        "    xq_out = torch.view_as_real(xq_ * freqs_cis).flatten(3)\n",
        "    xk_out = torch.view_as_real(xk_ * freqs_cis).flatten(3)\n",
        "    return xq_out.type_as(xq), xk_out.type_as(xk)"
      ]
    }
  ],
  "metadata": {
    "colab": {
      "collapsed_sections": [
        "iJ_J-suLtShr"
      ],
      "provenance": []
    },
    "kernelspec": {
      "display_name": "Python 3",
      "name": "python3"
    },
    "language_info": {
      "name": "python"
    }
  },
  "nbformat": 4,
  "nbformat_minor": 0
}
