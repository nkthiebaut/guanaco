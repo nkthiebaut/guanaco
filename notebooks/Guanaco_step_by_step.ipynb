{
  "cells": [
    {
      "cell_type": "markdown",
      "metadata": {
        "id": "xHIJdzCj7Ip7"
      },
      "source": [
        "<a href=\"https://colab.research.google.com/github/nkthiebaut/guanaco/blob/main/notebooks/Guanaco_step_by_step.ipynb\" target=\"_parent\"><img src=\"https://colab.research.google.com/assets/colab-badge.svg\" alt=\"Open In Colab\"/></a>\n",
        "\n",
        "# Guanaco: toy Llama3 implementation\n",
        "\n",
        "In this notebook, we'll implement the Llama3 model architecture brick by brick, starting\n",
        "from a simple model that averages character embeddings that we'll apply to simple morse\n",
        "code strings (vocabulary size 3). We'll then add:\n",
        "- Rotary Position Encodings (RoPE)\n",
        "- Self-attention\n",
        "- The SwiGLU activation function\n",
        "- The full self-attention block with RMSNorm\n",
        "\n",
        "Once ready, we'll train the model on the TinyStories dataset, with text tokenized at the\n",
        "byte level.\n",
        "\n",
        "Note that the actual Llama3 implementation:\n",
        "- uses the [Tiktoken tokenizer](https://github.com/meta-llama/llama3/blob/main/llama/tokenizer.py)\n",
        "- has Key-Value caching\n",
        "- uses Grouped query attention\n",
        "\n",
        "\n",
        "## First step: morse code modeling"
      ]
    },
    {
      "cell_type": "code",
      "execution_count": null,
      "metadata": {
        "colab": {
          "base_uri": "https://localhost:8080/"
        },
        "id": "PINwp-NRA_j_",
        "outputId": "986b6a8e-141c-4472-a216-c202497aa5d8"
      },
      "outputs": [
        {
          "name": "stdout",
          "output_type": "stream",
          "text": [
            "\u001b[?25l     \u001b[90m━━━━━━━━━━━━━━━━━━━━━━━━━━━━━━━━━━━━━━━━\u001b[0m \u001b[32m0.0/542.0 kB\u001b[0m \u001b[31m?\u001b[0m eta \u001b[36m-:--:--\u001b[0m\r\u001b[2K     \u001b[91m━━━━━━━━━\u001b[0m\u001b[90m╺\u001b[0m\u001b[90m━━━━━━━━━━━━━━━━━━━━━━━━━━━━━━\u001b[0m \u001b[32m122.9/542.0 kB\u001b[0m \u001b[31m3.5 MB/s\u001b[0m eta \u001b[36m0:00:01\u001b[0m\r\u001b[2K     \u001b[91m━━━━━━━━━━━━━━━━━━━━━━━━━━━━━━━━━━\u001b[0m\u001b[91m╸\u001b[0m\u001b[90m━━━━━\u001b[0m \u001b[32m471.0/542.0 kB\u001b[0m \u001b[31m6.6 MB/s\u001b[0m eta \u001b[36m0:00:01\u001b[0m\r\u001b[2K     \u001b[90m━━━━━━━━━━━━━━━━━━━━━━━━━━━━━━━━━━━━━━━━\u001b[0m \u001b[32m542.0/542.0 kB\u001b[0m \u001b[31m5.9 MB/s\u001b[0m eta \u001b[36m0:00:00\u001b[0m\n",
            "\u001b[2K     \u001b[90m━━━━━━━━━━━━━━━━━━━━━━━━━━━━━━━━━━━━━━━━\u001b[0m \u001b[32m43.2/43.2 kB\u001b[0m \u001b[31m3.0 MB/s\u001b[0m eta \u001b[36m0:00:00\u001b[0m\n",
            "\u001b[2K     \u001b[90m━━━━━━━━━━━━━━━━━━━━━━━━━━━━━━━━━━━━━━━━\u001b[0m \u001b[32m2.0/2.0 MB\u001b[0m \u001b[31m14.7 MB/s\u001b[0m eta \u001b[36m0:00:00\u001b[0m\n",
            "\u001b[2K     \u001b[90m━━━━━━━━━━━━━━━━━━━━━━━━━━━━━━━━━━━━━━━━\u001b[0m \u001b[32m116.3/116.3 kB\u001b[0m \u001b[31m12.2 MB/s\u001b[0m eta \u001b[36m0:00:00\u001b[0m\n",
            "\u001b[2K     \u001b[90m━━━━━━━━━━━━━━━━━━━━━━━━━━━━━━━━━━━━━━━━\u001b[0m \u001b[32m194.1/194.1 kB\u001b[0m \u001b[31m8.1 MB/s\u001b[0m eta \u001b[36m0:00:00\u001b[0m\n",
            "\u001b[2K     \u001b[90m━━━━━━━━━━━━━━━━━━━━━━━━━━━━━━━━━━━━━━━━\u001b[0m \u001b[32m134.8/134.8 kB\u001b[0m \u001b[31m14.1 MB/s\u001b[0m eta \u001b[36m0:00:00\u001b[0m\n",
            "\u001b[2K     \u001b[90m━━━━━━━━━━━━━━━━━━━━━━━━━━━━━━━━━━━━━━━━\u001b[0m \u001b[32m868.8/868.8 kB\u001b[0m \u001b[31m20.0 MB/s\u001b[0m eta \u001b[36m0:00:00\u001b[0m\n",
            "\u001b[2K     \u001b[90m━━━━━━━━━━━━━━━━━━━━━━━━━━━━━━━━━━━━━━━━\u001b[0m \u001b[32m802.3/802.3 kB\u001b[0m \u001b[31m21.0 MB/s\u001b[0m eta \u001b[36m0:00:00\u001b[0m\n",
            "\u001b[2K     \u001b[90m━━━━━━━━━━━━━━━━━━━━━━━━━━━━━━━━━━━━━━━━\u001b[0m \u001b[32m21.3/21.3 MB\u001b[0m \u001b[31m66.6 MB/s\u001b[0m eta \u001b[36m0:00:00\u001b[0m\n",
            "\u001b[?25h"
          ]
        }
      ],
      "source": [
        "%pip install -q datasets einops lightning"
      ]
    },
    {
      "cell_type": "markdown",
      "metadata": {
        "id": "v5kzBrnHQwMx"
      },
      "source": [
        "## Modeling imports"
      ]
    },
    {
      "cell_type": "code",
      "execution_count": null,
      "metadata": {
        "id": "8-G4m73YQ0HQ"
      },
      "outputs": [],
      "source": [
        "import torch\n",
        "import torch.nn.functional as F\n",
        "from torch import nn\n",
        "\n",
        "from einops import rearrange\n",
        "import lightning as L\n",
        "\n",
        "device = \"cuda\" if torch.cuda.is_available() else \"cpu\""
      ]
    },
    {
      "cell_type": "markdown",
      "metadata": {
        "id": "p3F-lK0W8L7P"
      },
      "source": [
        "### Toy model: Average Embeddings\n",
        "\n",
        "Let's start with a simple model that predicts the next token in sequences of Morse code (three characters: dots \".\", dashes \"-\", and spaces \" \", encoded as 1, 2, and 0 respectively).\n",
        "\n",
        "The morse alphabet looks like this:\n",
        "```python\n",
        "morse_code_dict = {\n",
        "    'A': '.-', 'B': '-...', 'C': '-.-.', 'D': '-..', 'E': '.', 'F': '..-.',\n",
        "    'G': '--.', 'H': '....', 'I': '..', 'J': '.---', 'K': '-.-', 'L': '.-..',\n",
        "    'M': '--', 'N': '-.', 'O': '---', 'P': '.--.', 'Q': '--.-', 'R': '.-.',\n",
        "    'S': '...', 'T': '-', 'U': '..-', 'V': '...-', 'W': '.--', 'X': '-..-',\n",
        "    'Y': '-.--', 'Z': '--..',\n",
        "    '0': '-----', '1': '.----', '2': '..---', '3': '...--', '4': '....-', '5': '.....',\n",
        "    '6': '-....', '7': '--...', '8': '---..', '9': '----.'\n",
        "}\n",
        "```\n",
        "and, for instance, `\"Houston, we have a problem\"` reads: `.... --- ..- ... - --- -. --..-- ....... .-- . ....... .... .- ...- . ....... .- ....... .--. .-. --- -... .-.. . -- .-.-.-`.\n",
        "\n",
        "Each sequence of length $T$ contains $T-1$ example, e.g. `\"..-.\"` gives the following 3 (input, output) pairs: `((\".\", \".\"), (\"..\", \"-\"), (\"..-\", \".\"))`.\n",
        "\n",
        "We use a character-level tokenization and map each character to continuous embeddings $x$.\n",
        "\n",
        "Instead of creating numerous examples for a single input, it is more efficient to use a mask matrix like this\n",
        "\n",
        "$$\n",
        "\\text{Mask}=\n",
        "\\begin{pmatrix}\n",
        "1 & 0 & 0 & \\cdots & 0 \\\\\n",
        "1 & 1 & 0 & \\cdots & 0 \\\\\n",
        "1 & 1 & 1 & \\cdots & 0 \\\\\n",
        "\\vdots & \\vdots & \\vdots & \\ddots & \\vdots \\\\\n",
        "1 & 1 & 1 & \\cdots & 1\n",
        "\\end{pmatrix}\n",
        "$$\n",
        "that is applied to the attention map pre-softmax, to make sure we don't attend to future tokens in the sequence.\n",
        "\n",
        "In the example above, the `\"..-.\"` input is tokenized as `[1, 1, 2, 1]`, then converting to randomly initialized embeddings\n",
        "`X = [[0.2, -0.6], [0.2, -0.6], [0.4, 0.1]]` , and the targets are `y=[1, 2, 1]` (we drop the last input and the first target).\n",
        "\n",
        "If we apply the mask directly to the inputs then\n",
        "$$\\text{Mask} \\; X= \\begin{pmatrix}\n",
        "1 & 0 & 0 \\\\\n",
        "1 & 1 & 0 \\\\\n",
        "1 & 1 & 1\n",
        "\\end{pmatrix}\\begin{pmatrix}\n",
        "0.2 & -0.6 \\\\\n",
        "0.2 & -0.6 \\\\\n",
        "0.4 & 0.1 \\\\\n",
        "\\end{pmatrix}= \\begin{pmatrix}\n",
        "0.2 & -0.6 \\\\\n",
        "0.4 & -1.2 \\\\\n",
        "0.8 & -1.1\n",
        "\\end{pmatrix}\n",
        "$$\n",
        "\n",
        "Thanks to the application of mask, only previous tokens are averaged out when predicting the next token. We can use\n",
        "\n",
        "$$\n",
        "\\text{Mask} \\; X = \\begin{pmatrix}\n",
        "0.2 & -0.6 \\\\\n",
        "0.4 & -1.2 \\\\\n",
        "0.8 & -1.1\n",
        "\\end{pmatrix} \\quad \\text{as inputs and} \\qquad\n",
        "y=\\begin{pmatrix}1\\\\ 2\\\\ 1\\end{pmatrix} \\quad \\text{as targets,}\n",
        "$$\n",
        "without leaking future information."
      ]
    },
    {
      "cell_type": "code",
      "execution_count": null,
      "metadata": {
        "colab": {
          "base_uri": "https://localhost:8080/"
        },
        "id": "hRnB5-tk9EwD",
        "outputId": "571498c7-aa44-4b8c-c793-ff02c5cb5c3b"
      },
      "outputs": [
        {
          "name": "stdout",
          "output_type": "stream",
          "text": [
            "i=0, loss=3.695\n",
            "i=20000, loss=0.047\n",
            "i=40000, loss=0.022\n",
            "i=60000, loss=0.014\n",
            "i=80000, loss=0.010\n",
            "i=99999, loss=0.008\n"
          ]
        }
      ],
      "source": [
        "class BaselineModel(nn.Module):\n",
        "    def __init__(self, vocab_size: int, n_dim_emb: int):\n",
        "        super().__init__()\n",
        "        self.embedding = nn.Embedding(vocab_size, n_dim_emb)\n",
        "        self.output_layer = nn.Linear(n_dim_emb, vocab_size, bias=False)\n",
        "\n",
        "        self.vocab_size = vocab_size\n",
        "        self.n_dim_emb = n_dim_emb\n",
        "\n",
        "    def forward(self, inputs: torch.tensor) -> torch.tensor:\n",
        "        B, T = inputs.shape  # B: batch_size, T: sequence_length (\"timesteps\")\n",
        "\n",
        "        embeddings = self.embedding(inputs)  # (B, T) -> (B, T, C)\n",
        "\n",
        "        # Mask out future tokens\n",
        "        mask = torch.tril(torch.ones(T, T)).to(embeddings.device)\n",
        "        embeddings = mask @ embeddings\n",
        "\n",
        "        logits = self.output_layer(embeddings)  # (B, T, C) -> (B, T, V)\n",
        "\n",
        "        return logits\n",
        "\n",
        "def compute_loss(logits: torch.tensor, targets: torch.tensor) -> float:\n",
        "    logits = rearrange(logits, 'B T V -> (B T) V') # using https://einops.rocks/\n",
        "    # Equivalent to logits = logits.view(B*T, self.n_dim_emb)\n",
        "    targets = rearrange(targets, 'B T -> (B T)')\n",
        "    # Equivalent to targets = targets.view(B*T)\n",
        "    loss = F.cross_entropy(logits, targets)\n",
        "    # Sanity check: should start around -torch.log(torch.tensor(1/vocab_size))\n",
        "    # for a randomly initialized model\n",
        "    return loss\n",
        "\n",
        "morse_corpus = [\n",
        "    \"....................\",\n",
        "    \".-.-.-.-.-.-.-.-.-.-\",\n",
        "    \"... --- ..- ... - --- -.\",\n",
        "]\n",
        "\n",
        "corpus_dummy = [\"......\", \"......\"]\n",
        "corpus_alternating = [\".-.-.-.-\", \"..--..--\"]\n",
        "\n",
        "vocab = [\" \", \".\", \"-\"]\n",
        "\n",
        "token_ids = torch.tensor(\n",
        "    [\n",
        "        [vocab.index(char) for char in sample]\n",
        "        for sample in [\".-.-.-.-\", \".-.-.-.-\"]\n",
        "    ]\n",
        ").to(device)\n",
        "\n",
        "model = BaselineModel(vocab_size=len(vocab), n_dim_emb=2)\n",
        "model = model.to(device)\n",
        "optimizer = torch.optim.SGD(model.parameters(), lr=1e-3)\n",
        "\n",
        "context_length = 100\n",
        "n_epochs = 100000\n",
        "\n",
        "for i, n in enumerate(range(n_epochs)):\n",
        "    inputs = token_ids[:, :-1]\n",
        "    targets = token_ids[:, 1:]\n",
        "\n",
        "    logits = model(inputs)\n",
        "    loss = compute_loss(logits, targets)\n",
        "    if i % (n_epochs/5) == 0 or i == n_epochs-1:\n",
        "        print(f\"i={i}, loss={loss:.3f}\")\n",
        "\n",
        "    loss.backward()\n",
        "    optimizer.step()\n",
        "    optimizer.zero_grad()"
      ]
    },
    {
      "cell_type": "markdown",
      "metadata": {
        "id": "xJxFw5c5zmSO"
      },
      "source": [
        "Q: what would be the loss of a perfect model for this corpus?"
      ]
    },
    {
      "cell_type": "code",
      "execution_count": null,
      "metadata": {
        "colab": {
          "base_uri": "https://localhost:8080/"
        },
        "id": "rRSQbzMEPVdt",
        "outputId": "01e79210-41a9-448a-f689-03a9e06418f6"
      },
      "outputs": [
        {
          "name": "stdout",
          "output_type": "stream",
          "text": [
            "Decoded string: ..--.-.-.-..-."
          ]
        }
      ],
      "source": [
        "# inference: try the following prompt: \"..--\", \".-.-\", \"....\"\n",
        "prompt = \"..--\"\n",
        "x = torch.tensor([vocab.index(char) for char in prompt]).unsqueeze(0).to(device)\n",
        "\n",
        "print(\"Decoded string:\", \"\".join([vocab[i] for i in x[0]]), end=\"\")\n",
        "\n",
        "for _ in range(10):\n",
        "    x = x[:, -context_length:]\n",
        "    pred = model(x)[0, -1].argmax(dim=-1)\n",
        "    print(vocab[pred.item()], end=\"\")\n",
        "    x = torch.cat((x[0], pred.unsqueeze(0))).unsqueeze(0)"
      ]
    },
    {
      "cell_type": "markdown",
      "metadata": {
        "id": "03I8VC5w_hdI"
      },
      "source": [
        "### Torch Lightning version\n",
        "\n",
        "Torch lightning is a framework built on top of PyTorch that removes the need for:\n",
        "- explicit calls to backprop or the optimizer (`loss.backward()`, `optimizer.step()`, and `optimizer.zero_grad()`)\n",
        "- explicit device transfers (`.to(cuda)`)\n",
        "\n",
        "It also makes the code cleaner, has nice logging, and more.\n",
        "\n",
        "Let's rewrite the training code above using Lightning."
      ]
    },
    {
      "cell_type": "code",
      "execution_count": null,
      "metadata": {
        "id": "ur_VRQGQ_otq"
      },
      "outputs": [],
      "source": [
        "class LightningModel(L.LightningModule):\n",
        "    def __init__(self, model):\n",
        "        super().__init__()\n",
        "        self.model = model\n",
        "\n",
        "    def forward(self, inputs: torch.tensor) -> torch.tensor:\n",
        "        return self.model(inputs)\n",
        "\n",
        "    def training_step(self, tokens: torch.tensor) -> float:\n",
        "        inputs = tokens[:, :-1]\n",
        "        targets = tokens[:, 1:]\n",
        "\n",
        "        logits = self.forward(inputs)\n",
        "\n",
        "        logits = rearrange(logits, 'B T C -> (B T) C')\n",
        "        targets = rearrange(targets, 'B T -> (B T)')\n",
        "\n",
        "        loss = F.cross_entropy(logits, targets)\n",
        "        self.log(\n",
        "            \"train_loss\", loss, prog_bar=True, logger=True, on_step=True, on_epoch=True\n",
        "        )\n",
        "        return loss\n",
        "\n",
        "    def configure_optimizers(self):\n",
        "        optimizer = torch.optim.AdamW(self.parameters(), lr=1e-3)\n",
        "        return optimizer\n",
        "\n",
        "    def generate(self, x: str, n_tokens: int = 5):\n",
        "        \"\"\"Predict next token with greedy decoding.\"\"\"\n",
        "        # inference: try the following prompt: \"..--\", \".-.-\", \"....\"\n",
        "        x = torch.tensor([vocab.index(char) for char in x]).unsqueeze(0)\n",
        "\n",
        "        for _ in range(n_tokens):\n",
        "            pred = self(x)[:, -1, :]  # Logits of the next token prediction (B, V)\n",
        "            next_tokens = pred.argmax(dim=-1) # Next token_id with highest proba (B)\n",
        "            next_tokens = rearrange(next_tokens, \"B -> B 1\")\n",
        "            x = torch.cat((x, next_tokens), dim=1)\n",
        "        return \"\".join([vocab[i] for i in x[0]])\n",
        "\n",
        "model = LightningModel(BaselineModel(len(vocab), 128))"
      ]
    },
    {
      "cell_type": "markdown",
      "metadata": {
        "id": "g1sEUv3RzmSP"
      },
      "source": [
        "We need to create a `DataLoader` object to feed the data to the Lightning Trainer."
      ]
    },
    {
      "cell_type": "code",
      "execution_count": null,
      "metadata": {
        "colab": {
          "base_uri": "https://localhost:8080/"
        },
        "id": "MRsMvZ4XAb3C",
        "outputId": "5df58410-01db-4420-a494-00a975f3f243"
      },
      "outputs": [
        {
          "data": {
            "text/plain": [
              "tensor([[1, 2, 1, 2, 1, 2, 1, 2]])"
            ]
          },
          "execution_count": 120,
          "metadata": {},
          "output_type": "execute_result"
        }
      ],
      "source": [
        "from torch.utils.data import DataLoader\n",
        "\n",
        "tiny_dataset = torch.tensor(\n",
        "    [[vocab.index(char) for char in sample] for sample in corpus_alternating]\n",
        ")\n",
        "tiny_dataloader = DataLoader(tiny_dataset, batch_size=1)\n",
        "next(iter(tiny_dataloader))"
      ]
    },
    {
      "cell_type": "code",
      "execution_count": null,
      "metadata": {
        "colab": {
          "base_uri": "https://localhost:8080/",
          "height": 625,
          "referenced_widgets": [
            "5da90e02061343abbd5d6bfca01edd6e",
            "5174b0a7edbc47f3ad14b279d8b1e065",
            "2a2455ba84bc402e9535c707cd05314b",
            "56a472027f504aadbb52107ad1bc7fbc",
            "0ee2a058f9f94fd0a4169d4357865279",
            "2e574098ec0e458380d044d28b7bb653",
            "8defa26d74b4401a852de26964611bb8",
            "2a2c909d55a64f07b0218976a9f0df24",
            "b1d29d8b25c042ddb5f63d3cbf8e6b56",
            "a8c448933ab4411a91b4fbede25846de",
            "3285920c11434a748f40969a6eff6028"
          ]
        },
        "id": "Ua_mC6MmAZh2",
        "outputId": "8b3b3336-9a66-4a32-dc88-e028ada5c26b"
      },
      "outputs": [
        {
          "name": "stderr",
          "output_type": "stream",
          "text": [
            "INFO: GPU available: True (cuda), used: True\n",
            "INFO:lightning.pytorch.utilities.rank_zero:GPU available: True (cuda), used: True\n",
            "INFO: TPU available: False, using: 0 TPU cores\n",
            "INFO:lightning.pytorch.utilities.rank_zero:TPU available: False, using: 0 TPU cores\n",
            "INFO: IPU available: False, using: 0 IPUs\n",
            "INFO:lightning.pytorch.utilities.rank_zero:IPU available: False, using: 0 IPUs\n",
            "INFO: HPU available: False, using: 0 HPUs\n",
            "INFO:lightning.pytorch.utilities.rank_zero:HPU available: False, using: 0 HPUs\n",
            "INFO: LOCAL_RANK: 0 - CUDA_VISIBLE_DEVICES: [0]\n",
            "INFO:lightning.pytorch.accelerators.cuda:LOCAL_RANK: 0 - CUDA_VISIBLE_DEVICES: [0]\n",
            "INFO: \n",
            "  | Name  | Type          | Params\n",
            "----------------------------------------\n",
            "0 | model | BaselineModel | 768   \n",
            "----------------------------------------\n",
            "768       Trainable params\n",
            "0         Non-trainable params\n",
            "768       Total params\n",
            "0.003     Total estimated model params size (MB)\n",
            "INFO:lightning.pytorch.callbacks.model_summary:\n",
            "  | Name  | Type          | Params\n",
            "----------------------------------------\n",
            "0 | model | BaselineModel | 768   \n",
            "----------------------------------------\n",
            "768       Trainable params\n",
            "0         Non-trainable params\n",
            "768       Total params\n",
            "0.003     Total estimated model params size (MB)\n",
            "/usr/local/lib/python3.10/dist-packages/lightning/pytorch/loops/fit_loop.py:298: The number of training batches (2) is smaller than the logging interval Trainer(log_every_n_steps=50). Set a lower value for log_every_n_steps if you want to see logs for the training epoch.\n"
          ]
        },
        {
          "data": {
            "application/vnd.jupyter.widget-view+json": {
              "model_id": "5da90e02061343abbd5d6bfca01edd6e",
              "version_major": 2,
              "version_minor": 0
            },
            "text/plain": [
              "Training: |          | 0/? [00:00<?, ?it/s]"
            ]
          },
          "metadata": {},
          "output_type": "display_data"
        },
        {
          "name": "stderr",
          "output_type": "stream",
          "text": [
            "INFO: `Trainer.fit` stopped: `max_epochs=10` reached.\n",
            "INFO:lightning.pytorch.utilities.rank_zero:`Trainer.fit` stopped: `max_epochs=10` reached.\n"
          ]
        },
        {
          "data": {
            "application/vnd.google.colaboratory.intrinsic+json": {
              "type": "string"
            },
            "text/plain": [
              "'.-.-.-.-.'"
            ]
          },
          "execution_count": 122,
          "metadata": {},
          "output_type": "execute_result"
        }
      ],
      "source": [
        "trainer = L.Trainer(max_epochs=10)\n",
        "trainer.fit(model, tiny_dataloader)\n",
        "model.generate(\".-.-\")"
      ]
    },
    {
      "cell_type": "code",
      "execution_count": null,
      "metadata": {
        "id": "3dJgysE3IvJD"
      },
      "outputs": [],
      "source": [
        "import logging\n",
        "# Silence Lightning GPU reports from now on\n",
        "logging.getLogger(\"pytorch_lightning\").setLevel(logging.ERROR)"
      ]
    },
    {
      "cell_type": "markdown",
      "metadata": {
        "id": "4qylRA_1zmSP"
      },
      "source": [
        "### Rotary Position Embeddings (RoPE)\n",
        "\n",
        "Since we're just averaging embeddings for the past characters, we're loosing the position information and are thus representing \"..--\" and \".-.-\", for instance, with the same average vector.\n",
        "\n",
        "In Transformers models the position information is restored through transformations to the embedding vectors, that depend on the position index $n$. As of 2024, the dominant approach to position encodings is [RoPE](https://arxiv.org/pdf/2104.09864), that we've covered in a [previous notebook](https://colab.research.google.com/drive/1lbKdV9lUWDqrfUlZalnzTRYF7i4FOJY8#scrollTo=p6d2V7RWhEk4).\n",
        "\n",
        "Our average embeddings model can be viewed as a single self-attention layer model, with unit attention weight matrix, i.e.\n",
        "$$A=Q K^T =\n",
        "\\begin{pmatrix}\n",
        "1 & 1  & \\cdots & 1 \\\\\n",
        "1 & 1  & \\cdots & 1 \\\\\n",
        "\\vdots & \\vdots  & \\ddots & \\vdots \\\\\n",
        "1 & 1 & \\cdots & 1\n",
        "\\end{pmatrix}\n",
        "$$.\n",
        "\n",
        "To prepare the full Llama implementation with RoPE, we first rewrite the model above as a self-attention layer with uniform attention weights $a_{m,n}=1$.\n",
        "\n",
        "The self-attention layer with causal mask is given by\n",
        "$$\n",
        "\\operatorname{Attention}\\left ( \\color{orange}{Q}, \\color{green}{K}, V \\right ) = \\operatorname{softmax}\\left ( \\frac{\\color{orange}{Q}\\color{green}{K}^{T}}{\\sqrt{d_{k}}} + M \\right )V \\quad \\text{with} \\quad M = \\begin{pmatrix}\n",
        "0 & -\\infty  & \\cdots & -\\infty \\\\\n",
        "0 & 0  & \\cdots & -\\infty \\\\\n",
        "\\vdots & \\vdots  & \\ddots & \\vdots \\\\\n",
        "0 & 0 & \\cdots & 0\n",
        "\\end{pmatrix}\n",
        "$$\n",
        "Note that softmax maps $-\\infty$ to 0, such that adding the mask above inside softmax is equivalent (but more efficient!) to multiplying the softmax output by the mask we used earlier:\n",
        "$$\n",
        "\\text{Mask}=\n",
        "\\begin{pmatrix}\n",
        "1 & 0 & \\cdots & 0 \\\\\n",
        "1 & 1 & \\cdots & 0 \\\\\n",
        "\\vdots & \\vdots & \\ddots & \\vdots \\\\\n",
        "1 & 1 & \\cdots & 1\n",
        "\\end{pmatrix}\n",
        "$$\n",
        "\n",
        "The query and key matrics are given by\n",
        "$$\n",
        "\\color{orange}{Q}=W_q x = \\left(\\begin{array}{ccc}\n",
        "\\text{------} & q_1^T & \\text{------} \\\\\n",
        "\\text{------} & q_2^T & \\text{------} \\\\\n",
        "& \\vdots & \\\\\n",
        "\\text{------} & q_m^T & \\text{------}\n",
        "\\end{array}\\right), \\qquad\n",
        "\\color{green}{K}^T=W_k x = \\left(\\begin{array}{cccc}\n",
        "\\mid & \\mid & & \\mid \\\\\n",
        "k_1 & k_2 & \\cdots & k_n \\\\\n",
        "\\mid & \\mid & & \\mid\n",
        "\\end{array}\\right)\n",
        "$$\n",
        "\n",
        "Those formulas correspond to our average embedding model if we set $\\color{orange}{Q} = \\color{green}{K}$ as constant matrices of arbitrary value with shape $T\\times d_k$  (where $d_k$ is arbitrary!) and $V=X$.\n",
        "\n",
        "Let's check that we recover the expected average weights with a \"self-attention\"-like implementation of average embeddings."
      ]
    },
    {
      "cell_type": "code",
      "execution_count": null,
      "metadata": {
        "colab": {
          "base_uri": "https://localhost:8080/"
        },
        "id": "YXehhKNYzmSP",
        "outputId": "43008dad-899e-4d4d-b0c1-b688ca80e2a0"
      },
      "outputs": [
        {
          "data": {
            "text/plain": [
              "tensor([[1.0000, 0.0000, 0.0000],\n",
              "        [0.5000, 0.5000, 0.0000],\n",
              "        [0.3333, 0.3333, 0.3333]])"
            ]
          },
          "execution_count": 123,
          "metadata": {},
          "output_type": "execute_result"
        }
      ],
      "source": [
        "import math\n",
        "\n",
        "T = 3\n",
        "head_dim = 4\n",
        "\n",
        "Q = torch.ones((T, head_dim))\n",
        "K = torch.ones((T, head_dim))\n",
        "attention = Q @ K.T / math.sqrt(head_dim)\n",
        "\n",
        "mask = torch.full((T, T), float(\"-inf\"))\n",
        "mask = torch.triu(mask, diagonal=1)\n",
        "\n",
        "scores = F.softmax(attention + mask, dim=-1)\n",
        "scores"
      ]
    },
    {
      "cell_type": "code",
      "execution_count": null,
      "metadata": {
        "colab": {
          "base_uri": "https://localhost:8080/"
        },
        "id": "NDlqxtuuzmSP",
        "outputId": "d7e93951-fea1-40ee-91d0-74a4628dd5a5"
      },
      "outputs": [
        {
          "name": "stderr",
          "output_type": "stream",
          "text": [
            "INFO: GPU available: True (cuda), used: True\n",
            "INFO:lightning.pytorch.utilities.rank_zero:GPU available: True (cuda), used: True\n",
            "INFO: TPU available: False, using: 0 TPU cores\n",
            "INFO:lightning.pytorch.utilities.rank_zero:TPU available: False, using: 0 TPU cores\n",
            "INFO: IPU available: False, using: 0 IPUs\n",
            "INFO:lightning.pytorch.utilities.rank_zero:IPU available: False, using: 0 IPUs\n",
            "INFO: HPU available: False, using: 0 HPUs\n",
            "INFO:lightning.pytorch.utilities.rank_zero:HPU available: False, using: 0 HPUs\n",
            "INFO: LOCAL_RANK: 0 - CUDA_VISIBLE_DEVICES: [0]\n",
            "INFO:lightning.pytorch.accelerators.cuda:LOCAL_RANK: 0 - CUDA_VISIBLE_DEVICES: [0]\n",
            "INFO: \n",
            "  | Name  | Type             | Params\n",
            "-------------------------------------------\n",
            "0 | model | UniformAttention | 768   \n",
            "-------------------------------------------\n",
            "768       Trainable params\n",
            "0         Non-trainable params\n",
            "768       Total params\n",
            "0.003     Total estimated model params size (MB)\n",
            "INFO:lightning.pytorch.callbacks.model_summary:\n",
            "  | Name  | Type             | Params\n",
            "-------------------------------------------\n",
            "0 | model | UniformAttention | 768   \n",
            "-------------------------------------------\n",
            "768       Trainable params\n",
            "0         Non-trainable params\n",
            "768       Total params\n",
            "0.003     Total estimated model params size (MB)\n",
            "/usr/local/lib/python3.10/dist-packages/lightning/pytorch/loops/fit_loop.py:298: The number of training batches (2) is smaller than the logging interval Trainer(log_every_n_steps=50). Set a lower value for log_every_n_steps if you want to see logs for the training epoch.\n",
            "INFO: `Trainer.fit` stopped: `max_epochs=100` reached.\n",
            "INFO:lightning.pytorch.utilities.rank_zero:`Trainer.fit` stopped: `max_epochs=100` reached.\n"
          ]
        }
      ],
      "source": [
        "class UniformAttention(nn.Module):\n",
        "    def __init__(self, vocab_size: int, n_dim_emb: int):\n",
        "        super().__init__()\n",
        "        self.embedding = nn.Embedding(vocab_size, n_dim_emb)\n",
        "        self.output_layer = nn.Linear(n_dim_emb, vocab_size, bias=False)\n",
        "        self.head_dim = 1\n",
        "\n",
        "    def forward(self, inputs: torch.tensor) -> torch.tensor:\n",
        "        B, T = inputs.shape  # B: batch_size, T: sequence_length (\"timesteps\")\n",
        "\n",
        "        embeddings = self.embedding(inputs)  # (B, T) -> (B, T, C)\n",
        "\n",
        "        Q = torch.ones((T, head_dim))\n",
        "        K = torch.ones((T, head_dim))\n",
        "        attention = (Q @ K.T / math.sqrt(head_dim)).to(embeddings.device)\n",
        "\n",
        "        mask = torch.full((T, T), float(\"-inf\"))\n",
        "        mask = torch.triu(mask, diagonal=1).to(embeddings.device)\n",
        "\n",
        "        scores = F.softmax(attention + mask, dim=-1)\n",
        "        x = scores @ embeddings\n",
        "\n",
        "        logits = self.output_layer(x)  # (B, T, C) -> (B, T, V)\n",
        "\n",
        "        return logits\n",
        "\n",
        "model = LightningModel(UniformAttention(vocab_size=len(vocab), n_dim_emb=128))\n",
        "trainer = L.Trainer(max_epochs=100, callbacks=[], enable_progress_bar=False)\n",
        "trainer.fit(model, tiny_dataloader)"
      ]
    },
    {
      "cell_type": "code",
      "execution_count": null,
      "metadata": {
        "colab": {
          "base_uri": "https://localhost:8080/",
          "height": 35
        },
        "id": "XlP__1V5Jtb_",
        "outputId": "c53bc2c9-fe66-42e7-d299-b4b60a577cf3"
      },
      "outputs": [
        {
          "data": {
            "application/vnd.google.colaboratory.intrinsic+json": {
              "type": "string"
            },
            "text/plain": [
              "'.-.-.-..-'"
            ]
          },
          "execution_count": 138,
          "metadata": {},
          "output_type": "execute_result"
        }
      ],
      "source": [
        "model.generate(\".-.-\")"
      ]
    },
    {
      "cell_type": "markdown",
      "metadata": {
        "id": "L7sJP2WVzmSP"
      },
      "source": [
        "### Exercise: add RoPE\n",
        "\n",
        "Using our previous RoPE notebook, implement a RoPE rotation function for keys and values. Check whether it fixes the ordering blindness problem.\n",
        "\n",
        "Note: use a generic implementation to anticipate the following, but note that for this simple attention map, RoPE takes a simpler form where the attention weights $a_{m,n}=q_m^T \\cdot k_n$ are replaced by\n",
        "\n",
        "$$\n",
        "\\operatorname{RoPE}(q_m^T)\\cdot\\operatorname{RoPE}(k_n) =  \\cos((n-m)\\theta_1) + \\cos((n-m)\\theta_2) + \\dots = \\sum_{i=0}^{d/2} \\cos((n-m)\\theta_i)\n",
        "$$\n",
        "where $\\theta_{i}= 10000^{-\\frac{i-1}{d/2}}$."
      ]
    },
    {
      "cell_type": "code",
      "execution_count": null,
      "metadata": {
        "cellView": "form",
        "id": "EbND8ILgzmSP"
      },
      "outputs": [],
      "source": [
        "# @title Solution\n",
        "\n",
        "def compute_complex_rotations(T, C):\n",
        "    c_values = torch.arange(1, C/2 + 1)\n",
        "    thetas = 10000 ** (2 * (c_values - 1) / C)  # Shape (C/2,)\n",
        "    timesteps = torch.arange(T)  # Shape (T,)\n",
        "\n",
        "    # Angular frequencies for each (t, c) pairs\n",
        "    omegas = torch.outer(timesteps, thetas)  # Shape (T, C/2)\n",
        "\n",
        "    # Turn those into complex numbers\n",
        "    z = torch.polar(torch.ones_like(omegas), omegas)\n",
        "    return z\n",
        "\n",
        "def apply_rope_rotation(q, complex_rotations):\n",
        "    q_pairs = rearrange(q, 'T (C p) -> T C p', p=2)  # Shape (T, C) -> (T, C/2, 2)\n",
        "    q_complex = torch.view_as_complex(q_pairs)\n",
        "    q_rotated = q_complex * complex_rotations\n",
        "    q_rotated = torch.view_as_real(q_rotated)  # Back to real numbers\n",
        "    q_rotated = rearrange(q_rotated, 'T C p -> T (C p)')  # Shape (T, C/2, 2) -> (T, C)\n",
        "    return q_rotated\n",
        "\n",
        "T = 2\n",
        "C = 2\n",
        "\n",
        "q = torch.tensor([[1., 2.], [1., 0.]])\n",
        "k = torch.randn(T, C)\n",
        "print(f\"Dot-products before rotation: {q @ k.T}\")\n",
        "\n",
        "z = compute_complex_rotations(T, C)\n",
        "q = apply_rope_rotation(q, z)\n",
        "k = apply_rope_rotation(k, z)\n",
        "print(f\"Dot-products after rotation: {q @ k.T}\")"
      ]
    },
    {
      "cell_type": "markdown",
      "metadata": {
        "id": "FUY12dYU0q5U"
      },
      "source": [
        "### Exercise add RoPE to training code\n",
        "\n",
        "Remember to take into account the batch dimension."
      ]
    },
    {
      "cell_type": "code",
      "execution_count": null,
      "metadata": {
        "cellView": "form",
        "id": "MsrzVXed6ReH"
      },
      "outputs": [],
      "source": [
        "# @title Solution preliminary: batch RoPE\n",
        "B, T, C = 3, 5, 4\n",
        "\n",
        "# We'll implement a batch version of the rope rotation function\n",
        "# and check that results match our earlier function\n",
        "z = compute_complex_rotations(T, C)\n",
        "Q = torch.randn(B, T, C)\n",
        "K = torch.randn(B, T, C)\n",
        "\n",
        "q = apply_rope_rotation(Q[1], z)\n",
        "k = apply_rope_rotation(K[1], z)\n",
        "print(f\"Dot-products first batch item:\\n{q @ k.T}\")\n",
        "\n",
        "def apply_rope_batch(q, complex_rotations):\n",
        "    q_pairs = rearrange(q, 'B T (C p) -> B T C p', p=2)\n",
        "    q_complex = torch.view_as_complex(q_pairs)\n",
        "    q_rotated = q_complex * complex_rotations\n",
        "    q_rotated = torch.view_as_real(q_rotated)  # Back to real numbers\n",
        "    q_rotated = rearrange(q_rotated, 'B T C p -> B T (C p)')\n",
        "    return q_rotated\n",
        "\n",
        "Q = apply_rope_batch(Q, z)\n",
        "K = apply_rope_batch(K, z)\n",
        "print(f\"Batch version:\\n{(Q @ K.mT)[1]}\")"
      ]
    },
    {
      "cell_type": "code",
      "execution_count": null,
      "metadata": {
        "colab": {
          "base_uri": "https://localhost:8080/",
          "height": 604,
          "referenced_widgets": [
            "bc9d48420985438da7bfe9b32861fe7a",
            "49f1dddc7686433dac99abcab2a2debf",
            "dc63b2ac09324fe79c21ef18d1d1f14c",
            "c1b39746b8b9494d92dc08baaa391a8b",
            "d0db6c45468a4109a4d4ce61a4a177d4",
            "38d8caa056094a3e85f8ebec1c5a2221",
            "601698651cd240fcbf2f77cbf151462f",
            "4626eb3c982a430c87613988cdc77619",
            "956d5ec2be6d42e081e85b07211567d5",
            "ebd1df8eea3449f08999d7b3a5e0c3f6",
            "fa7d6abc38894fc9a724b9606a866d7c"
          ]
        },
        "id": "X-X8jCPRzt7H",
        "outputId": "0a85a5ec-8e49-43d9-c09a-826009520267"
      },
      "outputs": [
        {
          "name": "stderr",
          "output_type": "stream",
          "text": [
            "INFO: GPU available: True (cuda), used: True\n",
            "INFO:lightning.pytorch.utilities.rank_zero:GPU available: True (cuda), used: True\n",
            "INFO: TPU available: False, using: 0 TPU cores\n",
            "INFO:lightning.pytorch.utilities.rank_zero:TPU available: False, using: 0 TPU cores\n",
            "INFO: IPU available: False, using: 0 IPUs\n",
            "INFO:lightning.pytorch.utilities.rank_zero:IPU available: False, using: 0 IPUs\n",
            "INFO: HPU available: False, using: 0 HPUs\n",
            "INFO:lightning.pytorch.utilities.rank_zero:HPU available: False, using: 0 HPUs\n",
            "INFO: LOCAL_RANK: 0 - CUDA_VISIBLE_DEVICES: [0]\n",
            "INFO:lightning.pytorch.accelerators.cuda:LOCAL_RANK: 0 - CUDA_VISIBLE_DEVICES: [0]\n",
            "INFO: \n",
            "  | Name  | Type             | Params\n",
            "-------------------------------------------\n",
            "0 | model | UniformAttention | 384   \n",
            "-------------------------------------------\n",
            "384       Trainable params\n",
            "0         Non-trainable params\n",
            "384       Total params\n",
            "0.002     Total estimated model params size (MB)\n",
            "INFO:lightning.pytorch.callbacks.model_summary:\n",
            "  | Name  | Type             | Params\n",
            "-------------------------------------------\n",
            "0 | model | UniformAttention | 384   \n",
            "-------------------------------------------\n",
            "384       Trainable params\n",
            "0         Non-trainable params\n",
            "384       Total params\n",
            "0.002     Total estimated model params size (MB)\n"
          ]
        },
        {
          "data": {
            "application/vnd.jupyter.widget-view+json": {
              "model_id": "bc9d48420985438da7bfe9b32861fe7a",
              "version_major": 2,
              "version_minor": 0
            },
            "text/plain": [
              "Training: |          | 0/? [00:00<?, ?it/s]"
            ]
          },
          "metadata": {},
          "output_type": "display_data"
        },
        {
          "name": "stderr",
          "output_type": "stream",
          "text": [
            "INFO: `Trainer.fit` stopped: `max_epochs=100` reached.\n",
            "INFO:lightning.pytorch.utilities.rank_zero:`Trainer.fit` stopped: `max_epochs=100` reached.\n"
          ]
        },
        {
          "name": "stdout",
          "output_type": "stream",
          "text": [
            "tensor([-3.3485,  1.2309,  1.5887], grad_fn=<SelectBackward0>)\n",
            "tensor([-3.3505,  1.2288,  1.5915], grad_fn=<SelectBackward0>)\n"
          ]
        }
      ],
      "source": [
        "# @title Solution\n",
        "\n",
        "class UniformAttention(nn.Module):\n",
        "    def __init__(self, T:int, V: int, C: int):\n",
        "        \"\"\"\n",
        "          T: max number of timesteps (context window size)\n",
        "          V: vocabulary size\n",
        "          C: number of channels (embedding dimension)\n",
        "        \"\"\"\n",
        "        super().__init__()\n",
        "        self.embedding = nn.Embedding(V, C)\n",
        "        self.output_layer = nn.Linear(C, V, bias=False)\n",
        "        self.head_dim = C\n",
        "\n",
        "        self.complex_rotations = compute_complex_rotations(T, C)\n",
        "\n",
        "    def forward(self, inputs: torch.tensor) -> torch.tensor:\n",
        "        B, T = inputs.shape  # B: batch_size, T: sequence_length (\"timesteps\")\n",
        "        z = self.complex_rotations[:T, :]\n",
        "\n",
        "        embeddings = self.embedding(inputs)  # (B, T) -> (B, T, C)\n",
        "\n",
        "        Q = self.head_dim ** 1/4 / T * torch.ones((B, T, self.head_dim)) / 109\n",
        "        Q = apply_rope_batch(Q, z)\n",
        "        K = self.head_dim ** 1/4 / T * torch.ones((B, T, self.head_dim)) / 109\n",
        "        K = apply_rope_batch(K, z)\n",
        "\n",
        "        attention = (Q @ K.mT / math.sqrt(self.head_dim)).to(embeddings.device)\n",
        "\n",
        "        mask = torch.full((T, T), float(\"-inf\"))\n",
        "        mask = torch.triu(mask, diagonal=1).to(embeddings.device)\n",
        "\n",
        "        scores = F.softmax(attention + mask, dim=-1)\n",
        "\n",
        "        x = scores @ embeddings\n",
        "\n",
        "        logits = self.output_layer(x)  # (B, T, C) -> (B, T, V)\n",
        "\n",
        "        return logits\n",
        "\n",
        "model = LightningModel(UniformAttention(T=10, V=len(vocab), C=64))\n",
        "trainer = L.Trainer(max_epochs=100)\n",
        "trainer.fit(model, tiny_dataloader)\n",
        "\n",
        "# Check that the representation on the last token depends on the order of the\n",
        "# preceeding tokens\n",
        "x = torch.tensor([[vocab.index(char) for char in \".-.\"]])\n",
        "print(model(x)[0][-1])\n",
        "x = torch.tensor([[vocab.index(char) for char in \"-..\"]])\n",
        "print(model(x)[0][-1])"
      ]
    },
    {
      "cell_type": "code",
      "execution_count": null,
      "metadata": {
        "colab": {
          "base_uri": "https://localhost:8080/"
        },
        "id": "AACC4qBBJ22r",
        "outputId": "2b6a2249-35c6-4d9a-f0c7-75da97a5ed86"
      },
      "outputs": [
        {
          "name": "stdout",
          "output_type": "stream",
          "text": [
            ".-.-.-.-.\n",
            "..--.-.-.\n"
          ]
        }
      ],
      "source": [
        "# Check that the model is sensitive to permutations\n",
        "print(model.generate(\".-.-\"))\n",
        "print(model.generate(\"..--\"))"
      ]
    },
    {
      "cell_type": "markdown",
      "metadata": {
        "id": "1MAO-fPXeIfQ"
      },
      "source": [
        "### Exercise: implement the self attention layer\n",
        "\n",
        "Introduce the value vector $v = W_v x$, replace our dummy $q$ and $k$ with $q=W_q x$ and $k = W_k x$. Here $W_q\\in \\mathbb R^{T, d_k}$ and $W_k\\in\\mathbb R^{T, d_k}$, and $W_v\\in\\mathbb R^{T, d_k}$, are all learnable matrices.\n",
        "\n",
        "Note that hte self-attention layer, like all layers in Transformers, is a [**residual layer**](https://en.wikipedia.org/wiki/Residual_neural_network): it adds its computation to the input (for stability, mainly to avoid vanishing gradients)."
      ]
    },
    {
      "cell_type": "code",
      "execution_count": null,
      "metadata": {
        "id": "t2PqSZjzB-bK"
      },
      "outputs": [],
      "source": [
        "class SelfAttention(nn.Module):\n",
        "    def __init__(self, emb_dim=64, head_dim=64):\n",
        "        super().__init__()\n",
        "        self.head_dim = head_dim\n",
        "        # TODO\n",
        "\n",
        "    def forward(self, x, complex_rotations, mask):\n",
        "        # TODO\n",
        "        # Since the mask and rotations are the same for the whole\n",
        "        # network, we don't store them in each module but pass them\n",
        "        # when calling the forward function.\n",
        "        return x"
      ]
    },
    {
      "cell_type": "code",
      "execution_count": null,
      "metadata": {
        "cellView": "form",
        "colab": {
          "base_uri": "https://localhost:8080/"
        },
        "id": "qK90XH3VB6IN",
        "outputId": "258dbc0e-cd17-42c5-ede2-e985c79f266d"
      },
      "outputs": [
        {
          "data": {
            "text/plain": [
              "tensor([[[-1.5206, -3.5257],\n",
              "         [-1.3390, -0.8051]],\n",
              "\n",
              "        [[-1.5104, -3.6652],\n",
              "         [ 1.3377, -0.7909]]], grad_fn=<AddBackward0>)"
            ]
          },
          "execution_count": 193,
          "metadata": {},
          "output_type": "execute_result"
        }
      ],
      "source": [
        "# @title Solution\n",
        "\n",
        "class SelfAttention(nn.Module):\n",
        "    def __init__(self, emb_dim=64, head_dim=64):\n",
        "        super().__init__()\n",
        "        self.head_dim = head_dim\n",
        "        self.Wq = nn.Linear(emb_dim, head_dim, bias=False)\n",
        "        self.Wk = nn.Linear(emb_dim, head_dim, bias=False)\n",
        "        self.Wv = nn.Linear(emb_dim, head_dim, bias=False)\n",
        "\n",
        "    def forward(self, x, complex_rotations, mask):\n",
        "        # Compute Queries, Keys, and Values from embeddings\n",
        "        Q = self.Wq(x)\n",
        "        K = self.Wk(x)\n",
        "        V = self.Wv(x)\n",
        "\n",
        "        # Apply RoPE to queries and keys\n",
        "        Q = apply_rope_batch(Q, complex_rotations)\n",
        "        K = apply_rope_batch(K, complex_rotations)\n",
        "\n",
        "        attention = (Q @ K.mT / math.sqrt(self.head_dim)).to(x.device)\n",
        "\n",
        "        scores = F.softmax(attention + mask, dim=-1)\n",
        "\n",
        "        return x + scores @ x\n",
        "\n",
        "\n",
        "# Test:\n",
        "B, T, C = 2, 2, 2\n",
        "\n",
        "x = torch.randn(B, T, C)\n",
        "complex_rotations = compute_complex_rotations(T, C)\n",
        "mask = torch.full((T, T), float(\"-inf\"))\n",
        "mask = torch.triu(mask, diagonal=1)\n",
        "\n",
        "sa = SelfAttention(T, C)\n",
        "sa(x, complex_rotations, mask)"
      ]
    },
    {
      "cell_type": "markdown",
      "metadata": {
        "id": "noYAU2gJ0xkG"
      },
      "source": [
        "### Exercise: implement SwiGLU layer\n",
        "\n",
        "Reuse the implementation from the [SwiGLU notebook](https://colab.research.google.com/drive/1_6oJEHmgO5xJK_Pud5J8oEzzjzRCf46C#scrollTo=_RBR5gI6VsUb)."
      ]
    },
    {
      "cell_type": "code",
      "execution_count": null,
      "metadata": {
        "id": "6lCGxRdy04Rw"
      },
      "outputs": [],
      "source": [
        "class FeedForward(nn.Module):\n",
        "    def __init__(self, hidden_dims=100):\n",
        "        super().__init__()\n",
        "        # TODO\n",
        "\n",
        "    def forward(self, x):\n",
        "        # TODO\n",
        "        return x"
      ]
    },
    {
      "cell_type": "code",
      "execution_count": null,
      "metadata": {
        "cellView": "form",
        "id": "u0vybim74lAf"
      },
      "outputs": [],
      "source": [
        "# @title Solution\n",
        "class FeedForward(nn.Module):\n",
        "    def __init__(self, hidden_dims=100):\n",
        "        super().__init__()\n",
        "        self.fc1 = nn.Linear(2, hidden_dims, bias=False)\n",
        "        self.silu = nn.SiLU()  # x * sigmoid(x)\n",
        "        self.fc2 = nn.Linear(2, hidden_dims, bias=False)\n",
        "        self.fc3 = nn.Linear(hidden_dims, 2, bias=False)\n",
        "\n",
        "    def forward(self, x):\n",
        "        gate = F.silu(self.fc1(x))\n",
        "        x = self.fc2(x)\n",
        "        x = x * gate\n",
        "        x = self.fc3(x)\n",
        "        return x"
      ]
    },
    {
      "cell_type": "markdown",
      "metadata": {
        "id": "EMRSU0hSzmSP"
      },
      "source": [
        "### Exercise: implement the Transformer Block\n",
        "\n",
        "Combine our `SelfAttention` and `FeedForward` layer into a single block. Reuse the RMSNorm layer from [this previous notebook](https://colab.research.google.com/drive/1M9uhPAZkzV4ABXkJSQRELtjtLJfyTIZY#scrollTo=UZ3_AVHhBCSF).\n",
        "\n"
      ]
    },
    {
      "cell_type": "code",
      "execution_count": null,
      "metadata": {
        "id": "ZGF2z53qzmSP"
      },
      "outputs": [],
      "source": [
        "class TransformerBlock(nn.Module):\n",
        "    def __init__(self, hidden_dims=100):\n",
        "        super().__init__()\n",
        "        # TODO\n",
        "\n",
        "    def forward(self, x):\n",
        "        # TODO\n",
        "        return x"
      ]
    },
    {
      "cell_type": "code",
      "execution_count": null,
      "metadata": {
        "colab": {
          "base_uri": "https://localhost:8080/"
        },
        "id": "G_jpVZSaGSX-",
        "outputId": "699d1be3-e4db-4872-f60c-9ecc7ab1771a"
      },
      "outputs": [
        {
          "data": {
            "text/plain": [
              "tensor([[[-0.1386,  1.4345],\n",
              "         [ 0.9247,  1.1678]],\n",
              "\n",
              "        [[ 0.2469, -1.3571],\n",
              "         [ 0.2683, -1.3554]]], grad_fn=<AddBackward0>)"
            ]
          },
          "execution_count": 197,
          "metadata": {},
          "output_type": "execute_result"
        }
      ],
      "source": [
        "# @title Solution\n",
        "from einops import reduce\n",
        "\n",
        "class RMSNorm(nn.Module):\n",
        "    def __init__(self, emb_dim: int, eps: float = 1e-6):\n",
        "        super().__init__()\n",
        "        self.eps = eps\n",
        "        self.weight = nn.Parameter(torch.ones(emb_dim))\n",
        "\n",
        "    def forward(self, x):\n",
        "        # Note: explicit casting to fp32 to avoid numerical underflow\n",
        "        x_fp32 = x.to(torch.float32)\n",
        "        mean_square = reduce(x_fp32**2, '... d -> ... 1', 'mean')\n",
        "        inverse_rms = torch.rsqrt(mean_square + self.eps)\n",
        "        inverse_rms = inverse_rms.type_as(x)  # For fp16 compatibility\n",
        "        return self.weight * x * inverse_rms\n",
        "\n",
        "\n",
        "class TransformerBlock(nn.Module):\n",
        "    def __init__(self, emb_dim: int, head_dim: int):\n",
        "        super().__init__()\n",
        "        self.emb_dim = emb_dim\n",
        "        self.head_dim = head_dim\n",
        "\n",
        "        self.att_norm = RMSNorm(emb_dim)\n",
        "        self.self_attention = SelfAttention(emb_dim, head_dim)\n",
        "        self.ffn_norm = RMSNorm(emb_dim)\n",
        "        self.feed_forward = FeedForward(hidden_dims=emb_dim)\n",
        "\n",
        "\n",
        "    def forward(\n",
        "        self,\n",
        "        x: torch.tensor,\n",
        "        complex_rotations: torch.tensor,\n",
        "        mask: torch.tensor,\n",
        "    ):\n",
        "        x = self.att_norm(x)\n",
        "        x = x + self.self_attention(x, complex_rotations, mask)\n",
        "        x = self.ffn_norm(x)\n",
        "        x = x + self.feed_forward(x)\n",
        "        return x\n",
        "\n",
        "# Test:\n",
        "B, T, C = 2, 2, 2\n",
        "\n",
        "x = torch.randn(B, T, C)\n",
        "complex_rotations = compute_complex_rotations(T, C)\n",
        "mask = torch.full((T, T), float(\"-inf\"))\n",
        "mask = torch.triu(mask, diagonal=1)\n",
        "\n",
        "tb = TransformerBlock(T, C)\n",
        "tb(x, complex_rotations, mask)"
      ]
    }
  ],
  "metadata": {
    "accelerator": "GPU",
    "colab": {
      "collapsed_sections": [
        "9xLOEusjdk9f"
      ],
      "gpuType": "T4",
      "provenance": [],
      "toc_visible": true
    },
    "kernelspec": {
      "display_name": "Python 3",
      "name": "python3"
    },
    "language_info": {
      "name": "python"
    },
    "widgets": {
      "application/vnd.jupyter.widget-state+json": {
        "0ee2a058f9f94fd0a4169d4357865279": {
          "model_module": "@jupyter-widgets/base",
          "model_module_version": "1.2.0",
          "model_name": "LayoutModel",
          "state": {
            "_model_module": "@jupyter-widgets/base",
            "_model_module_version": "1.2.0",
            "_model_name": "LayoutModel",
            "_view_count": null,
            "_view_module": "@jupyter-widgets/base",
            "_view_module_version": "1.2.0",
            "_view_name": "LayoutView",
            "align_content": null,
            "align_items": null,
            "align_self": null,
            "border": null,
            "bottom": null,
            "display": "inline-flex",
            "flex": null,
            "flex_flow": "row wrap",
            "grid_area": null,
            "grid_auto_columns": null,
            "grid_auto_flow": null,
            "grid_auto_rows": null,
            "grid_column": null,
            "grid_gap": null,
            "grid_row": null,
            "grid_template_areas": null,
            "grid_template_columns": null,
            "grid_template_rows": null,
            "height": null,
            "justify_content": null,
            "justify_items": null,
            "left": null,
            "margin": null,
            "max_height": null,
            "max_width": null,
            "min_height": null,
            "min_width": null,
            "object_fit": null,
            "object_position": null,
            "order": null,
            "overflow": null,
            "overflow_x": null,
            "overflow_y": null,
            "padding": null,
            "right": null,
            "top": null,
            "visibility": null,
            "width": "100%"
          }
        },
        "2a2455ba84bc402e9535c707cd05314b": {
          "model_module": "@jupyter-widgets/controls",
          "model_module_version": "1.5.0",
          "model_name": "FloatProgressModel",
          "state": {
            "_dom_classes": [],
            "_model_module": "@jupyter-widgets/controls",
            "_model_module_version": "1.5.0",
            "_model_name": "FloatProgressModel",
            "_view_count": null,
            "_view_module": "@jupyter-widgets/controls",
            "_view_module_version": "1.5.0",
            "_view_name": "ProgressView",
            "bar_style": "success",
            "description": "",
            "description_tooltip": null,
            "layout": "IPY_MODEL_2a2c909d55a64f07b0218976a9f0df24",
            "max": 2,
            "min": 0,
            "orientation": "horizontal",
            "style": "IPY_MODEL_b1d29d8b25c042ddb5f63d3cbf8e6b56",
            "value": 2
          }
        },
        "2a2c909d55a64f07b0218976a9f0df24": {
          "model_module": "@jupyter-widgets/base",
          "model_module_version": "1.2.0",
          "model_name": "LayoutModel",
          "state": {
            "_model_module": "@jupyter-widgets/base",
            "_model_module_version": "1.2.0",
            "_model_name": "LayoutModel",
            "_view_count": null,
            "_view_module": "@jupyter-widgets/base",
            "_view_module_version": "1.2.0",
            "_view_name": "LayoutView",
            "align_content": null,
            "align_items": null,
            "align_self": null,
            "border": null,
            "bottom": null,
            "display": null,
            "flex": "2",
            "flex_flow": null,
            "grid_area": null,
            "grid_auto_columns": null,
            "grid_auto_flow": null,
            "grid_auto_rows": null,
            "grid_column": null,
            "grid_gap": null,
            "grid_row": null,
            "grid_template_areas": null,
            "grid_template_columns": null,
            "grid_template_rows": null,
            "height": null,
            "justify_content": null,
            "justify_items": null,
            "left": null,
            "margin": null,
            "max_height": null,
            "max_width": null,
            "min_height": null,
            "min_width": null,
            "object_fit": null,
            "object_position": null,
            "order": null,
            "overflow": null,
            "overflow_x": null,
            "overflow_y": null,
            "padding": null,
            "right": null,
            "top": null,
            "visibility": null,
            "width": null
          }
        },
        "2e574098ec0e458380d044d28b7bb653": {
          "model_module": "@jupyter-widgets/base",
          "model_module_version": "1.2.0",
          "model_name": "LayoutModel",
          "state": {
            "_model_module": "@jupyter-widgets/base",
            "_model_module_version": "1.2.0",
            "_model_name": "LayoutModel",
            "_view_count": null,
            "_view_module": "@jupyter-widgets/base",
            "_view_module_version": "1.2.0",
            "_view_name": "LayoutView",
            "align_content": null,
            "align_items": null,
            "align_self": null,
            "border": null,
            "bottom": null,
            "display": null,
            "flex": null,
            "flex_flow": null,
            "grid_area": null,
            "grid_auto_columns": null,
            "grid_auto_flow": null,
            "grid_auto_rows": null,
            "grid_column": null,
            "grid_gap": null,
            "grid_row": null,
            "grid_template_areas": null,
            "grid_template_columns": null,
            "grid_template_rows": null,
            "height": null,
            "justify_content": null,
            "justify_items": null,
            "left": null,
            "margin": null,
            "max_height": null,
            "max_width": null,
            "min_height": null,
            "min_width": null,
            "object_fit": null,
            "object_position": null,
            "order": null,
            "overflow": null,
            "overflow_x": null,
            "overflow_y": null,
            "padding": null,
            "right": null,
            "top": null,
            "visibility": null,
            "width": null
          }
        },
        "3285920c11434a748f40969a6eff6028": {
          "model_module": "@jupyter-widgets/controls",
          "model_module_version": "1.5.0",
          "model_name": "DescriptionStyleModel",
          "state": {
            "_model_module": "@jupyter-widgets/controls",
            "_model_module_version": "1.5.0",
            "_model_name": "DescriptionStyleModel",
            "_view_count": null,
            "_view_module": "@jupyter-widgets/base",
            "_view_module_version": "1.2.0",
            "_view_name": "StyleView",
            "description_width": ""
          }
        },
        "38d8caa056094a3e85f8ebec1c5a2221": {
          "model_module": "@jupyter-widgets/base",
          "model_module_version": "1.2.0",
          "model_name": "LayoutModel",
          "state": {
            "_model_module": "@jupyter-widgets/base",
            "_model_module_version": "1.2.0",
            "_model_name": "LayoutModel",
            "_view_count": null,
            "_view_module": "@jupyter-widgets/base",
            "_view_module_version": "1.2.0",
            "_view_name": "LayoutView",
            "align_content": null,
            "align_items": null,
            "align_self": null,
            "border": null,
            "bottom": null,
            "display": null,
            "flex": null,
            "flex_flow": null,
            "grid_area": null,
            "grid_auto_columns": null,
            "grid_auto_flow": null,
            "grid_auto_rows": null,
            "grid_column": null,
            "grid_gap": null,
            "grid_row": null,
            "grid_template_areas": null,
            "grid_template_columns": null,
            "grid_template_rows": null,
            "height": null,
            "justify_content": null,
            "justify_items": null,
            "left": null,
            "margin": null,
            "max_height": null,
            "max_width": null,
            "min_height": null,
            "min_width": null,
            "object_fit": null,
            "object_position": null,
            "order": null,
            "overflow": null,
            "overflow_x": null,
            "overflow_y": null,
            "padding": null,
            "right": null,
            "top": null,
            "visibility": null,
            "width": null
          }
        },
        "4626eb3c982a430c87613988cdc77619": {
          "model_module": "@jupyter-widgets/base",
          "model_module_version": "1.2.0",
          "model_name": "LayoutModel",
          "state": {
            "_model_module": "@jupyter-widgets/base",
            "_model_module_version": "1.2.0",
            "_model_name": "LayoutModel",
            "_view_count": null,
            "_view_module": "@jupyter-widgets/base",
            "_view_module_version": "1.2.0",
            "_view_name": "LayoutView",
            "align_content": null,
            "align_items": null,
            "align_self": null,
            "border": null,
            "bottom": null,
            "display": null,
            "flex": "2",
            "flex_flow": null,
            "grid_area": null,
            "grid_auto_columns": null,
            "grid_auto_flow": null,
            "grid_auto_rows": null,
            "grid_column": null,
            "grid_gap": null,
            "grid_row": null,
            "grid_template_areas": null,
            "grid_template_columns": null,
            "grid_template_rows": null,
            "height": null,
            "justify_content": null,
            "justify_items": null,
            "left": null,
            "margin": null,
            "max_height": null,
            "max_width": null,
            "min_height": null,
            "min_width": null,
            "object_fit": null,
            "object_position": null,
            "order": null,
            "overflow": null,
            "overflow_x": null,
            "overflow_y": null,
            "padding": null,
            "right": null,
            "top": null,
            "visibility": null,
            "width": null
          }
        },
        "49f1dddc7686433dac99abcab2a2debf": {
          "model_module": "@jupyter-widgets/controls",
          "model_module_version": "1.5.0",
          "model_name": "HTMLModel",
          "state": {
            "_dom_classes": [],
            "_model_module": "@jupyter-widgets/controls",
            "_model_module_version": "1.5.0",
            "_model_name": "HTMLModel",
            "_view_count": null,
            "_view_module": "@jupyter-widgets/controls",
            "_view_module_version": "1.5.0",
            "_view_name": "HTMLView",
            "description": "",
            "description_tooltip": null,
            "layout": "IPY_MODEL_38d8caa056094a3e85f8ebec1c5a2221",
            "placeholder": "​",
            "style": "IPY_MODEL_601698651cd240fcbf2f77cbf151462f",
            "value": "Epoch 99: 100%"
          }
        },
        "5174b0a7edbc47f3ad14b279d8b1e065": {
          "model_module": "@jupyter-widgets/controls",
          "model_module_version": "1.5.0",
          "model_name": "HTMLModel",
          "state": {
            "_dom_classes": [],
            "_model_module": "@jupyter-widgets/controls",
            "_model_module_version": "1.5.0",
            "_model_name": "HTMLModel",
            "_view_count": null,
            "_view_module": "@jupyter-widgets/controls",
            "_view_module_version": "1.5.0",
            "_view_name": "HTMLView",
            "description": "",
            "description_tooltip": null,
            "layout": "IPY_MODEL_2e574098ec0e458380d044d28b7bb653",
            "placeholder": "​",
            "style": "IPY_MODEL_8defa26d74b4401a852de26964611bb8",
            "value": "Epoch 9: 100%"
          }
        },
        "56a472027f504aadbb52107ad1bc7fbc": {
          "model_module": "@jupyter-widgets/controls",
          "model_module_version": "1.5.0",
          "model_name": "HTMLModel",
          "state": {
            "_dom_classes": [],
            "_model_module": "@jupyter-widgets/controls",
            "_model_module_version": "1.5.0",
            "_model_name": "HTMLModel",
            "_view_count": null,
            "_view_module": "@jupyter-widgets/controls",
            "_view_module_version": "1.5.0",
            "_view_name": "HTMLView",
            "description": "",
            "description_tooltip": null,
            "layout": "IPY_MODEL_a8c448933ab4411a91b4fbede25846de",
            "placeholder": "​",
            "style": "IPY_MODEL_3285920c11434a748f40969a6eff6028",
            "value": " 2/2 [00:00&lt;00:00, 66.63it/s, v_num=18, train_loss_step=0.621, train_loss_epoch=0.520]"
          }
        },
        "5da90e02061343abbd5d6bfca01edd6e": {
          "model_module": "@jupyter-widgets/controls",
          "model_module_version": "1.5.0",
          "model_name": "HBoxModel",
          "state": {
            "_dom_classes": [],
            "_model_module": "@jupyter-widgets/controls",
            "_model_module_version": "1.5.0",
            "_model_name": "HBoxModel",
            "_view_count": null,
            "_view_module": "@jupyter-widgets/controls",
            "_view_module_version": "1.5.0",
            "_view_name": "HBoxView",
            "box_style": "",
            "children": [
              "IPY_MODEL_5174b0a7edbc47f3ad14b279d8b1e065",
              "IPY_MODEL_2a2455ba84bc402e9535c707cd05314b",
              "IPY_MODEL_56a472027f504aadbb52107ad1bc7fbc"
            ],
            "layout": "IPY_MODEL_0ee2a058f9f94fd0a4169d4357865279"
          }
        },
        "601698651cd240fcbf2f77cbf151462f": {
          "model_module": "@jupyter-widgets/controls",
          "model_module_version": "1.5.0",
          "model_name": "DescriptionStyleModel",
          "state": {
            "_model_module": "@jupyter-widgets/controls",
            "_model_module_version": "1.5.0",
            "_model_name": "DescriptionStyleModel",
            "_view_count": null,
            "_view_module": "@jupyter-widgets/base",
            "_view_module_version": "1.2.0",
            "_view_name": "StyleView",
            "description_width": ""
          }
        },
        "8defa26d74b4401a852de26964611bb8": {
          "model_module": "@jupyter-widgets/controls",
          "model_module_version": "1.5.0",
          "model_name": "DescriptionStyleModel",
          "state": {
            "_model_module": "@jupyter-widgets/controls",
            "_model_module_version": "1.5.0",
            "_model_name": "DescriptionStyleModel",
            "_view_count": null,
            "_view_module": "@jupyter-widgets/base",
            "_view_module_version": "1.2.0",
            "_view_name": "StyleView",
            "description_width": ""
          }
        },
        "956d5ec2be6d42e081e85b07211567d5": {
          "model_module": "@jupyter-widgets/controls",
          "model_module_version": "1.5.0",
          "model_name": "ProgressStyleModel",
          "state": {
            "_model_module": "@jupyter-widgets/controls",
            "_model_module_version": "1.5.0",
            "_model_name": "ProgressStyleModel",
            "_view_count": null,
            "_view_module": "@jupyter-widgets/base",
            "_view_module_version": "1.2.0",
            "_view_name": "StyleView",
            "bar_color": null,
            "description_width": ""
          }
        },
        "a8c448933ab4411a91b4fbede25846de": {
          "model_module": "@jupyter-widgets/base",
          "model_module_version": "1.2.0",
          "model_name": "LayoutModel",
          "state": {
            "_model_module": "@jupyter-widgets/base",
            "_model_module_version": "1.2.0",
            "_model_name": "LayoutModel",
            "_view_count": null,
            "_view_module": "@jupyter-widgets/base",
            "_view_module_version": "1.2.0",
            "_view_name": "LayoutView",
            "align_content": null,
            "align_items": null,
            "align_self": null,
            "border": null,
            "bottom": null,
            "display": null,
            "flex": null,
            "flex_flow": null,
            "grid_area": null,
            "grid_auto_columns": null,
            "grid_auto_flow": null,
            "grid_auto_rows": null,
            "grid_column": null,
            "grid_gap": null,
            "grid_row": null,
            "grid_template_areas": null,
            "grid_template_columns": null,
            "grid_template_rows": null,
            "height": null,
            "justify_content": null,
            "justify_items": null,
            "left": null,
            "margin": null,
            "max_height": null,
            "max_width": null,
            "min_height": null,
            "min_width": null,
            "object_fit": null,
            "object_position": null,
            "order": null,
            "overflow": null,
            "overflow_x": null,
            "overflow_y": null,
            "padding": null,
            "right": null,
            "top": null,
            "visibility": null,
            "width": null
          }
        },
        "b1d29d8b25c042ddb5f63d3cbf8e6b56": {
          "model_module": "@jupyter-widgets/controls",
          "model_module_version": "1.5.0",
          "model_name": "ProgressStyleModel",
          "state": {
            "_model_module": "@jupyter-widgets/controls",
            "_model_module_version": "1.5.0",
            "_model_name": "ProgressStyleModel",
            "_view_count": null,
            "_view_module": "@jupyter-widgets/base",
            "_view_module_version": "1.2.0",
            "_view_name": "StyleView",
            "bar_color": null,
            "description_width": ""
          }
        },
        "bc9d48420985438da7bfe9b32861fe7a": {
          "model_module": "@jupyter-widgets/controls",
          "model_module_version": "1.5.0",
          "model_name": "HBoxModel",
          "state": {
            "_dom_classes": [],
            "_model_module": "@jupyter-widgets/controls",
            "_model_module_version": "1.5.0",
            "_model_name": "HBoxModel",
            "_view_count": null,
            "_view_module": "@jupyter-widgets/controls",
            "_view_module_version": "1.5.0",
            "_view_name": "HBoxView",
            "box_style": "",
            "children": [
              "IPY_MODEL_49f1dddc7686433dac99abcab2a2debf",
              "IPY_MODEL_dc63b2ac09324fe79c21ef18d1d1f14c",
              "IPY_MODEL_c1b39746b8b9494d92dc08baaa391a8b"
            ],
            "layout": "IPY_MODEL_d0db6c45468a4109a4d4ce61a4a177d4"
          }
        },
        "c1b39746b8b9494d92dc08baaa391a8b": {
          "model_module": "@jupyter-widgets/controls",
          "model_module_version": "1.5.0",
          "model_name": "HTMLModel",
          "state": {
            "_dom_classes": [],
            "_model_module": "@jupyter-widgets/controls",
            "_model_module_version": "1.5.0",
            "_model_name": "HTMLModel",
            "_view_count": null,
            "_view_module": "@jupyter-widgets/controls",
            "_view_module_version": "1.5.0",
            "_view_name": "HTMLView",
            "description": "",
            "description_tooltip": null,
            "layout": "IPY_MODEL_ebd1df8eea3449f08999d7b3a5e0c3f6",
            "placeholder": "​",
            "style": "IPY_MODEL_fa7d6abc38894fc9a724b9606a866d7c",
            "value": " 2/2 [00:00&lt;00:00, 81.74it/s, v_num=36, train_loss_step=0.733, train_loss_epoch=0.632]"
          }
        },
        "d0db6c45468a4109a4d4ce61a4a177d4": {
          "model_module": "@jupyter-widgets/base",
          "model_module_version": "1.2.0",
          "model_name": "LayoutModel",
          "state": {
            "_model_module": "@jupyter-widgets/base",
            "_model_module_version": "1.2.0",
            "_model_name": "LayoutModel",
            "_view_count": null,
            "_view_module": "@jupyter-widgets/base",
            "_view_module_version": "1.2.0",
            "_view_name": "LayoutView",
            "align_content": null,
            "align_items": null,
            "align_self": null,
            "border": null,
            "bottom": null,
            "display": "inline-flex",
            "flex": null,
            "flex_flow": "row wrap",
            "grid_area": null,
            "grid_auto_columns": null,
            "grid_auto_flow": null,
            "grid_auto_rows": null,
            "grid_column": null,
            "grid_gap": null,
            "grid_row": null,
            "grid_template_areas": null,
            "grid_template_columns": null,
            "grid_template_rows": null,
            "height": null,
            "justify_content": null,
            "justify_items": null,
            "left": null,
            "margin": null,
            "max_height": null,
            "max_width": null,
            "min_height": null,
            "min_width": null,
            "object_fit": null,
            "object_position": null,
            "order": null,
            "overflow": null,
            "overflow_x": null,
            "overflow_y": null,
            "padding": null,
            "right": null,
            "top": null,
            "visibility": null,
            "width": "100%"
          }
        },
        "dc63b2ac09324fe79c21ef18d1d1f14c": {
          "model_module": "@jupyter-widgets/controls",
          "model_module_version": "1.5.0",
          "model_name": "FloatProgressModel",
          "state": {
            "_dom_classes": [],
            "_model_module": "@jupyter-widgets/controls",
            "_model_module_version": "1.5.0",
            "_model_name": "FloatProgressModel",
            "_view_count": null,
            "_view_module": "@jupyter-widgets/controls",
            "_view_module_version": "1.5.0",
            "_view_name": "ProgressView",
            "bar_style": "success",
            "description": "",
            "description_tooltip": null,
            "layout": "IPY_MODEL_4626eb3c982a430c87613988cdc77619",
            "max": 2,
            "min": 0,
            "orientation": "horizontal",
            "style": "IPY_MODEL_956d5ec2be6d42e081e85b07211567d5",
            "value": 2
          }
        },
        "ebd1df8eea3449f08999d7b3a5e0c3f6": {
          "model_module": "@jupyter-widgets/base",
          "model_module_version": "1.2.0",
          "model_name": "LayoutModel",
          "state": {
            "_model_module": "@jupyter-widgets/base",
            "_model_module_version": "1.2.0",
            "_model_name": "LayoutModel",
            "_view_count": null,
            "_view_module": "@jupyter-widgets/base",
            "_view_module_version": "1.2.0",
            "_view_name": "LayoutView",
            "align_content": null,
            "align_items": null,
            "align_self": null,
            "border": null,
            "bottom": null,
            "display": null,
            "flex": null,
            "flex_flow": null,
            "grid_area": null,
            "grid_auto_columns": null,
            "grid_auto_flow": null,
            "grid_auto_rows": null,
            "grid_column": null,
            "grid_gap": null,
            "grid_row": null,
            "grid_template_areas": null,
            "grid_template_columns": null,
            "grid_template_rows": null,
            "height": null,
            "justify_content": null,
            "justify_items": null,
            "left": null,
            "margin": null,
            "max_height": null,
            "max_width": null,
            "min_height": null,
            "min_width": null,
            "object_fit": null,
            "object_position": null,
            "order": null,
            "overflow": null,
            "overflow_x": null,
            "overflow_y": null,
            "padding": null,
            "right": null,
            "top": null,
            "visibility": null,
            "width": null
          }
        },
        "fa7d6abc38894fc9a724b9606a866d7c": {
          "model_module": "@jupyter-widgets/controls",
          "model_module_version": "1.5.0",
          "model_name": "DescriptionStyleModel",
          "state": {
            "_model_module": "@jupyter-widgets/controls",
            "_model_module_version": "1.5.0",
            "_model_name": "DescriptionStyleModel",
            "_view_count": null,
            "_view_module": "@jupyter-widgets/base",
            "_view_module_version": "1.2.0",
            "_view_name": "StyleView",
            "description_width": ""
          }
        }
      }
    }
  },
  "nbformat": 4,
  "nbformat_minor": 0
}
