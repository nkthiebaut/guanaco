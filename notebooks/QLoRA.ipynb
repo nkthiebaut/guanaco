{
  "cells": [
    {
      "cell_type": "markdown",
      "metadata": {
        "id": "jkVJ3mMSsJEE"
      },
      "source": [
        "# Quantized Low-Rank Adapters (QLoRA)\n",
        "\n",
        "Paper: https://arxiv.org/pdf/2305.14314\n",
        "\n",
        "PEFT library guide: https://huggingface.co/docs/peft/en/developer_guides/lora#lora\n",
        "\n",
        "Let's start with a review of quantization. A naive quantization scheme from `fp32` to `int8` would simply rescale the inputs before rounding, and would look like this:\n",
        "\n",
        "$$\n",
        "\\mathbf{X}^{\\mathrm{Int8}}=\\operatorname{round}\\left(\\frac{127}{\\operatorname{absmax}\\left(\\mathbf{X}^{\\mathrm{FP} 32}\\right)} \\mathbf{X}^{\\mathrm{FP} 32}\\right)=\\operatorname{round}\\left(c^{\\mathrm{FP} 32} \\cdot \\mathbf{X}^{\\mathrm{FP} 32}\\right)\n",
        "$$\n",
        "\n",
        "where\n",
        "- $\\mathbf{X}^{\\mathrm{FP} 32}$ is an input tensor (in precision `fp32`),\n",
        "- 127 is the maximum value of an `int8` signed integer using 8 bits (replace by $2^{n_{\\text{bits}}-1}-1$ if $n_{\\text{bits}}\\neq 8$), and\n",
        "- $\\operatorname{absmax}\\left(\\mathbf{X}^{\\mathrm{FP} 32}\\right)$ is the maximum (absolute) value of the input tensor,\n",
        "- $c^{\\mathrm{FP} 32}$ is called the \"rescaling factor\".\n",
        "\n",
        "Let's see the kind of approximations that are made with this quantization scheme."
      ]
    },
    {
      "cell_type": "code",
      "execution_count": 1,
      "metadata": {
        "id": "axk9e650sINX"
      },
      "outputs": [
        {
          "name": "stdout",
          "output_type": "stream",
          "text": [
            "Note: you may need to restart the kernel to use updated packages.\n"
          ]
        }
      ],
      "source": [
        "%pip install -q accelerate bitsandbytes trl peft transformers"
      ]
    },
    {
      "cell_type": "code",
      "execution_count": 2,
      "metadata": {
        "id": "yj5-xG8WogNP"
      },
      "outputs": [],
      "source": [
        "import numpy as np\n",
        "import math\n",
        "import matplotlib.pyplot as plt"
      ]
    },
    {
      "cell_type": "code",
      "execution_count": 3,
      "metadata": {
        "colab": {
          "base_uri": "https://localhost:8080/"
        },
        "id": "k17vVVU9iKws",
        "outputId": "2ac18b52-4303-47b8-f45a-b31d28c596ad"
      },
      "outputs": [
        {
          "name": "stdout",
          "output_type": "stream",
          "text": [
            "Input tensor: [ 0.31280914  0.55544498  0.61973782 -0.31506674  0.11967455 -0.68322584\n",
            "  0.38825619  0.17450365 -0.49177243 -0.78269681]\n",
            "Quantized: [ 3.  5.  6. -3.  1. -6.  3.  2. -4. -7.]\n",
            "Dequantized: [ 0.33544149  0.55906915  0.67088298 -0.33544149  0.11181383 -0.67088298\n",
            "  0.33544149  0.22362766 -0.44725532 -0.78269681]\n"
          ]
        }
      ],
      "source": [
        "class Quantization:\n",
        "    \"\"\"Implements \"naive\" integer quantization with rescaling.\"\"\"\n",
        "    def __init__(self, bits=4):\n",
        "        self.bits = bits\n",
        "        self.quantization_scale = None\n",
        "\n",
        "    def quantize(self, X):\n",
        "        \"\"\"The quantization scale is computed during quantization, and is needed for\n",
        "        dequantization (notably, computes the absmax of the input tensor.)\"\"\"\n",
        "        self.quantization_scale = (2**(self.bits - 1) - 1)/np.abs(X).max()\n",
        "        return np.round(self.quantization_scale * X)\n",
        "\n",
        "    def dequantize(self, quantized_value):\n",
        "        \"\"\"Restore initial values\"\"\"\n",
        "        return quantized_value / self.quantization_scale\n",
        "\n",
        "quant = Quantization(bits=4)\n",
        "X = np.random.uniform(-1, 1, 10)\n",
        "print(f\"Input tensor: {X}\")\n",
        "X_quant = quant.quantize(X)\n",
        "print(f\"Quantized: {X_quant}\")\n",
        "print(f\"Dequantized: {quant.dequantize(X_quant)}\")"
      ]
    },
    {
      "cell_type": "code",
      "execution_count": 4,
      "metadata": {
        "colab": {
          "base_uri": "https://localhost:8080/",
          "height": 408
        },
        "id": "u35LgstBoaTQ",
        "outputId": "d82a3ae5-da2d-46e5-e122-ebdf98e3d5a5"
      },
      "outputs": [
        {
          "data": {
            "text/plain": [
              "<matplotlib.legend.Legend at 0x7f8618bbebc0>"
            ]
          },
          "execution_count": 4,
          "metadata": {},
          "output_type": "execute_result"
        },
        {
          "data": {
            "image/png": "[encoded data removed]",
            "text/plain": [
              "<Figure size 800x400 with 1 Axes>"
            ]
          },
          "metadata": {},
          "output_type": "display_data"
        }
      ],
      "source": [
        "x = np.linspace(0, 1., 50)\n",
        "\n",
        "quant4 = Quantization(bits=4)\n",
        "quant8 = Quantization(bits=8)\n",
        "\n",
        "y_4bits = quant4.dequantize(quant4.quantize(x))\n",
        "y_8bits = quant8.dequantize(quant8.quantize(x))\n",
        "\n",
        "fig, ax = plt.subplots(figsize=(8, 4))\n",
        "ax.plot(x, x, label=\"Original\")\n",
        "ax.step(x, y_4bits, label=\"4bits\", where=\"mid\")\n",
        "ax.step(x, y_8bits, label=\"8bits\", where=\"mid\")\n",
        "ax.set_title(\"Quantization error\")\n",
        "plt.legend()"
      ]
    },
    {
      "cell_type": "markdown",
      "metadata": {},
      "source": [
        "Note that this quantization scheme is very sensitive to outliers, i.e. if the  maximum (absolute) value of the input tensor ($\\operatorname{absmax}\\left(\\mathbf{X}^{\\mathrm{FP} 32}\\right)$) is much larger than other values, then most values are quantized to the same bucket. \n",
        "\n",
        "### Dealing with the outlier problem: 4-bit NormalFloat Quantization \n",
        "From the paper: \n",
        "> QLORA has one low-precision storage data type, in our case usually 4-bit, and one computation data\n",
        "type that is usually BFloat16. In practice, this means whenever a QLORA weight tensor is used, we\n",
        "dequantize the tensor to BFloat16, and then perform a matrix multiplication in 16-bit.\n",
        "\n",
        "To mitigate the outlier issue mentioned above, QLoRA introduces the 4-bit NormalFloat format (`nf4`). The latter consists in rescaling the standard deviation of the weight tensor to match the standard deviation of the 4-bits data type. The $2^4=16$ values of the target data type then map to the following quantiles of the normal distribution:\n",
        "\n",
        "$$\n",
        "q_i=\\frac{1}{2}\\left(Q_X\\left(\\frac{i}{2^k+1}\\right)+Q_X\\left(\\frac{i+1}{2^k+1}\\right)\\right)\n",
        "$$\n",
        "\n",
        "where $Q_X(\\cdot)$ is the quantile function of the standard normal distribution $\\mathcal{N}(0,1)$.\n",
        "\n",
        "QLoRA also adds two optimizations on top of the above quantization mechanism: \n",
        "- double quantization, in which the quantization scales are in turn quantized\n",
        "- paged optimizers: offload some gradients to the CPU to avoid memory spikes\n",
        "\n"
      ]
    },
    {
      "cell_type": "code",
      "execution_count": 5,
      "metadata": {},
      "outputs": [
        {
          "data": {
            "image/png": "[encoded data removed]",
            "text/plain": [
              "<Figure size 1000x600 with 1 Axes>"
            ]
          },
          "metadata": {},
          "output_type": "display_data"
        }
      ],
      "source": [
        "import numpy as np\n",
        "import matplotlib.pyplot as plt\n",
        "from scipy.stats import norm\n",
        "\n",
        "Q_X = norm.ppf # Quantile function for the standard normal distribution\n",
        "\n",
        "def q_i(i, k):\n",
        "    return 0.5 * (Q_X(i / (2**k + 1)) + Q_X((i + 1) / (2**k + 1)))\n",
        "\n",
        "n_bits = 4  # Example value for k\n",
        "i_values = np.arange(0, 2**(n_bits+1) + 1)\n",
        "q_i_values = [q_i(i, n_bits) for i in i_values]\n",
        "\n",
        "plt.figure(figsize=(10, 6))\n",
        "plt.step(i_values, q_i_values, marker='', where=\"mid\")\n",
        "plt.title(r'$q_i = \\frac{1}{2}\\left(Q_X\\left(\\frac{i}{2^k+1}\\right)+Q_X\\left(\\frac{i+1}{2^k+1}\\right)\\right)$')\n",
        "plt.xlabel('i')\n",
        "plt.ylabel(r'$q_i$')\n",
        "plt.grid(True)\n",
        "plt.show()"
      ]
    },
    {
      "cell_type": "markdown",
      "metadata": {},
      "source": [
        "## QLoRA fine-tuning"
      ]
    },
    {
      "cell_type": "code",
      "execution_count": 6,
      "metadata": {
        "colab": {
          "base_uri": "https://localhost:8080/",
          "height": 303,
          "referenced_widgets": [
            "7d23ee860b9640b8affe65a0284165b3",
            "7bc16583a045416a859c856271e9b8d0",
            "a23d782c869a4928b9922dd804640860",
            "a028f028bbdc41f6a9bd4c7dd62fabbf",
            "3b95b5ddee8c445da4b31949ff67b31a",
            "8a622172de4c40a4807af0a6516c77f8",
            "90faa04c1f254401b53b8575cd2ca6ec",
            "2a08eb0cb4de4f79a268f1b07e264aef",
            "b68c19f544fc43c296be90f18767eaa0",
            "f15d18b04ab4483c8ae187a891a627c2",
            "503f6504614d4b9fbce2fa325d09d833",
            "0ec98ac0a09f4652866a397442150c5c",
            "f0f7767957e44c14be6baa5635e5439f",
            "0d39a7ee86704c6b9d5bb3161c170cfc",
            "aa25d5e6890040ae82f661ef3e5a1be5",
            "86a263741fbd48a3b4691040f1abeb3e",
            "dbbee6e212374e298681bcf3ba15fc4f"
          ]
        },
        "id": "EHzVpaYMfVde",
        "outputId": "66274aa3-8680-41e7-dc39-360e69f27b5e"
      },
      "outputs": [
        {
          "data": {
            "application/vnd.jupyter.widget-view+json": {
              "model_id": "84b663932d834382bbbb667242a41fc7",
              "version_major": 2,
              "version_minor": 0
            },
            "text/plain": [
              "VBox(children=(HTML(value='<center> <img\\nsrc=https://huggingface.co/front/assets/huggingface_logo-noborder.sv…"
            ]
          },
          "metadata": {},
          "output_type": "display_data"
        }
      ],
      "source": [
        "from huggingface_hub import login\n",
        "login()"
      ]
    },
    {
      "cell_type": "code",
      "execution_count": 7,
      "metadata": {
        "id": "vziwd2UuCYGl"
      },
      "outputs": [],
      "source": [
        "from transformers import AutoModelForCausalLM, AutoTokenizer, BitsAndBytesConfig\n",
        "from trl import SFTTrainer\n",
        "import torch\n",
        "\n",
        "device = \"cuda\" if torch.cuda.is_available() else \"cpu\"\n",
        "\n",
        "# https://huggingface.co/docs/transformers/en/peft#train-a-peft-adapter\n",
        "# model_name = \"bigscience/bloomz-560m\"\n",
        "# target_modules = [\"query_key_value\"]\n",
        "\n",
        "# model_name = \"meta-llama/Meta-Llama-3-8B\"\n",
        "model_name = \"google/gemma-2b\"\n",
        "target_modules = [\"q_proj\", \"v_proj\"]"
      ]
    },
    {
      "cell_type": "code",
      "execution_count": 8,
      "metadata": {
        "colab": {
          "base_uri": "https://localhost:8080/",
          "height": 171,
          "referenced_widgets": [
            "66653e919eb6478a8efa85fcc42e36ce",
            "9cb8346933464653af05bcd9fbe83a5c",
            "226912dc58ab434da5e5d36e88dd0c8b",
            "944adc08254c4f8bb9b37ca39051a936",
            "ee933cc905ba4a0395d5cb859d596f3f",
            "e1c16dfa6d8f4854aa7dedf086748e91",
            "dd4221bd59ed43539d3ba1d7c9acaccc",
            "f0eb8be25ee040108e176ddc066a475c",
            "f6659c3b5b144251942d182092a37102",
            "4ee379bd04184e358cf06283beae99b1",
            "5128b6b9446c41bb854eef3115d70f53"
          ]
        },
        "id": "cyeiBsuPd-wn",
        "outputId": "ae271350-1ab0-4cf8-f859-54b68617a48d"
      },
      "outputs": [
        {
          "name": "stderr",
          "output_type": "stream",
          "text": [
            "`config.hidden_act` is ignored, you should use `config.hidden_activation` instead.\n",
            "Gemma's activation function will be set to `gelu_pytorch_tanh`. Please, use\n",
            "`config.hidden_activation` if you want to override this behaviour.\n",
            "See https://github.com/huggingface/transformers/pull/29402 for more details.\n"
          ]
        },
        {
          "data": {
            "application/vnd.jupyter.widget-view+json": {
              "model_id": "cbe652515668485bbb7a6b835034133e",
              "version_major": 2,
              "version_minor": 0
            },
            "text/plain": [
              "Loading checkpoint shards:   0%|          | 0/2 [00:00<?, ?it/s]"
            ]
          },
          "metadata": {},
          "output_type": "display_data"
        }
      ],
      "source": [
        "tokenizer = AutoTokenizer.from_pretrained(model_name)\n",
        "\n",
        "quantization_config = BitsAndBytesConfig(\n",
        "    load_in_4bit=True,\n",
        "    bnb_4bit_compute_dtype=torch.bfloat16,\n",
        "    bnb_4bit_use_double_quant=True,\n",
        "    bnb_4bit_quant_type='nf4'\n",
        ")\n",
        "\n",
        "\n",
        "model = AutoModelForCausalLM.from_pretrained(\n",
        "    model_name,\n",
        "    device_map='auto',\n",
        "    # torch_dtype=torch.bfloat16,\n",
        "    quantization_config=quantization_config,\n",
        ")"
      ]
    },
    {
      "cell_type": "markdown",
      "metadata": {
        "id": "FL5L_DcR9ggA"
      },
      "source": [
        "## Dataset\n",
        "We'll fine-tune Llama3 on the following math problem dataset:\n",
        "https://huggingface.co/datasets/microsoft/orca-math-word-problems-200k"
      ]
    },
    {
      "cell_type": "code",
      "execution_count": 9,
      "metadata": {
        "colab": {
          "base_uri": "https://localhost:8080/"
        },
        "id": "ijIGj6dpgnaj",
        "outputId": "e7fbcc03-b1db-4605-b8f7-d4ff6be408dc"
      },
      "outputs": [
        {
          "data": {
            "text/plain": [
              "{'question': 'Jungkook is the 5th place. Find the number of people who crossed the finish line faster than Jungkook.',\n",
              " 'answer': 'If Jungkook is in 5th place, then 4 people crossed the finish line faster than him.'}"
            ]
          },
          "execution_count": 9,
          "metadata": {},
          "output_type": "execute_result"
        }
      ],
      "source": [
        "from datasets import load_dataset\n",
        "\n",
        "dataset = load_dataset(\"microsoft/orca-math-word-problems-200k\")\n",
        "dataset[\"train\"][0]"
      ]
    },
    {
      "cell_type": "code",
      "execution_count": 10,
      "metadata": {
        "colab": {
          "base_uri": "https://localhost:8080/"
        },
        "id": "XnzvhmZqUI5H",
        "outputId": "45843863-b4a6-4ec5-a713-83ab9fe1acf6"
      },
      "outputs": [
        {
          "data": {
            "text/plain": [
              "{'question': 'This year, the age difference between Minsu and his mother is 28 years old, and after 13 years, the age of his mother will be twice that of Minsu. Find the age of Minsu this year.',\n",
              " 'answer': \"Let's denote Minsu's current age as M and his mother's current age as M_m.\\n\\nAccording to the information given, we have two equations:\\n\\n1) M_m - M = 28 (The age difference between Minsu and his mother is 28 years)\\n\\n2) M_m + 13 = 2(M + 13) (After 13 years, the mother's age will be twice Minsu's age)\\n\\nNow, let's solve these equations step by step.\\n\\nFrom equation 1, we can express M_m in terms of M:\\n\\nM_m = M + 28\\n\\nNow, let's substitute M_m in equation 2 with the expression we found from equation 1:\\n\\n(M + 28) + 13 = 2(M + 13)\\n\\nSimplify the equation:\\n\\nM + 41 = 2M + 26\\n\\nNow, let's solve for M:\\n\\n2M - M = 41 - 26\\nM = 15\\n\\nSo, Minsu is currently 15 years old.\"}"
            ]
          },
          "execution_count": 10,
          "metadata": {},
          "output_type": "execute_result"
        }
      ],
      "source": [
        "dataset[\"train\"][10]"
      ]
    },
    {
      "cell_type": "code",
      "execution_count": 11,
      "metadata": {
        "colab": {
          "base_uri": "https://localhost:8080/"
        },
        "id": "uR6_ek1iSVb0",
        "outputId": "7a38fbb9-7548-462b-d5f2-3b4f8aa774fa"
      },
      "outputs": [
        {
          "name": "stdout",
          "output_type": "stream",
          "text": [
            "Question: This year, the age difference between Minsu and his mother is 28 years old, and after 13 years, the age of his mother will be twice that of Minsu. Find the age of Minsu this year.\n",
            "### Question: This year, the age difference between Minsu and his mother is 28 years old, and after 13 years, the age of his mother will be twice that of Minsu. Find the age of Minsu this year.\n",
            " ### Answer: 15\n",
            "\n",
            "import math\n",
            "def main():\n",
            "    age_m = int(input(\"Enter your current age: \"))\n",
            "    print(\"Your mom's age in next 40 years:\", (math.ceil((60-age\n"
          ]
        }
      ],
      "source": [
        "# From: https://huggingface.co/docs/trl/en/sft_trainer#add-special-tokens-for-chat-format\n",
        "def formatting_prompts_func(example):\n",
        "    output_texts = []\n",
        "    for i in range(len(example['question'])):\n",
        "        text = f\"### Question: {example['question'][i]}\\n ### Answer: {example['answer'][i]}\"\n",
        "        output_texts.append(text)\n",
        "    return output_texts\n",
        "\n",
        "def get_outputs(model, inputs, max_new_tokens=100):\n",
        "    outputs = model.generate(\n",
        "        input_ids=inputs[\"input_ids\"],\n",
        "        attention_mask=inputs[\"attention_mask\"],\n",
        "        max_new_tokens=max_new_tokens,\n",
        "        repetition_penalty=1.5,\n",
        "        early_stopping=False,\n",
        "        eos_token_id=tokenizer.eos_token_id,\n",
        "    )\n",
        "    return outputs\n",
        "\n",
        "question = dataset[\"train\"][10][\"question\"]\n",
        "print(f\"Question: {question}\")\n",
        "question = formatting_prompts_func({\n",
        "    \"question\": [question],\n",
        "    \"answer\": [\"\"],\n",
        "})\n",
        "input_sentences = tokenizer(question, return_tensors=\"pt\").to(device)\n",
        "foundational_outputs_sentence = get_outputs(model, input_sentences, max_new_tokens=50)\n",
        "\n",
        "print(tokenizer.batch_decode(foundational_outputs_sentence, skip_special_tokens=True)[0])"
      ]
    },
    {
      "cell_type": "markdown",
      "metadata": {
        "id": "oVPAJsrUAHiJ"
      },
      "source": [
        "## Fine-Tuning.\n",
        "\n",
        "Let's first try to fine-tune the entire model."
      ]
    },
    {
      "cell_type": "code",
      "execution_count": 26,
      "metadata": {},
      "outputs": [
        {
          "data": {
            "text/plain": [
              "Dataset({\n",
              "    features: ['question', 'answer'],\n",
              "    num_rows: 100\n",
              "})"
            ]
          },
          "execution_count": 26,
          "metadata": {},
          "output_type": "execute_result"
        }
      ],
      "source": [
        "dataset[\"train\"].select(range(100))"
      ]
    },
    {
      "cell_type": "code",
      "execution_count": 27,
      "metadata": {
        "colab": {
          "base_uri": "https://localhost:8080/",
          "height": 356
        },
        "id": "hzme6Q9fQvI3",
        "outputId": "901276e1-a248-4e5b-b067-546a3f96fb5a"
      },
      "outputs": [
        {
          "name": "stderr",
          "output_type": "stream",
          "text": [
            "/home/zeus/miniconda3/envs/cloudspace/lib/python3.10/site-packages/trl/trainer/sft_trainer.py:246: UserWarning: You didn't pass a `max_seq_length` argument to the SFTTrainer, this will default to 1024\n",
            "  warnings.warn(\n"
          ]
        },
        {
          "data": {
            "application/vnd.jupyter.widget-view+json": {
              "model_id": "9406f0af68474508963d98864c551d14",
              "version_major": 2,
              "version_minor": 0
            },
            "text/plain": [
              "Map:   0%|          | 0/100 [00:00<?, ? examples/s]"
            ]
          },
          "metadata": {},
          "output_type": "display_data"
        },
        {
          "name": "stderr",
          "output_type": "stream",
          "text": [
            "/home/zeus/miniconda3/envs/cloudspace/lib/python3.10/site-packages/trl/trainer/sft_trainer.py:318: UserWarning: You passed a tokenizer with `padding_side` not equal to `right` to the SFTTrainer. This might lead to some unexpected behaviour due to overflow issues when training a model in half-precision. You might consider adding `tokenizer.padding_side = 'right'` to your code.\n",
            "  warnings.warn(\n"
          ]
        },
        {
          "data": {
            "text/html": [
              "\n",
              "    <div>\n",
              "      \n",
              "      <progress value='50' max='50' style='width:300px; height:20px; vertical-align: middle;'></progress>\n",
              "      [50/50 00:16, Epoch 1/1]\n",
              "    </div>\n",
              "    <table border=\"1\" class=\"dataframe\">\n",
              "  <thead>\n",
              " <tr style=\"text-align: left;\">\n",
              "      <th>Step</th>\n",
              "      <th>Training Loss</th>\n",
              "    </tr>\n",
              "  </thead>\n",
              "  <tbody>\n",
              "  </tbody>\n",
              "</table><p>"
            ],
            "text/plain": [
              "<IPython.core.display.HTML object>"
            ]
          },
          "metadata": {},
          "output_type": "display_data"
        },
        {
          "data": {
            "text/plain": [
              "TrainOutput(global_step=50, training_loss=1.0903746032714843, metrics={'train_runtime': 17.3996, 'train_samples_per_second': 5.747, 'train_steps_per_second': 2.874, 'total_flos': 336515525001216.0, 'train_loss': 1.0903746032714843, 'epoch': 1.0})"
            ]
          },
          "execution_count": 27,
          "metadata": {},
          "output_type": "execute_result"
        }
      ],
      "source": [
        "from transformers import (\n",
        "    DataCollatorForLanguageModeling, TrainingArguments, Trainer\n",
        ")\n",
        "from peft import LoraConfig, get_peft_model\n",
        "\n",
        "data_collator = DataCollatorForLanguageModeling(tokenizer, mlm=False)\n",
        "\n",
        "training_args = TrainingArguments(\n",
        "    output_dir=\".\",\n",
        "    per_device_train_batch_size=2,\n",
        "    # auto_find_batch_size=True,\n",
        "    learning_rate=2e-4,\n",
        "    num_train_epochs=1\n",
        ")\n",
        "\n",
        "\n",
        "\n",
        "lora_config = LoraConfig(\n",
        "    r=2,\n",
        "    lora_alpha=16,\n",
        "    target_modules=target_modules,\n",
        "    lora_dropout=0.05,\n",
        "    bias=\"none\",\n",
        "    task_type=\"CAUSAL_LM\"\n",
        ")\n",
        "model.add_adapter(lora_config)\n",
        "\n",
        "tokenizer.pad_token = tokenizer.eos_token\n",
        "trainer = SFTTrainer(\n",
        "    model,\n",
        "    args=training_args,\n",
        "    train_dataset=dataset[\"train\"].select(range(100)),\n",
        "    formatting_func=formatting_prompts_func,\n",
        "    tokenizer=tokenizer,\n",
        "    data_collator=data_collator,\n",
        "    peft_config=lora_config,\n",
        ")\n",
        "\n",
        "# model = get_peft_model(model, lora_config)\n",
        "# model.print_trainable_parameters()\n",
        "trainer.train()"
      ]
    },
    {
      "cell_type": "code",
      "execution_count": 28,
      "metadata": {
        "id": "z5NYHqBnGZyF"
      },
      "outputs": [
        {
          "name": "stdout",
          "output_type": "stream",
          "text": [
            "Question: This year, the age difference between Minsu and his mother is 28 years old, and after 13 years, the age of his mother will be twice that of Minsu. Find the age of Minsu this year.\n",
            "### Question: This year, the age difference between Minsu and his mother is 28 years old, and after 13 years, the age of his mother will be twice that of Minsu. Find the age of Minsu this year.\n",
            " ### Answer: \n",
            "\n",
            "Let's start by finding out how many years have passed since Minsu was born until now. Since he has been living with his mother for 13 years (since birth), we can subtract 5 from it to find out how many\n"
          ]
        }
      ],
      "source": [
        "question = dataset[\"train\"][10][\"question\"]\n",
        "print(f\"Question: {question}\")\n",
        "question = formatting_prompts_func({\n",
        "    \"question\": [question],\n",
        "    \"answer\": [\"\"],\n",
        "})\n",
        "input_sentences = tokenizer(question, return_tensors=\"pt\").to(device)\n",
        "foundational_outputs_sentence = get_outputs(model, input_sentences, max_new_tokens=50)\n",
        "\n",
        "print(tokenizer.batch_decode(foundational_outputs_sentence, skip_special_tokens=True)[0])"
      ]
    },
    {
      "cell_type": "code",
      "execution_count": null,
      "metadata": {
        "id": "PkCW5sskU2cl"
      },
      "outputs": [],
      "source": []
    }
  ],
  "metadata": {
    "accelerator": "GPU",
    "colab": {
      "gpuType": "T4",
      "machine_shape": "hm",
      "provenance": []
    },
    "kernelspec": {
      "display_name": "Python 3",
      "name": "python3"
    },
    "language_info": {
      "codemirror_mode": {
        "name": "ipython",
        "version": 3
      },
      "file_extension": ".py",
      "mimetype": "text/x-python",
      "name": "python",
      "nbconvert_exporter": "python",
      "pygments_lexer": "ipython3",
      "version": "3.10.10"
    },
    "widgets": {
      "application/vnd.jupyter.widget-state+json": {
        "0d39a7ee86704c6b9d5bb3161c170cfc": {
          "model_module": "@jupyter-widgets/base",
          "model_module_version": "1.2.0",
          "model_name": "LayoutModel",
          "state": {
            "_model_module": "@jupyter-widgets/base",
            "_model_module_version": "1.2.0",
            "_model_name": "LayoutModel",
            "_view_count": null,
            "_view_module": "@jupyter-widgets/base",
            "_view_module_version": "1.2.0",
            "_view_name": "LayoutView",
            "align_content": null,
            "align_items": null,
            "align_self": null,
            "border": null,
            "bottom": null,
            "display": null,
            "flex": null,
            "flex_flow": null,
            "grid_area": null,
            "grid_auto_columns": null,
            "grid_auto_flow": null,
            "grid_auto_rows": null,
            "grid_column": null,
            "grid_gap": null,
            "grid_row": null,
            "grid_template_areas": null,
            "grid_template_columns": null,
            "grid_template_rows": null,
            "height": null,
            "justify_content": null,
            "justify_items": null,
            "left": null,
            "margin": null,
            "max_height": null,
            "max_width": null,
            "min_height": null,
            "min_width": null,
            "object_fit": null,
            "object_position": null,
            "order": null,
            "overflow": null,
            "overflow_x": null,
            "overflow_y": null,
            "padding": null,
            "right": null,
            "top": null,
            "visibility": null,
            "width": null
          }
        },
        "0ec98ac0a09f4652866a397442150c5c": {
          "model_module": "@jupyter-widgets/base",
          "model_module_version": "1.2.0",
          "model_name": "LayoutModel",
          "state": {
            "_model_module": "@jupyter-widgets/base",
            "_model_module_version": "1.2.0",
            "_model_name": "LayoutModel",
            "_view_count": null,
            "_view_module": "@jupyter-widgets/base",
            "_view_module_version": "1.2.0",
            "_view_name": "LayoutView",
            "align_content": null,
            "align_items": null,
            "align_self": null,
            "border": null,
            "bottom": null,
            "display": null,
            "flex": null,
            "flex_flow": null,
            "grid_area": null,
            "grid_auto_columns": null,
            "grid_auto_flow": null,
            "grid_auto_rows": null,
            "grid_column": null,
            "grid_gap": null,
            "grid_row": null,
            "grid_template_areas": null,
            "grid_template_columns": null,
            "grid_template_rows": null,
            "height": null,
            "justify_content": null,
            "justify_items": null,
            "left": null,
            "margin": null,
            "max_height": null,
            "max_width": null,
            "min_height": null,
            "min_width": null,
            "object_fit": null,
            "object_position": null,
            "order": null,
            "overflow": null,
            "overflow_x": null,
            "overflow_y": null,
            "padding": null,
            "right": null,
            "top": null,
            "visibility": null,
            "width": null
          }
        },
        "226912dc58ab434da5e5d36e88dd0c8b": {
          "model_module": "@jupyter-widgets/controls",
          "model_module_version": "1.5.0",
          "model_name": "FloatProgressModel",
          "state": {
            "_dom_classes": [],
            "_model_module": "@jupyter-widgets/controls",
            "_model_module_version": "1.5.0",
            "_model_name": "FloatProgressModel",
            "_view_count": null,
            "_view_module": "@jupyter-widgets/controls",
            "_view_module_version": "1.5.0",
            "_view_name": "ProgressView",
            "bar_style": "success",
            "description": "",
            "description_tooltip": null,
            "layout": "IPY_MODEL_f0eb8be25ee040108e176ddc066a475c",
            "max": 4,
            "min": 0,
            "orientation": "horizontal",
            "style": "IPY_MODEL_f6659c3b5b144251942d182092a37102",
            "value": 4
          }
        },
        "2a08eb0cb4de4f79a268f1b07e264aef": {
          "model_module": "@jupyter-widgets/base",
          "model_module_version": "1.2.0",
          "model_name": "LayoutModel",
          "state": {
            "_model_module": "@jupyter-widgets/base",
            "_model_module_version": "1.2.0",
            "_model_name": "LayoutModel",
            "_view_count": null,
            "_view_module": "@jupyter-widgets/base",
            "_view_module_version": "1.2.0",
            "_view_name": "LayoutView",
            "align_content": null,
            "align_items": null,
            "align_self": null,
            "border": null,
            "bottom": null,
            "display": null,
            "flex": null,
            "flex_flow": null,
            "grid_area": null,
            "grid_auto_columns": null,
            "grid_auto_flow": null,
            "grid_auto_rows": null,
            "grid_column": null,
            "grid_gap": null,
            "grid_row": null,
            "grid_template_areas": null,
            "grid_template_columns": null,
            "grid_template_rows": null,
            "height": null,
            "justify_content": null,
            "justify_items": null,
            "left": null,
            "margin": null,
            "max_height": null,
            "max_width": null,
            "min_height": null,
            "min_width": null,
            "object_fit": null,
            "object_position": null,
            "order": null,
            "overflow": null,
            "overflow_x": null,
            "overflow_y": null,
            "padding": null,
            "right": null,
            "top": null,
            "visibility": null,
            "width": null
          }
        },
        "3b95b5ddee8c445da4b31949ff67b31a": {
          "model_module": "@jupyter-widgets/controls",
          "model_module_version": "1.5.0",
          "model_name": "ButtonModel",
          "state": {
            "_dom_classes": [],
            "_model_module": "@jupyter-widgets/controls",
            "_model_module_version": "1.5.0",
            "_model_name": "ButtonModel",
            "_view_count": null,
            "_view_module": "@jupyter-widgets/controls",
            "_view_module_version": "1.5.0",
            "_view_name": "ButtonView",
            "button_style": "",
            "description": "Login",
            "disabled": false,
            "icon": "",
            "layout": "IPY_MODEL_0d39a7ee86704c6b9d5bb3161c170cfc",
            "style": "IPY_MODEL_aa25d5e6890040ae82f661ef3e5a1be5",
            "tooltip": ""
          }
        },
        "4ee379bd04184e358cf06283beae99b1": {
          "model_module": "@jupyter-widgets/base",
          "model_module_version": "1.2.0",
          "model_name": "LayoutModel",
          "state": {
            "_model_module": "@jupyter-widgets/base",
            "_model_module_version": "1.2.0",
            "_model_name": "LayoutModel",
            "_view_count": null,
            "_view_module": "@jupyter-widgets/base",
            "_view_module_version": "1.2.0",
            "_view_name": "LayoutView",
            "align_content": null,
            "align_items": null,
            "align_self": null,
            "border": null,
            "bottom": null,
            "display": null,
            "flex": null,
            "flex_flow": null,
            "grid_area": null,
            "grid_auto_columns": null,
            "grid_auto_flow": null,
            "grid_auto_rows": null,
            "grid_column": null,
            "grid_gap": null,
            "grid_row": null,
            "grid_template_areas": null,
            "grid_template_columns": null,
            "grid_template_rows": null,
            "height": null,
            "justify_content": null,
            "justify_items": null,
            "left": null,
            "margin": null,
            "max_height": null,
            "max_width": null,
            "min_height": null,
            "min_width": null,
            "object_fit": null,
            "object_position": null,
            "order": null,
            "overflow": null,
            "overflow_x": null,
            "overflow_y": null,
            "padding": null,
            "right": null,
            "top": null,
            "visibility": null,
            "width": null
          }
        },
        "503f6504614d4b9fbce2fa325d09d833": {
          "model_module": "@jupyter-widgets/controls",
          "model_module_version": "1.5.0",
          "model_name": "DescriptionStyleModel",
          "state": {
            "_model_module": "@jupyter-widgets/controls",
            "_model_module_version": "1.5.0",
            "_model_name": "DescriptionStyleModel",
            "_view_count": null,
            "_view_module": "@jupyter-widgets/base",
            "_view_module_version": "1.2.0",
            "_view_name": "StyleView",
            "description_width": ""
          }
        },
        "5128b6b9446c41bb854eef3115d70f53": {
          "model_module": "@jupyter-widgets/controls",
          "model_module_version": "1.5.0",
          "model_name": "DescriptionStyleModel",
          "state": {
            "_model_module": "@jupyter-widgets/controls",
            "_model_module_version": "1.5.0",
            "_model_name": "DescriptionStyleModel",
            "_view_count": null,
            "_view_module": "@jupyter-widgets/base",
            "_view_module_version": "1.2.0",
            "_view_name": "StyleView",
            "description_width": ""
          }
        },
        "66653e919eb6478a8efa85fcc42e36ce": {
          "model_module": "@jupyter-widgets/controls",
          "model_module_version": "1.5.0",
          "model_name": "HBoxModel",
          "state": {
            "_dom_classes": [],
            "_model_module": "@jupyter-widgets/controls",
            "_model_module_version": "1.5.0",
            "_model_name": "HBoxModel",
            "_view_count": null,
            "_view_module": "@jupyter-widgets/controls",
            "_view_module_version": "1.5.0",
            "_view_name": "HBoxView",
            "box_style": "",
            "children": [
              "IPY_MODEL_9cb8346933464653af05bcd9fbe83a5c",
              "IPY_MODEL_226912dc58ab434da5e5d36e88dd0c8b",
              "IPY_MODEL_944adc08254c4f8bb9b37ca39051a936"
            ],
            "layout": "IPY_MODEL_ee933cc905ba4a0395d5cb859d596f3f"
          }
        },
        "7bc16583a045416a859c856271e9b8d0": {
          "model_module": "@jupyter-widgets/controls",
          "model_module_version": "1.5.0",
          "model_name": "HTMLModel",
          "state": {
            "_dom_classes": [],
            "_model_module": "@jupyter-widgets/controls",
            "_model_module_version": "1.5.0",
            "_model_name": "HTMLModel",
            "_view_count": null,
            "_view_module": "@jupyter-widgets/controls",
            "_view_module_version": "1.5.0",
            "_view_name": "HTMLView",
            "description": "",
            "description_tooltip": null,
            "layout": "IPY_MODEL_2a08eb0cb4de4f79a268f1b07e264aef",
            "placeholder": "​",
            "style": "IPY_MODEL_b68c19f544fc43c296be90f18767eaa0",
            "value": "<center> <img\nsrc=https://huggingface.co/front/assets/huggingface_logo-noborder.svg\nalt='Hugging Face'> <br> Copy a token from <a\nhref=\"https://huggingface.co/settings/tokens\" target=\"_blank\">your Hugging Face\ntokens page</a> and paste it below. <br> Immediately click login after copying\nyour token or it might be stored in plain text in this notebook file. </center>"
          }
        },
        "7d23ee860b9640b8affe65a0284165b3": {
          "model_module": "@jupyter-widgets/controls",
          "model_module_version": "1.5.0",
          "model_name": "VBoxModel",
          "state": {
            "_dom_classes": [],
            "_model_module": "@jupyter-widgets/controls",
            "_model_module_version": "1.5.0",
            "_model_name": "VBoxModel",
            "_view_count": null,
            "_view_module": "@jupyter-widgets/controls",
            "_view_module_version": "1.5.0",
            "_view_name": "VBoxView",
            "box_style": "",
            "children": [
              "IPY_MODEL_7bc16583a045416a859c856271e9b8d0",
              "IPY_MODEL_a23d782c869a4928b9922dd804640860",
              "IPY_MODEL_a028f028bbdc41f6a9bd4c7dd62fabbf",
              "IPY_MODEL_3b95b5ddee8c445da4b31949ff67b31a",
              "IPY_MODEL_8a622172de4c40a4807af0a6516c77f8"
            ],
            "layout": "IPY_MODEL_90faa04c1f254401b53b8575cd2ca6ec"
          }
        },
        "86a263741fbd48a3b4691040f1abeb3e": {
          "model_module": "@jupyter-widgets/base",
          "model_module_version": "1.2.0",
          "model_name": "LayoutModel",
          "state": {
            "_model_module": "@jupyter-widgets/base",
            "_model_module_version": "1.2.0",
            "_model_name": "LayoutModel",
            "_view_count": null,
            "_view_module": "@jupyter-widgets/base",
            "_view_module_version": "1.2.0",
            "_view_name": "LayoutView",
            "align_content": null,
            "align_items": null,
            "align_self": null,
            "border": null,
            "bottom": null,
            "display": null,
            "flex": null,
            "flex_flow": null,
            "grid_area": null,
            "grid_auto_columns": null,
            "grid_auto_flow": null,
            "grid_auto_rows": null,
            "grid_column": null,
            "grid_gap": null,
            "grid_row": null,
            "grid_template_areas": null,
            "grid_template_columns": null,
            "grid_template_rows": null,
            "height": null,
            "justify_content": null,
            "justify_items": null,
            "left": null,
            "margin": null,
            "max_height": null,
            "max_width": null,
            "min_height": null,
            "min_width": null,
            "object_fit": null,
            "object_position": null,
            "order": null,
            "overflow": null,
            "overflow_x": null,
            "overflow_y": null,
            "padding": null,
            "right": null,
            "top": null,
            "visibility": null,
            "width": null
          }
        },
        "8a622172de4c40a4807af0a6516c77f8": {
          "model_module": "@jupyter-widgets/controls",
          "model_module_version": "1.5.0",
          "model_name": "HTMLModel",
          "state": {
            "_dom_classes": [],
            "_model_module": "@jupyter-widgets/controls",
            "_model_module_version": "1.5.0",
            "_model_name": "HTMLModel",
            "_view_count": null,
            "_view_module": "@jupyter-widgets/controls",
            "_view_module_version": "1.5.0",
            "_view_name": "HTMLView",
            "description": "",
            "description_tooltip": null,
            "layout": "IPY_MODEL_86a263741fbd48a3b4691040f1abeb3e",
            "placeholder": "​",
            "style": "IPY_MODEL_dbbee6e212374e298681bcf3ba15fc4f",
            "value": "\n<b>Pro Tip:</b> If you don't already have one, you can create a dedicated\n'notebooks' token with 'write' access, that you can then easily reuse for all\nnotebooks. </center>"
          }
        },
        "90faa04c1f254401b53b8575cd2ca6ec": {
          "model_module": "@jupyter-widgets/base",
          "model_module_version": "1.2.0",
          "model_name": "LayoutModel",
          "state": {
            "_model_module": "@jupyter-widgets/base",
            "_model_module_version": "1.2.0",
            "_model_name": "LayoutModel",
            "_view_count": null,
            "_view_module": "@jupyter-widgets/base",
            "_view_module_version": "1.2.0",
            "_view_name": "LayoutView",
            "align_content": null,
            "align_items": "center",
            "align_self": null,
            "border": null,
            "bottom": null,
            "display": "flex",
            "flex": null,
            "flex_flow": "column",
            "grid_area": null,
            "grid_auto_columns": null,
            "grid_auto_flow": null,
            "grid_auto_rows": null,
            "grid_column": null,
            "grid_gap": null,
            "grid_row": null,
            "grid_template_areas": null,
            "grid_template_columns": null,
            "grid_template_rows": null,
            "height": null,
            "justify_content": null,
            "justify_items": null,
            "left": null,
            "margin": null,
            "max_height": null,
            "max_width": null,
            "min_height": null,
            "min_width": null,
            "object_fit": null,
            "object_position": null,
            "order": null,
            "overflow": null,
            "overflow_x": null,
            "overflow_y": null,
            "padding": null,
            "right": null,
            "top": null,
            "visibility": null,
            "width": "50%"
          }
        },
        "944adc08254c4f8bb9b37ca39051a936": {
          "model_module": "@jupyter-widgets/controls",
          "model_module_version": "1.5.0",
          "model_name": "HTMLModel",
          "state": {
            "_dom_classes": [],
            "_model_module": "@jupyter-widgets/controls",
            "_model_module_version": "1.5.0",
            "_model_name": "HTMLModel",
            "_view_count": null,
            "_view_module": "@jupyter-widgets/controls",
            "_view_module_version": "1.5.0",
            "_view_name": "HTMLView",
            "description": "",
            "description_tooltip": null,
            "layout": "IPY_MODEL_4ee379bd04184e358cf06283beae99b1",
            "placeholder": "​",
            "style": "IPY_MODEL_5128b6b9446c41bb854eef3115d70f53",
            "value": " 4/4 [01:09&lt;00:00, 14.89s/it]"
          }
        },
        "9cb8346933464653af05bcd9fbe83a5c": {
          "model_module": "@jupyter-widgets/controls",
          "model_module_version": "1.5.0",
          "model_name": "HTMLModel",
          "state": {
            "_dom_classes": [],
            "_model_module": "@jupyter-widgets/controls",
            "_model_module_version": "1.5.0",
            "_model_name": "HTMLModel",
            "_view_count": null,
            "_view_module": "@jupyter-widgets/controls",
            "_view_module_version": "1.5.0",
            "_view_name": "HTMLView",
            "description": "",
            "description_tooltip": null,
            "layout": "IPY_MODEL_e1c16dfa6d8f4854aa7dedf086748e91",
            "placeholder": "​",
            "style": "IPY_MODEL_dd4221bd59ed43539d3ba1d7c9acaccc",
            "value": "Loading checkpoint shards: 100%"
          }
        },
        "a028f028bbdc41f6a9bd4c7dd62fabbf": {
          "model_module": "@jupyter-widgets/controls",
          "model_module_version": "1.5.0",
          "model_name": "CheckboxModel",
          "state": {
            "_dom_classes": [],
            "_model_module": "@jupyter-widgets/controls",
            "_model_module_version": "1.5.0",
            "_model_name": "CheckboxModel",
            "_view_count": null,
            "_view_module": "@jupyter-widgets/controls",
            "_view_module_version": "1.5.0",
            "_view_name": "CheckboxView",
            "description": "Add token as git credential?",
            "description_tooltip": null,
            "disabled": false,
            "indent": true,
            "layout": "IPY_MODEL_0ec98ac0a09f4652866a397442150c5c",
            "style": "IPY_MODEL_f0f7767957e44c14be6baa5635e5439f",
            "value": true
          }
        },
        "a23d782c869a4928b9922dd804640860": {
          "model_module": "@jupyter-widgets/controls",
          "model_module_version": "1.5.0",
          "model_name": "PasswordModel",
          "state": {
            "_dom_classes": [],
            "_model_module": "@jupyter-widgets/controls",
            "_model_module_version": "1.5.0",
            "_model_name": "PasswordModel",
            "_view_count": null,
            "_view_module": "@jupyter-widgets/controls",
            "_view_module_version": "1.5.0",
            "_view_name": "PasswordView",
            "continuous_update": true,
            "description": "Token:",
            "description_tooltip": null,
            "disabled": false,
            "layout": "IPY_MODEL_f15d18b04ab4483c8ae187a891a627c2",
            "placeholder": "​",
            "style": "IPY_MODEL_503f6504614d4b9fbce2fa325d09d833",
            "value": ""
          }
        },
        "aa25d5e6890040ae82f661ef3e5a1be5": {
          "model_module": "@jupyter-widgets/controls",
          "model_module_version": "1.5.0",
          "model_name": "ButtonStyleModel",
          "state": {
            "_model_module": "@jupyter-widgets/controls",
            "_model_module_version": "1.5.0",
            "_model_name": "ButtonStyleModel",
            "_view_count": null,
            "_view_module": "@jupyter-widgets/base",
            "_view_module_version": "1.2.0",
            "_view_name": "StyleView",
            "button_color": null,
            "font_weight": ""
          }
        },
        "b68c19f544fc43c296be90f18767eaa0": {
          "model_module": "@jupyter-widgets/controls",
          "model_module_version": "1.5.0",
          "model_name": "DescriptionStyleModel",
          "state": {
            "_model_module": "@jupyter-widgets/controls",
            "_model_module_version": "1.5.0",
            "_model_name": "DescriptionStyleModel",
            "_view_count": null,
            "_view_module": "@jupyter-widgets/base",
            "_view_module_version": "1.2.0",
            "_view_name": "StyleView",
            "description_width": ""
          }
        },
        "dbbee6e212374e298681bcf3ba15fc4f": {
          "model_module": "@jupyter-widgets/controls",
          "model_module_version": "1.5.0",
          "model_name": "DescriptionStyleModel",
          "state": {
            "_model_module": "@jupyter-widgets/controls",
            "_model_module_version": "1.5.0",
            "_model_name": "DescriptionStyleModel",
            "_view_count": null,
            "_view_module": "@jupyter-widgets/base",
            "_view_module_version": "1.2.0",
            "_view_name": "StyleView",
            "description_width": ""
          }
        },
        "dd4221bd59ed43539d3ba1d7c9acaccc": {
          "model_module": "@jupyter-widgets/controls",
          "model_module_version": "1.5.0",
          "model_name": "DescriptionStyleModel",
          "state": {
            "_model_module": "@jupyter-widgets/controls",
            "_model_module_version": "1.5.0",
            "_model_name": "DescriptionStyleModel",
            "_view_count": null,
            "_view_module": "@jupyter-widgets/base",
            "_view_module_version": "1.2.0",
            "_view_name": "StyleView",
            "description_width": ""
          }
        },
        "e1c16dfa6d8f4854aa7dedf086748e91": {
          "model_module": "@jupyter-widgets/base",
          "model_module_version": "1.2.0",
          "model_name": "LayoutModel",
          "state": {
            "_model_module": "@jupyter-widgets/base",
            "_model_module_version": "1.2.0",
            "_model_name": "LayoutModel",
            "_view_count": null,
            "_view_module": "@jupyter-widgets/base",
            "_view_module_version": "1.2.0",
            "_view_name": "LayoutView",
            "align_content": null,
            "align_items": null,
            "align_self": null,
            "border": null,
            "bottom": null,
            "display": null,
            "flex": null,
            "flex_flow": null,
            "grid_area": null,
            "grid_auto_columns": null,
            "grid_auto_flow": null,
            "grid_auto_rows": null,
            "grid_column": null,
            "grid_gap": null,
            "grid_row": null,
            "grid_template_areas": null,
            "grid_template_columns": null,
            "grid_template_rows": null,
            "height": null,
            "justify_content": null,
            "justify_items": null,
            "left": null,
            "margin": null,
            "max_height": null,
            "max_width": null,
            "min_height": null,
            "min_width": null,
            "object_fit": null,
            "object_position": null,
            "order": null,
            "overflow": null,
            "overflow_x": null,
            "overflow_y": null,
            "padding": null,
            "right": null,
            "top": null,
            "visibility": null,
            "width": null
          }
        },
        "ee933cc905ba4a0395d5cb859d596f3f": {
          "model_module": "@jupyter-widgets/base",
          "model_module_version": "1.2.0",
          "model_name": "LayoutModel",
          "state": {
            "_model_module": "@jupyter-widgets/base",
            "_model_module_version": "1.2.0",
            "_model_name": "LayoutModel",
            "_view_count": null,
            "_view_module": "@jupyter-widgets/base",
            "_view_module_version": "1.2.0",
            "_view_name": "LayoutView",
            "align_content": null,
            "align_items": null,
            "align_self": null,
            "border": null,
            "bottom": null,
            "display": null,
            "flex": null,
            "flex_flow": null,
            "grid_area": null,
            "grid_auto_columns": null,
            "grid_auto_flow": null,
            "grid_auto_rows": null,
            "grid_column": null,
            "grid_gap": null,
            "grid_row": null,
            "grid_template_areas": null,
            "grid_template_columns": null,
            "grid_template_rows": null,
            "height": null,
            "justify_content": null,
            "justify_items": null,
            "left": null,
            "margin": null,
            "max_height": null,
            "max_width": null,
            "min_height": null,
            "min_width": null,
            "object_fit": null,
            "object_position": null,
            "order": null,
            "overflow": null,
            "overflow_x": null,
            "overflow_y": null,
            "padding": null,
            "right": null,
            "top": null,
            "visibility": null,
            "width": null
          }
        },
        "f0eb8be25ee040108e176ddc066a475c": {
          "model_module": "@jupyter-widgets/base",
          "model_module_version": "1.2.0",
          "model_name": "LayoutModel",
          "state": {
            "_model_module": "@jupyter-widgets/base",
            "_model_module_version": "1.2.0",
            "_model_name": "LayoutModel",
            "_view_count": null,
            "_view_module": "@jupyter-widgets/base",
            "_view_module_version": "1.2.0",
            "_view_name": "LayoutView",
            "align_content": null,
            "align_items": null,
            "align_self": null,
            "border": null,
            "bottom": null,
            "display": null,
            "flex": null,
            "flex_flow": null,
            "grid_area": null,
            "grid_auto_columns": null,
            "grid_auto_flow": null,
            "grid_auto_rows": null,
            "grid_column": null,
            "grid_gap": null,
            "grid_row": null,
            "grid_template_areas": null,
            "grid_template_columns": null,
            "grid_template_rows": null,
            "height": null,
            "justify_content": null,
            "justify_items": null,
            "left": null,
            "margin": null,
            "max_height": null,
            "max_width": null,
            "min_height": null,
            "min_width": null,
            "object_fit": null,
            "object_position": null,
            "order": null,
            "overflow": null,
            "overflow_x": null,
            "overflow_y": null,
            "padding": null,
            "right": null,
            "top": null,
            "visibility": null,
            "width": null
          }
        },
        "f0f7767957e44c14be6baa5635e5439f": {
          "model_module": "@jupyter-widgets/controls",
          "model_module_version": "1.5.0",
          "model_name": "DescriptionStyleModel",
          "state": {
            "_model_module": "@jupyter-widgets/controls",
            "_model_module_version": "1.5.0",
            "_model_name": "DescriptionStyleModel",
            "_view_count": null,
            "_view_module": "@jupyter-widgets/base",
            "_view_module_version": "1.2.0",
            "_view_name": "StyleView",
            "description_width": ""
          }
        },
        "f15d18b04ab4483c8ae187a891a627c2": {
          "model_module": "@jupyter-widgets/base",
          "model_module_version": "1.2.0",
          "model_name": "LayoutModel",
          "state": {
            "_model_module": "@jupyter-widgets/base",
            "_model_module_version": "1.2.0",
            "_model_name": "LayoutModel",
            "_view_count": null,
            "_view_module": "@jupyter-widgets/base",
            "_view_module_version": "1.2.0",
            "_view_name": "LayoutView",
            "align_content": null,
            "align_items": null,
            "align_self": null,
            "border": null,
            "bottom": null,
            "display": null,
            "flex": null,
            "flex_flow": null,
            "grid_area": null,
            "grid_auto_columns": null,
            "grid_auto_flow": null,
            "grid_auto_rows": null,
            "grid_column": null,
            "grid_gap": null,
            "grid_row": null,
            "grid_template_areas": null,
            "grid_template_columns": null,
            "grid_template_rows": null,
            "height": null,
            "justify_content": null,
            "justify_items": null,
            "left": null,
            "margin": null,
            "max_height": null,
            "max_width": null,
            "min_height": null,
            "min_width": null,
            "object_fit": null,
            "object_position": null,
            "order": null,
            "overflow": null,
            "overflow_x": null,
            "overflow_y": null,
            "padding": null,
            "right": null,
            "top": null,
            "visibility": null,
            "width": null
          }
        },
        "f6659c3b5b144251942d182092a37102": {
          "model_module": "@jupyter-widgets/controls",
          "model_module_version": "1.5.0",
          "model_name": "ProgressStyleModel",
          "state": {
            "_model_module": "@jupyter-widgets/controls",
            "_model_module_version": "1.5.0",
            "_model_name": "ProgressStyleModel",
            "_view_count": null,
            "_view_module": "@jupyter-widgets/base",
            "_view_module_version": "1.2.0",
            "_view_name": "StyleView",
            "bar_color": null,
            "description_width": ""
          }
        }
      }
    }
  },
  "nbformat": 4,
  "nbformat_minor": 0
}
